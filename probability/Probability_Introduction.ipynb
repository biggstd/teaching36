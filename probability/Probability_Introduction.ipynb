{
 "cells": [
  {
   "cell_type": "markdown",
   "metadata": {},
   "source": [
    "#  Probabilty Introduction\n",
    "\n",
    "Inspired from Norvigs [notebooks](https://github.com/norvig/pytudes/blob/master/ipynb/Probability.ipynb).\n",
    "\n",
    "TODO:\n",
    "\n",
    "    + Update to python 3.\n",
    "    + Write to be more legible, Norvig uses short hand ubiquitously."
   ]
  },
  {
   "cell_type": "code",
   "execution_count": 3,
   "metadata": {
    "collapsed": true
   },
   "outputs": [],
   "source": [
    "# Import fractions from the standard library.\n",
    "# This allows us to work with rational numbers."
   ]
  },
  {
   "cell_type": "code",
   "execution_count": 4,
   "metadata": {
    "collapsed": true
   },
   "outputs": [],
   "source": [
    "from fractions import Fraction\n",
    "import random"
   ]
  },
  {
   "cell_type": "markdown",
   "metadata": {},
   "source": [
    "## Create Probability function"
   ]
  },
  {
   "cell_type": "code",
   "execution_count": 5,
   "metadata": {
    "collapsed": true
   },
   "outputs": [],
   "source": [
    "def prob_frac(event, space):\n",
    "    \"\"\"\n",
    "    Returns the probability of an event in a space. This\n",
    "    assumes all events have the same probability of\n",
    "    occuring.\n",
    "    \n",
    "    The entries must be sets.\n",
    "    \n",
    "    :param event:\n",
    "        A set of variables.\n",
    "        \n",
    "    :param space:\n",
    "        A set of variables.\n",
    "        \n",
    "    :returns:\n",
    "        A calculated probability fraction of all events\n",
    "        provided that are in the space provided.\n",
    "    \"\"\"\n",
    "    # `event & space` ensures that the items in event\n",
    "    # are only counted if they are also in `space`.\n",
    "    return Fraction(len(event & space), len(space))"
   ]
  },
  {
   "cell_type": "markdown",
   "metadata": {},
   "source": [
    "### Rolling Dice"
   ]
  },
  {
   "cell_type": "code",
   "execution_count": 6,
   "metadata": {
    "collapsed": true
   },
   "outputs": [],
   "source": [
    "# Set notation.\n",
    "D =    {1, 2, 3, 4, 5, 6}\n",
    "even = {   2,    4,    6}\n",
    "odd =  {1,    3,    5   }"
   ]
  },
  {
   "cell_type": "code",
   "execution_count": 7,
   "metadata": {},
   "outputs": [
    {
     "data": {
      "text/plain": [
       "Fraction(1, 2)"
      ]
     },
     "execution_count": 7,
     "metadata": {},
     "output_type": "execute_result"
    }
   ],
   "source": [
    "prob_frac(even, D)"
   ]
  },
  {
   "cell_type": "markdown",
   "metadata": {},
   "source": [
    "# Creating Data\n",
    "\n",
    "We need a way to easily create list data.\n",
    "\n",
    "#### Interacting with sets\n",
    "\n",
    "```\n",
    "len(s)\n",
    "```\n",
    "Return the number of elements in set s (cardinality of s).\n",
    "\n",
    "```\n",
    "x in s\n",
    "```\n",
    "Test x for membership in s.\n",
    "\n",
    "```\n",
    "x not in s\n",
    "```\n",
    "Test x for non-membership in s.\n",
    "\n",
    "```\n",
    "isdisjoint(other)\n",
    "```\n",
    "Return True if the set has no elements in common with other. Sets are disjoint if and only if their intersection is the empty set.\n",
    "\n",
    "```\n",
    "issubset(other)\n",
    "set <= other\n",
    "```\n",
    "Test whether every element in the set is in other.\n",
    "\n",
    "```\n",
    "set < other\n",
    "```\n",
    "Test whether the set is a proper subset of other, that is, set <= other and set != other.\n",
    "\n",
    "```\n",
    "issuperset(other)\n",
    "set >= other\n",
    "```\n",
    "Test whether every element in other is in the set.\n",
    "\n",
    "```\n",
    "set > other\n",
    "```\n",
    "Test whether the set is a proper superset of other, that is, set >= other and set != other.\n",
    "\n",
    "```\n",
    "union(*others)\n",
    "set | other | ...\n",
    "```\n",
    "Return a new set with elements from the set and all others.\n",
    "\n",
    "```\n",
    "intersection(*others)\n",
    "set & other & ...\n",
    "```\n",
    "Return a new set with elements common to the set and all others.\n",
    "\n",
    "```\n",
    "difference(*others)\n",
    "set - other - ...\n",
    "```\n",
    "Return a new set with elements in the set that are not in the others.\n",
    "\n",
    "```\n",
    "symmetric_difference(other)\n",
    "set ^ other\n",
    "```\n",
    "\n",
    "Return a new set with elements in either the set or other but not both.\n",
    "\n"
   ]
  },
  {
   "cell_type": "code",
   "execution_count": 8,
   "metadata": {
    "collapsed": true
   },
   "outputs": [],
   "source": [
    "def cross(A, B):\n",
    "    \"\"\"\n",
    "    Concatentate all items in A with all items in B.\n",
    "    \"\"\"\n",
    "    return {a + b for a in A for b in B}"
   ]
  },
  {
   "cell_type": "code",
   "execution_count": 9,
   "metadata": {},
   "outputs": [
    {
     "data": {
      "text/plain": [
       "52"
      ]
     },
     "execution_count": 9,
     "metadata": {},
     "output_type": "execute_result"
    }
   ],
   "source": [
    "suits = 'SHDC'\n",
    "cards = 'A23456789TJQK'\n",
    "deck  = cross(cards, suits)\n",
    "len(deck)"
   ]
  },
  {
   "cell_type": "markdown",
   "metadata": {},
   "source": [
    "### Draw N number of random cards"
   ]
  },
  {
   "cell_type": "code",
   "execution_count": 10,
   "metadata": {
    "collapsed": true
   },
   "outputs": [],
   "source": [
    "import itertools\n",
    "\n",
    "def combos(items, n):\n",
    "    \"All combinations of n items; each combo as a concatenated string.\"\n",
    "    return {' '.join(combo) \n",
    "            for combo in itertools.combinations(items, n)}"
   ]
  },
  {
   "cell_type": "code",
   "execution_count": 11,
   "metadata": {
    "collapsed": true
   },
   "outputs": [],
   "source": [
    "# Create all possible hands.\n",
    "hands = combos(deck, 5)"
   ]
  },
  {
   "cell_type": "code",
   "execution_count": 17,
   "metadata": {},
   "outputs": [
    {
     "name": "stdout",
     "output_type": "stream",
     "text": [
      "['QC 8H 2H 7H JS', '3D 4H 3S AC 9S', 'KH 9D QH 4D 9S', 'KS QC KH 8H QH', 'KS 5H 8S 3C 9C']\n"
     ]
    }
   ],
   "source": [
    "# Draw five random hands!\n",
    "five_hands = random.sample(hands, 5)\n",
    "print(five_hands)"
   ]
  },
  {
   "cell_type": "markdown",
   "metadata": {},
   "source": [
    "### Examine the Cards within a Hand "
   ]
  },
  {
   "cell_type": "code",
   "execution_count": 35,
   "metadata": {},
   "outputs": [
    {
     "data": {
      "text/plain": [
       "5148"
      ]
     },
     "execution_count": 35,
     "metadata": {},
     "output_type": "execute_result"
    }
   ],
   "source": [
    "def flush(hand):\n",
    "    return any([hand.count(suit) == 5 for suit in suits])\n",
    "\n",
    "# In python True is equal to one. So the number of flush hands is:\n",
    "sum([flush(h) for h in hands])"
   ]
  },
  {
   "cell_type": "code",
   "execution_count": 36,
   "metadata": {},
   "outputs": [
    {
     "ename": "MemoryError",
     "evalue": "",
     "output_type": "error",
     "traceback": [
      "\u001b[1;31m---------------------------------------------------------------------------\u001b[0m",
      "\u001b[1;31mMemoryError\u001b[0m                               Traceback (most recent call last)",
      "\u001b[1;32m<ipython-input-36-b40e42d16877>\u001b[0m in \u001b[0;36m<module>\u001b[1;34m()\u001b[0m\n\u001b[0;32m      1\u001b[0m \u001b[1;31m# Therefore the probability of a flush is:\u001b[0m\u001b[1;33m\u001b[0m\u001b[1;33m\u001b[0m\u001b[0m\n\u001b[1;32m----> 2\u001b[1;33m \u001b[0mprob_frac\u001b[0m\u001b[1;33m(\u001b[0m\u001b[0msum\u001b[0m\u001b[1;33m(\u001b[0m\u001b[1;33m[\u001b[0m\u001b[0mflush\u001b[0m\u001b[1;33m(\u001b[0m\u001b[0mh\u001b[0m\u001b[1;33m)\u001b[0m \u001b[1;32mfor\u001b[0m \u001b[0mh\u001b[0m \u001b[1;32min\u001b[0m \u001b[0mhands\u001b[0m\u001b[1;33m]\u001b[0m\u001b[1;33m)\u001b[0m\u001b[1;33m,\u001b[0m \u001b[0mcombos\u001b[0m\u001b[1;33m(\u001b[0m\u001b[0mhands\u001b[0m\u001b[1;33m,\u001b[0m \u001b[1;36m5\u001b[0m\u001b[1;33m)\u001b[0m\u001b[1;33m)\u001b[0m\u001b[1;33m\u001b[0m\u001b[0m\n\u001b[0m",
      "\u001b[1;32m<ipython-input-10-a20715356061>\u001b[0m in \u001b[0;36mcombos\u001b[1;34m(items, n)\u001b[0m\n\u001b[0;32m      4\u001b[0m     \u001b[1;34m\"All combinations of n items; each combo as a concatenated str.\"\u001b[0m\u001b[1;33m\u001b[0m\u001b[0m\n\u001b[0;32m      5\u001b[0m     return {' '.join(combo) \n\u001b[1;32m----> 6\u001b[1;33m             for combo in itertools.combinations(items, n)}\n\u001b[0m",
      "\u001b[1;32m<ipython-input-10-a20715356061>\u001b[0m in \u001b[0;36m<setcomp>\u001b[1;34m(.0)\u001b[0m\n\u001b[0;32m      4\u001b[0m     \u001b[1;34m\"All combinations of n items; each combo as a concatenated str.\"\u001b[0m\u001b[1;33m\u001b[0m\u001b[0m\n\u001b[0;32m      5\u001b[0m     return {' '.join(combo) \n\u001b[1;32m----> 6\u001b[1;33m             for combo in itertools.combinations(items, n)}\n\u001b[0m",
      "\u001b[1;31mMemoryError\u001b[0m: "
     ]
    }
   ],
   "source": [
    "# Therefore the probability of a flush is:\n",
    "prob_frac(sum([flush(h) for h in hands]), combos(hands, 5))"
   ]
  },
  {
   "cell_type": "markdown",
   "metadata": {},
   "source": [
    "# Problems"
   ]
  },
  {
   "cell_type": "markdown",
   "metadata": {
    "collapsed": true
   },
   "source": [
    "## Re-create classical urn problems"
   ]
  },
  {
   "cell_type": "markdown",
   "metadata": {},
   "source": [
    "## Create a Deck of cards"
   ]
  },
  {
   "cell_type": "code",
   "execution_count": null,
   "metadata": {
    "collapsed": true
   },
   "outputs": [],
   "source": []
  },
  {
   "cell_type": "code",
   "execution_count": null,
   "metadata": {
    "collapsed": true
   },
   "outputs": [],
   "source": []
  }
 ],
 "metadata": {
  "kernelspec": {
   "display_name": "Python 3",
   "language": "python",
   "name": "python3"
  },
  "language_info": {
   "codemirror_mode": {
    "name": "ipython",
    "version": 3
   },
   "file_extension": ".py",
   "mimetype": "text/x-python",
   "name": "python",
   "nbconvert_exporter": "python",
   "pygments_lexer": "ipython3",
   "version": "3.6.2"
  }
 },
 "nbformat": 4,
 "nbformat_minor": 2
}
