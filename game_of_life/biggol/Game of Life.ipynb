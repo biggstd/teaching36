{
 "cells": [
  {
   "cell_type": "code",
   "execution_count": 4,
   "metadata": {
    "collapsed": true
   },
   "outputs": [],
   "source": [
    "# If we want to re-load a *.py file we modified without\n",
    "# restarting the jupyter kernel, these lines must be\n",
    "# included. They need only be run once per session.\n",
    "%load_ext autoreload\n",
    "%autoreload 2"
   ]
  },
  {
   "cell_type": "code",
   "execution_count": 6,
   "metadata": {},
   "outputs": [
    {
     "data": {
      "text/plain": [
       "'C:\\\\Users\\\\Tyler\\\\git\\\\teaching36\\\\game_of_life\\\\biggol'"
      ]
     },
     "execution_count": 6,
     "metadata": {},
     "output_type": "execute_result"
    }
   ],
   "source": [
    "# Print the current working directory.\n",
    "%pwd"
   ]
  },
  {
   "cell_type": "code",
   "execution_count": 130,
   "metadata": {
    "collapsed": true
   },
   "outputs": [],
   "source": [
    "import numpy as np\n",
    "import time"
   ]
  },
  {
   "cell_type": "code",
   "execution_count": 137,
   "metadata": {},
   "outputs": [],
   "source": [
    "# Import classes and functionsn from our Python module.\n",
    "# from bigggol import Cell, test_cell_class, Grid\n",
    "\n",
    "# We could import everything defined in the module with:\n",
    "from bigggol import *"
   ]
  },
  {
   "cell_type": "code",
   "execution_count": 138,
   "metadata": {},
   "outputs": [
    {
     "name": "stdout",
     "output_type": "stream",
     "text": [
      "x: 1, y: 1, state: 1.\n"
     ]
    }
   ],
   "source": [
    "# Call the test function.\n",
    "test_cell_class()"
   ]
  },
  {
   "cell_type": "code",
   "execution_count": 139,
   "metadata": {
    "collapsed": true
   },
   "outputs": [],
   "source": [
    "test_grid = Grid()"
   ]
  },
  {
   "cell_type": "code",
   "execution_count": 140,
   "metadata": {
    "collapsed": true
   },
   "outputs": [],
   "source": [
    "test_grid.set_cell_state(3,4,1)"
   ]
  },
  {
   "cell_type": "code",
   "execution_count": 141,
   "metadata": {},
   "outputs": [
    {
     "name": "stdout",
     "output_type": "stream",
     "text": [
      ". . . . . . . . . . . . . . . . . . . . \n",
      ". . . . . . . . . . . . . . . . . . . . \n",
      ". . . . . . . . . . . . . . . . . . . . \n",
      ". . . . % . . . . . . . . . . . . . . . \n",
      ". . . . . . . . . . . . . . . . . . . . \n",
      ". . . . . . . . . . . . . . . . . . . . \n",
      ". . . . . . . . . . . . . . . . . . . . \n",
      ". . . . . . . . . . . . . . . . . . . . \n",
      ". . . . . . . . . . . . . . . . . . . . \n",
      ". . . . . . . . . . . . . . . . . . . . \n",
      ". . . . . . . . . . . . . . . . . . . . \n",
      ". . . . . . . . . . . . . . . . . . . . \n",
      ". . . . . . . . . . . . . . . . . . . . \n",
      ". . . . . . . . . . . . . . . . . . . . \n",
      ". . . . . . . . . . . . . . . . . . . . \n"
     ]
    }
   ],
   "source": [
    "test_grid.print_grid()"
   ]
  },
  {
   "cell_type": "markdown",
   "metadata": {},
   "source": [
    "## I want to see it in the notebook..."
   ]
  },
  {
   "cell_type": "code",
   "execution_count": 142,
   "metadata": {
    "collapsed": true
   },
   "outputs": [],
   "source": [
    "# http://ipython.org/ipython-doc/dev/api/generated/IPython.display.html#IPython.display.clear_output\n",
    "from IPython.display import clear_output"
   ]
  },
  {
   "cell_type": "code",
   "execution_count": 173,
   "metadata": {
    "collapsed": true
   },
   "outputs": [],
   "source": [
    "# Overload my print_grid() function in a new class!\n",
    "class NotebookGrid(Grid):\n",
    "    \"\"\"A child class of Grid.\"\"\"\n",
    "    def print_grid(self):\n",
    "        \"\"\"Prints the grid to the notebook.\"\"\"\n",
    "        # Declare some variables for printing.\n",
    "        PAD = ' '\n",
    "        CELL_DISPLAY = { # http://jrgraphix.net/r/Unicode/2600-26FF\n",
    "#             1: '⚪',\n",
    "#             1: u'\\u269B',\n",
    "            1: u'\\u2609',\n",
    "            0: '  ',\n",
    "        }\n",
    "        # Create a list to hold rows to print.\n",
    "        row_list = list()\n",
    "\n",
    "        # Create each row to be printed.\n",
    "        for x in range(self.rows):\n",
    "\n",
    "            row_string = str()\n",
    "\n",
    "            for y in range(self.cols):\n",
    "                # Get the Cell at the current index, and call\n",
    "                # its state property getter like it is an attribute.\n",
    "                row_string += CELL_DISPLAY[self.grid[x][y].state]# + PAD\n",
    "\n",
    "            # Add the row to the row list.\n",
    "            row_list.append(row_string)\n",
    "\n",
    "        # Clear the notebooks current output!\n",
    "        # Join the items in row_list by a new line character, and return it.\n",
    "        print('\\n'.join(row for row in row_list))\n",
    "        clear_output(wait=True)\n",
    "\n",
    "        time.sleep(0.05)"
   ]
  },
  {
   "cell_type": "code",
   "execution_count": 174,
   "metadata": {},
   "outputs": [
    {
     "name": "stdout",
     "output_type": "stream",
     "text": [
      "                                                                                                                                                                \n",
      "                                                                                                                                                                \n",
      "                                                                                                                                                                \n",
      "                                                                                                                                                                \n",
      "                                                                                                                                                                \n",
      "                                                                                                                                                                \n",
      "                                                                                                                                                                \n",
      "                                                                                                                                                                \n",
      "                                                                                                          ☉☉                                                  \n",
      "                                                                                                      ☉☉☉☉                                                  \n",
      "                                                                                      ☉              ☉☉☉☉☉☉                                              \n",
      "                                                                                  ☉☉☉☉☉      ☉☉☉☉☉☉☉  ☉  ☉  ☉  ☉  ☉                            \n",
      "                                                                                ☉  ☉☉☉  ☉  ☉  ☉  ☉  ☉☉☉☉☉☉☉☉☉☉☉☉☉☉                        \n",
      "                                                                            ☉☉☉☉☉☉☉☉☉☉☉☉☉☉☉☉☉  ☉☉☉☉  ☉☉☉  ☉☉☉                        \n",
      "                                                                            ☉☉☉☉  ☉  ☉☉☉☉  ☉☉☉  ☉☉☉☉☉☉☉☉☉☉☉☉☉☉☉☉  ☉☉☉            \n",
      "                                                                          ☉☉☉☉  ☉☉☉☉☉☉☉☉☉☉☉☉☉☉☉  ☉  ☉☉  ☉  ☉☉    ☉☉☉☉☉            \n",
      "                                                                          ☉☉☉☉  ☉☉☉☉☉☉☉☉☉☉☉☉☉☉☉☉☉☉☉  ☉☉☉☉☉  ☉☉☉☉☉  ☉          \n",
      "                                                                                ☉☉☉☉☉☉☉  ☉☉☉  ☉☉☉☉☉  ☉☉☉  ☉☉☉☉  ☉☉☉☉  ☉☉☉  ☉      \n",
      "                                                                          ☉☉☉☉☉☉☉☉☉☉☉☉☉☉  ☉  ☉☉☉☉☉☉☉☉☉☉☉☉☉☉☉☉☉☉☉  ☉☉☉☉☉  \n",
      "                                                                          ☉☉☉☉☉☉☉☉  ☉  ☉  ☉☉☉☉☉  ☉☉☉☉☉☉☉☉☉☉☉☉☉☉☉  ☉☉☉  ☉☉☉  \n",
      "                                                                            ☉☉☉☉  ☉☉☉☉☉☉☉☉☉☉  ☉☉☉☉  ☉☉☉☉☉  ☉☉☉☉  ☉☉☉  ☉☉☉☉☉  \n",
      "                                                                          ☉☉☉☉☉☉☉☉☉☉☉☉☉  ☉☉☉☉  ☉☉☉☉  ☉☉☉☉  ☉☉☉☉☉☉☉☉☉☉☉☉☉  \n",
      "                                                                            ☉  ☉  ☉☉  ☉  ☉☉☉☉☉☉☉☉☉☉  ☉☉☉☉  ☉☉☉  ☉☉☉  ☉☉☉☉☉☉☉☉  \n",
      "                                                                          ☉☉☉☉☉☉☉☉☉☉☉☉☉☉    ☉☉☉☉☉☉  ☉☉☉☉☉☉☉  ☉☉☉☉☉☉☉☉  ☉☉  \n",
      "                                                                        ☉  ☉☉☉☉☉  ☉  ☉  ☉☉☉☉  ☉☉☉  ☉☉☉☉☉  ☉☉☉☉☉  ☉  ☉  ☉☉☉☉☉    \n",
      "                                                                        ☉☉☉☉☉  ☉☉☉☉☉☉☉☉☉☉☉☉☉☉☉☉  ☉☉☉☉☉  ☉☉☉☉☉☉☉☉☉  ☉        \n",
      "                                                                      ☉☉☉☉☉☉☉☉    ☉  ☉☉☉☉☉☉  ☉☉☉☉☉☉  ☉  ☉☉☉☉☉☉  ☉                  \n",
      "                                                                        ☉☉☉☉  ☉  ☉☉☉☉☉☉☉  ☉☉  ☉☉☉☉  ☉☉☉☉☉☉  ☉☉☉☉☉☉                \n",
      "                                                                        ☉☉☉☉☉☉☉☉☉☉☉☉☉☉☉☉☉☉  ☉☉☉☉☉☉☉☉☉  ☉☉☉☉☉☉☉                \n",
      "                                                                                                                                                                \n"
     ]
    }
   ],
   "source": [
    "gofl = NotebookGrid(30, 80)\n",
    "gofl.set_cell_state(14, 40, 1)\n",
    "gofl.set_cell_state(15, 42, 1)\n",
    "gofl.set_cell_state(16, 39, 1)\n",
    "gofl.set_cell_state(16, 40, 1)\n",
    "gofl.set_cell_state(16, 43, 1)\n",
    "gofl.set_cell_state(16, 44, 1)\n",
    "gofl.set_cell_state(16, 45, 1)\n",
    "gofl.play(100)"
   ]
  },
  {
   "cell_type": "code",
   "execution_count": null,
   "metadata": {
    "collapsed": true
   },
   "outputs": [],
   "source": []
  },
  {
   "cell_type": "code",
   "execution_count": null,
   "metadata": {
    "collapsed": true
   },
   "outputs": [],
   "source": []
  }
 ],
 "metadata": {
  "kernelspec": {
   "display_name": "Python 3",
   "language": "python",
   "name": "python3"
  },
  "language_info": {
   "codemirror_mode": {
    "name": "ipython",
    "version": 3
   },
   "file_extension": ".py",
   "mimetype": "text/x-python",
   "name": "python",
   "nbconvert_exporter": "python",
   "pygments_lexer": "ipython3",
   "version": "3.6.3"
  }
 },
 "nbformat": 4,
 "nbformat_minor": 2
}
