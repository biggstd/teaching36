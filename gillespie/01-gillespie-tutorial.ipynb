{
 "cells": [
  {
   "cell_type": "markdown",
   "metadata": {},
   "source": [
    "# A Walkthrough of *Exact Stochastic Simulation of Coupled Chemical Reactions* By Danlel T. Gillespie\n",
    "\n",
    "## Part 1 - Introduction to plotting in Python\n",
    "\n",
    "### Learning Goals of Part 1\n",
    "\n",
    "Our goal for part 1 will be to simply plot a known function in Python. At the end of this section we should be able to write and plot the exponential decay function.\n",
    "\n",
    "*by Tyler Biggs*"
   ]
  },
  {
   "cell_type": "markdown",
   "metadata": {},
   "source": [
    "Begin with importing numpy, a math package for python, and matplotlib for plotting the data."
   ]
  },
  {
   "cell_type": "code",
   "execution_count": 1,
   "metadata": {
    "collapsed": true
   },
   "outputs": [],
   "source": [
    "import numpy as np"
   ]
  },
  {
   "cell_type": "code",
   "execution_count": 2,
   "metadata": {
    "collapsed": true
   },
   "outputs": [],
   "source": [
    "import matplotlib"
   ]
  },
  {
   "cell_type": "code",
   "execution_count": 3,
   "metadata": {
    "collapsed": true
   },
   "outputs": [],
   "source": [
    "matplotlib.use('Agg')"
   ]
  },
  {
   "cell_type": "code",
   "execution_count": 4,
   "metadata": {
    "collapsed": true
   },
   "outputs": [],
   "source": [
    "import matplotlib.pyplot as plt"
   ]
  },
  {
   "cell_type": "code",
   "execution_count": 5,
   "metadata": {
    "collapsed": true
   },
   "outputs": [],
   "source": [
    "# Ask jupyter to plot in-line.\n",
    "%matplotlib inline"
   ]
  },
  {
   "cell_type": "markdown",
   "metadata": {},
   "source": [
    "## Defining the exponential decay functions\n",
    "The reaction we are modeling is one species decaying into another:\n",
    "\n",
    "$ A \\xrightarrow{c} B $\n",
    "\n",
    "$A$ is the starting material, and $B$ is the decay product. $c$ is the rate constant, in whatever units of time we would like.\n",
    "\n",
    "The reason we do this is this system is simple enough that it can be solved exactly, and we can check our work. The simple equations that turn out to model exponential decay are:\n",
    "\n",
    "$X(t) = X_0e^{-ct}$\n",
    "\n",
    "In python:"
   ]
  },
  {
   "cell_type": "code",
   "execution_count": 9,
   "metadata": {
    "collapsed": true
   },
   "outputs": [],
   "source": [
    "# where:\n",
    "# X is the initial value\n",
    "# c is the rate constant\n",
    "# t is the time range/variable\n",
    "def exponential_decay(X, c, t):\n",
    "    # np.exp is e raised to the arguments within ()\n",
    "    return X * np.exp(-c * t)\n",
    "\n",
    "# lets make up some variables\n",
    "A = 1000  # the number of species to simulate\n",
    "c1 = 0.5  # the decay rate, in arbitrary time units"
   ]
  },
  {
   "cell_type": "code",
   "execution_count": 14,
   "metadata": {
    "collapsed": false
   },
   "outputs": [
    {
     "data": {
      "image/png": "[encoded data removed]",
      "text/plain": [
       "<matplotlib.figure.Figure at 0x7830d68>"
      ]
     },
     "metadata": {},
     "output_type": "display_data"
    }
   ],
   "source": [
    "# first we need a time range for the plot.\n",
    "# np.linspace(a,b,c) creates a range from a to b, with c points in it.\n",
    "time_range = np.linspace(0, 10, 1000)\n",
    "\n",
    "# assing an alias to the exponential decay function.\n",
    "exp = exponential_decay(A, c1, time_range)\n",
    "\n",
    "# declare the figure number and size\n",
    "plt.figure(1, figsize=(5,5))\n",
    "\n",
    "# set the x axis limit, this is our time axis.\n",
    "# time_range[-1] returns the last value in the time_range line space.\n",
    "plt.xlim(0, time_range[-1])\n",
    "\n",
    "# set the y axix limit, this is our decaying species # axis\n",
    "plt.ylim(0, 1100)\n",
    "\n",
    "# set the title.\n",
    "plt.title(\"Exponential Decay\")\n",
    "\n",
    "# ceate a plot, other Python implementations may require plt.show() as well.\n",
    "plt.plot(time_range, exp, 'b', linewidth=1.5)\n",
    "plt.savefig('exp_decay.svg')\n",
    "plt.show()"
   ]
  },
  {
   "cell_type": "markdown",
   "metadata": {},
   "source": [
    "### Part 1 Bonus\n",
    "\n",
    "#### Maximum Derivation of the exponential function\n",
    "\n",
    "While this fits data well, it is it not always exact, the root mean square - or the quadratic mean is used to describe the deviation (this is not the expected error). It turns out to be:\n",
    "\n",
    "$A(t) = [X_0e^{-ct}(1 - e^{-ct})]^{1/2} $\n",
    "\n",
    "In Python:"
   ]
  },
  {
   "cell_type": "code",
   "execution_count": 11,
   "metadata": {
    "collapsed": true
   },
   "outputs": [],
   "source": [
    "# with the same variable descriptions as in the exp function.\n",
    "# use more () instead of [], python treats those differently.\n",
    "def rms_exp(X, c, t):\n",
    "    return (X * np.exp(-c*t)*(1 - np.exp(-c*t)))**(0.5)"
   ]
  },
  {
   "cell_type": "code",
   "execution_count": 16,
   "metadata": {
    "collapsed": false
   },
   "outputs": [
    {
     "data": {
      "image/png": "[encoded data removed]",
      "text/plain": [
       "<matplotlib.figure.Figure at 0x7b5b2e8>"
      ]
     },
     "metadata": {},
     "output_type": "display_data"
    }
   ],
   "source": [
    "# declare the figure number and size\n",
    "plt.figure(2, figsize=(5,5))\n",
    "\n",
    "# make an instance of the rms_exp function we can call.\n",
    "rms = rms_exp(A, c1, time_range)\n",
    "\n",
    "# make the lower and upper bounds\n",
    "upper = exp + rms\n",
    "lower = exp - rms\n",
    "plt.xlim(0, 10)\n",
    "plt.ylim(0, 1100)\n",
    "plt.title(\"Exponential Decay with rms\")\n",
    "plt.plot(time_range, exp, 'b', linewidth=1.5)\n",
    "plt.fill_between(time_range, upper, lower, facecolor='grey', alpha=0.2)\n",
    "#plt.plot(time_range, exp - rms, 'b', linewidth=1)\n",
    "#plt.plot(time_range, exp + rms, 'b', linewidth=1)\n",
    "plt.show()"
   ]
  },
  {
   "cell_type": "code",
   "execution_count": null,
   "metadata": {
    "collapsed": true
   },
   "outputs": [],
   "source": []
  }
 ],
 "metadata": {
  "anaconda-cloud": {},
  "kernelspec": {
   "display_name": "Python [default]",
   "language": "python",
   "name": "python2"
  },
  "language_info": {
   "codemirror_mode": {
    "name": "ipython",
    "version": 2
   },
   "file_extension": ".py",
   "mimetype": "text/x-python",
   "name": "python",
   "nbconvert_exporter": "python",
   "pygments_lexer": "ipython2",
   "version": "2.7.12"
  }
 },
 "nbformat": 4,
 "nbformat_minor": 0
}
