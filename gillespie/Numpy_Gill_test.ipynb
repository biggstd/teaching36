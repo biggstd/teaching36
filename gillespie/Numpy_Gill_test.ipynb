{
 "cells": [
  {
   "cell_type": "code",
   "execution_count": 6,
   "metadata": {},
   "outputs": [],
   "source": [
    "import matplotlib\n",
    "matplotlib.use('Agg')\n",
    "import matplotlib.pyplot as plt\n",
    "%matplotlib inline"
   ]
  },
  {
   "cell_type": "code",
   "execution_count": 18,
   "metadata": {},
   "outputs": [],
   "source": [
    "from tqdm import tnrange, tqdm_notebook, tqdm"
   ]
  },
  {
   "cell_type": "code",
   "execution_count": 6,
   "metadata": {},
   "outputs": [],
   "source": [
    "%load_ext autoreload\n",
    "%autoreload 2"
   ]
  },
  {
   "cell_type": "code",
   "execution_count": 1,
   "metadata": {},
   "outputs": [],
   "source": [
    "from numpyGillespie import Gillespie as gil"
   ]
  },
  {
   "cell_type": "code",
   "execution_count": 2,
   "metadata": {},
   "outputs": [],
   "source": [
    "# Define some testing values.\n",
    "# The list of initial values of species to will track\n",
    "X = [1000,]\n",
    "\n",
    "# The list of rate constants\n",
    "C = [0.5,]\n",
    "\n",
    "# the change in X that results from the change from rate constant c\n",
    "# in this case X = X - 1\n",
    "# since one X decays and we do not track the decay product\n",
    "change = [lambda u: (u[0] - 1),]\n",
    "# Where u[0] takes the first element from the X list\n",
    "\n",
    "# and the H value is the number of distinct R, molecular reactant\n",
    "# combinations available in the state\n",
    "# In this case one for each\n",
    "perm = [lambda u: (u[0]),]"
   ]
  },
  {
   "cell_type": "code",
   "execution_count": 3,
   "metadata": {},
   "outputs": [],
   "source": [
    "out = gil(X, C, change, perm, max_sim_rxn=1000).simulate()"
   ]
  },
  {
   "cell_type": "code",
   "execution_count": 9,
   "metadata": {},
   "outputs": [
    {
     "data": {
      "image/png": "[encoded data removed]",
      "text/plain": [
       "<matplotlib.figure.Figure at 0x7fab2f2e2fd0>"
      ]
     },
     "metadata": {},
     "output_type": "display_data"
    }
   ],
   "source": [
    "plt.figure(1, figsize=(10,10))\n",
    "plt.scatter(out[0], [y[0] for y in out[1]], marker=\".\", s=.5, alpha=0.9, color = 'r')\n",
    "plt.title(\"Simulation run\")\n",
    "plt.show()"
   ]
  },
  {
   "cell_type": "code",
   "execution_count": 21,
   "metadata": {},
   "outputs": [
    {
     "name": "stderr",
     "output_type": "stream",
     "text": [
      "\n",
      "Running simulations:   0%|          | 0/100 [00:00<?, ?it/s]\u001b[A\n",
      "Running simulations:   4%|▍         | 4/100 [00:00<00:02, 39.25it/s]\u001b[A\n",
      "Running simulations:  10%|█         | 10/100 [00:00<00:01, 47.93it/s]\u001b[A\n",
      "Running simulations:  16%|█▌        | 16/100 [00:00<00:01, 51.79it/s]\u001b[A\n",
      "Running simulations:  22%|██▏       | 22/100 [00:00<00:01, 53.57it/s]\u001b[A\n",
      "Running simulations:  28%|██▊       | 28/100 [00:00<00:01, 54.63it/s]\u001b[A\n",
      "Running simulations:  34%|███▍      | 34/100 [00:00<00:01, 55.27it/s]\u001b[A\n",
      "Running simulations:  40%|████      | 40/100 [00:00<00:01, 55.78it/s]\u001b[A\n",
      "Running simulations:  46%|████▌     | 46/100 [00:00<00:00, 56.23it/s]\u001b[A\n",
      "Running simulations:  52%|█████▏    | 52/100 [00:00<00:00, 56.04it/s]\u001b[A\n",
      "Running simulations:  58%|█████▊    | 58/100 [00:01<00:00, 56.19it/s]\u001b[A\n",
      "Running simulations:  64%|██████▍   | 64/100 [00:01<00:00, 56.41it/s]\u001b[A\n",
      "Running simulations:  70%|███████   | 70/100 [00:01<00:00, 56.49it/s]\u001b[A\n",
      "Running simulations:  76%|███████▌  | 76/100 [00:01<00:00, 56.52it/s]\u001b[A\n",
      "Running simulations:  82%|████████▏ | 82/100 [00:01<00:00, 56.65it/s]\u001b[A\n",
      "Running simulations:  88%|████████▊ | 88/100 [00:01<00:00, 56.80it/s]\u001b[A\n",
      "Running simulations:  94%|█████████▍| 94/100 [00:01<00:00, 56.85it/s]\u001b[A\n",
      "Running simulations: 100%|██████████| 100/100 [00:01<00:00, 56.99it/s]\u001b[A\n",
      "\u001b[A"
     ]
    }
   ],
   "source": [
    "exp_runs = list()\n",
    "\n",
    "for i in tqdm(range(100), desc=\"Running simulations\"):\n",
    "    exp_runs.append(gil(X, C, change, perm, max_sim_rxn=1000).simulate())"
   ]
  },
  {
   "cell_type": "code",
   "execution_count": 22,
   "metadata": {},
   "outputs": [
    {
     "data": {
      "image/png": "[encoded data removed]",
      "text/plain": [
       "<matplotlib.figure.Figure at 0x7fab2f16ec18>"
      ]
     },
     "metadata": {},
     "output_type": "display_data"
    }
   ],
   "source": [
    "for run in exp_runs:\n",
    "    # unzip the data\n",
    "    r = zip(*run)\n",
    "    t, x = zip(*r)\n",
    "    plt.scatter(run[0], [y[0] for y in run[1]], marker=\".\", s=.5, alpha=0.9, color = 'r')\n",
    "    \n",
    "    \n",
    "plt.title('Gillespe Algorithm and Exponential Decay')\n",
    "plt.show()"
   ]
  },
  {
   "cell_type": "code",
   "execution_count": null,
   "metadata": {},
   "outputs": [],
   "source": []
  }
 ],
 "metadata": {
  "kernelspec": {
   "display_name": "Python 3",
   "language": "python",
   "name": "python3"
  },
  "language_info": {
   "codemirror_mode": {
    "name": "ipython",
    "version": 3
   },
   "file_extension": ".py",
   "mimetype": "text/x-python",
   "name": "python",
   "nbconvert_exporter": "python",
   "pygments_lexer": "ipython3",
   "version": "3.5.2"
  }
 },
 "nbformat": 4,
 "nbformat_minor": 2
}
