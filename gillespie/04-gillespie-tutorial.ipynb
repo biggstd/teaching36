{
 "cells": [
  {
   "cell_type": "markdown",
   "metadata": {},
   "source": [
    "# A Walkthrough of *Exact Stochastic Simulation of Coupled Chemical Reactions* By Danlel T. Gillespie\n",
    "\n",
    "## Part 4 - Lotka Reactions\n",
    "\n",
    "### Learning Goals of Part 4\n",
    "\n",
    "In this seciton the Gillespie algorithm will be imported as a Python module. \n",
    "Lotka Reactions will be explored, a simple model of a predator-prey system."
   ]
  },
  {
   "cell_type": "code",
<<<<<<< HEAD
=======
   "execution_count": 1,
   "metadata": {
    "collapsed": true
   },
   "outputs": [],
   "source": [
    "from gillespie_algorithm import gillespie as gsa"
   ]
  },
  {
   "cell_type": "code",
>>>>>>> 4206971ffd1513df4b71bfe9afd13402e31b2d47
   "execution_count": null,
   "metadata": {
    "collapsed": true
   },
   "outputs": [],
   "source": []
  }
 ],
 "metadata": {
  "kernelspec": {
<<<<<<< HEAD
   "display_name": "Python [conda root]",
   "language": "python",
   "name": "conda-root-py"
=======
   "display_name": "python36",
   "language": "python",
   "name": "python36"
>>>>>>> 4206971ffd1513df4b71bfe9afd13402e31b2d47
  },
  "language_info": {
   "codemirror_mode": {
    "name": "ipython",
<<<<<<< HEAD
    "version": 2
=======
    "version": 3
>>>>>>> 4206971ffd1513df4b71bfe9afd13402e31b2d47
   },
   "file_extension": ".py",
   "mimetype": "text/x-python",
   "name": "python",
   "nbconvert_exporter": "python",
<<<<<<< HEAD
   "pygments_lexer": "ipython2",
   "version": "2.7.12"
=======
   "pygments_lexer": "ipython3",
   "version": "3.6.1"
>>>>>>> 4206971ffd1513df4b71bfe9afd13402e31b2d47
  }
 },
 "nbformat": 4,
 "nbformat_minor": 1
}
