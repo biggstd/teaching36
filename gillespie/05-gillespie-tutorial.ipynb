{
 "cells": [
  {
   "cell_type": "markdown",
   "metadata": {},
   "source": [
    "# A Walkthrough of *Exact Stochastic Simulation of Coupled Chemical Reactions* By Danlel T. Gillespie\n",
    "\n",
    "## Part 4 - Lotka Reactions\n",
    "\n",
    "### Learning Goals of Part 4\n",
    "\n",
    "In this seciton the Gillespie algorithm will be imported as a Python module. \n",
    "Lotka Reactions will be explored, a simple model of a predator-prey system."
   ]
  },
  {
   "cell_type": "code",
   "execution_count": 1,
   "metadata": {},
   "outputs": [
    {
     "ename": "IndentationError",
     "evalue": "expected an indented block (gillespie_algorithm.py, line 24)",
     "output_type": "error",
     "traceback": [
      "Traceback \u001b[0;36m(most recent call last)\u001b[0m:\n",
      "  File \u001b[1;32m\"/home/tylerbiggs/Envs/python36/lib/python3.6/site-packages/IPython/core/interactiveshell.py\"\u001b[0m, line \u001b[1;32m2910\u001b[0m, in \u001b[1;35mrun_code\u001b[0m\n    exec(code_obj, self.user_global_ns, self.user_ns)\n",
      "\u001b[0;36m  File \u001b[0;32m\"<ipython-input-1-68f5fc60d449>\"\u001b[0;36m, line \u001b[0;32m1\u001b[0;36m, in \u001b[0;35m<module>\u001b[0;36m\u001b[0m\n\u001b[0;31m    from gillespie_algorithm import gillespie as gsa\u001b[0m\n",
      "\u001b[0;36m  File \u001b[0;32m\"/home/tylerbiggs/git/teaching36/gillespie/gillespie_algorithm.py\"\u001b[0;36m, line \u001b[0;32m24\u001b[0m\n\u001b[0;31m    <<<<<<< HEAD\u001b[0m\n\u001b[0m                ^\u001b[0m\n\u001b[0;31mIndentationError\u001b[0m\u001b[0;31m:\u001b[0m expected an indented block\n"
     ]
    }
   ],
   "source": [
    "from gillespie_algorithm import gillespie as gsa\n",
    "import numpy as np\n",
    "import matplotlib\n",
    "matplotlib.use('Agg')\n",
    "import matplotlib.pyplot as plt\n",
    "import matplotlib.patches as mpatches\n",
    "%matplotlib inline"
   ]
  },
  {
   "cell_type": "markdown",
   "metadata": {},
   "source": [
    "### Lotka Reaction Equations\n",
    "\n",
    "$$\n",
    "\\bar{X} \\xrightarrow{c_1} Y_1\n",
    "$$\n",
    "\n",
    "$$\n",
    "\\bar{X_2} + Y_1 \\xrightarrow{c_2} Y_2 + Z_1\n",
    "$$\n",
    "\n",
    "$$\n",
    "2 Y_1 + Y_2 \\xrightarrow{c_2} 3 Y_1\n",
    "$$\n",
    "\n",
    "$$\n",
    "Y_1 \\xrightarrow{c_4} Z_2\n",
    "$$"
   ]
  },
  {
   "cell_type": "code",
   "execution_count": 10,
   "metadata": {
    "collapsed": true
   },
   "outputs": [],
   "source": [
    "# Define a list of Y_# values that will be tracked.\n",
    "# These numbers are their starting values.\n",
    "# Y_1, Y_2\n",
    "species = [1000, 2000]\n",
    "\n",
    "rates = [5000, 50, 0.00005, 5]\n",
    "\n",
    "# Define the changes.\n",
    "species_change = {1: lambda j: [j[0] + 1, j[1]],\n",
    "                  2: lambda j: [j[0] - 1, j[1] + 1],\n",
    "                  3: lambda j: [j[0],     j[1] + 1],\n",
    "                  4: lambda j: [j[0] - 1, j[1]]}\n",
    "\n",
    "# Define the functions that return the number of available combinations\n",
    "# for a given reaction. The input for these lambda functions are the\n",
    "# species list defined above.\n",
    "avail_rxn = {1: lambda k: 1,\n",
    "             2: lambda k: 1,\n",
    "             3: lambda k: k[0] * k[1] * (k[0] - 1) / 2,\n",
    "             4: lambda k: k[0]}"
   ]
  },
  {
   "cell_type": "code",
   "execution_count": null,
   "metadata": {
    "collapsed": true
   },
   "outputs": [],
   "source": [
    "time, s_list = gsa(species, rates, species_change, avail_rxn, 1, 10000).simulate()"
   ]
  },
  {
   "cell_type": "code",
   "execution_count": null,
   "metadata": {
    "collapsed": true
   },
   "outputs": [],
   "source": [
    "# Prepare the figure.\n",
    "plt.figure(1, figsize=(14,7))\n",
    "plt.title('Lotka Reaction')\n",
    "\n",
    "# Add the desired data to the plot.\n",
    "plt.scatter(time, [x[0] for x in s_list], marker='.', s=0.1, alpha=0.1, color='k')\n",
    "plt.scatter(time, [x[1] for x in s_list], marker='.', s=0.1, alpha=0.1, color='b')\n",
    "\n",
    "# Add a horizontal marker line.\n",
    "# plt.axhline(y=1000)\n",
    "\n",
    "# Prepare color swatches for the legend.\n",
    "# This is required, as otherwise the individual markers are too hard to see.\n",
    "black_patch = mpatches.Patch(color='black', label='Y 1')\n",
    "blue_patch = mpatches.Patch(color='blue', label='Y 2')\n",
    "plt.legend(handles=[black_patch, blue_patch])\n",
    "\n",
    "# Show the plot.\n",
    "plt.show()"
   ]
  },
  {
   "cell_type": "code",
   "execution_count": null,
   "metadata": {
    "collapsed": true
   },
   "outputs": [],
   "source": []
  }
 ],
 "metadata": {
  "kernelspec": {
   "display_name": "Python 3",
   "language": "python",
   "name": "python3"
  },
  "language_info": {
   "codemirror_mode": {
    "name": "ipython",
    "version": 3
   },
   "file_extension": ".py",
   "mimetype": "text/x-python",
   "name": "python",
   "nbconvert_exporter": "python",
   "pygments_lexer": "ipython3",
   "version": "3.6.3"
  }
 },
 "nbformat": 4,
 "nbformat_minor": 2
}
