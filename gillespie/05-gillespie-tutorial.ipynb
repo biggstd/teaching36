{
 "cells": [
  {
   "cell_type": "markdown",
   "metadata": {},
   "source": [
    "# A Walkthrough of *Exact Stochastic Simulation of Coupled Chemical Reactions* By Danlel T. Gillespie\n",
    "\n",
    "## Part 4 - Lotka Reactions\n",
    "\n",
    "### Learning Goals of Part 4\n",
    "\n",
    "In this seciton the Gillespie algorithm will be imported as a Python module. \n",
    "Lotka Reactions will be explored, a simple model of a predator-prey system.\n",
    "\n",
    "### Notice a Slowdown\n",
    "\n",
    "The Lotka Reaction Equations described below did not function with the original Gillespie Algorithm I wrote. So I wrote the algorithm again, this time leveraging the `numpy` package. Another change to the program was to remove the dictionary inputs for the species change and permutation calculation functions.\n",
    "\n",
    "The new version of the Gillespie algorithm is imported below."
   ]
  },
  {
   "cell_type": "code",
   "execution_count": 1,
   "metadata": {
    "collapsed": true
   },
   "outputs": [],
   "source": [
    "%load_ext autoreload\n",
    "%autoreload 2"
   ]
  },
  {
   "cell_type": "code",
   "execution_count": 5,
   "metadata": {},
   "outputs": [],
   "source": [
    "from gillespie_algorithm import gillespie as gsa\n",
    "import numpy as np\n",
    "import matplotlib\n",
    "import matplotlib.pyplot as plt\n",
    "import matplotlib.patches as mpatches\n",
    "%matplotlib inline"
   ]
  },
  {
   "cell_type": "markdown",
   "metadata": {},
   "source": [
    "### Lotka Reaction Equations\n",
    "\n",
    "$$\n",
    "\\bar{X} \\xrightarrow{c_1} Y_1\n",
    "$$\n",
    "\n",
    "$$\n",
    "\\bar{X_2} + Y_1 \\xrightarrow{c_2} Y_2 + Z_1\n",
    "$$\n",
    "\n",
    "$$\n",
    "2 Y_1 + Y_2 \\xrightarrow{c_2} 3 Y_1\n",
    "$$\n",
    "\n",
    "$$\n",
    "Y_1 \\xrightarrow{c_4} Z_2\n",
    "$$"
   ]
  },
  {
   "cell_type": "code",
   "execution_count": 6,
   "metadata": {
    "collapsed": true
   },
   "outputs": [],
   "source": [
    "# Define a list of Y_# values that will be tracked.\n",
    "# These numbers are their starting values.\n",
    "# Y_1, Y_2\n",
    "species = [1000, 2000]\n",
    "\n",
    "rates = [5000, 50, 0.00005, 5]\n",
    "\n",
    "# Define the changes.\n",
    "species_change = {1: lambda j: [j[0] + 1, j[1]],\n",
    "                  2: lambda j: [j[0] - 1, j[1] + 1],\n",
    "                  3: lambda j: [j[0],     j[1] + 1],\n",
    "                  4: lambda j: [j[0] - 1, j[1]]}\n",
    "\n",
    "# Define the functions that return the number of available combinations\n",
    "# for a given reaction. The input for these lambda functions are the\n",
    "# species list defined above.\n",
    "avail_rxn = {1: lambda k: 1,\n",
    "             2: lambda k: 1,\n",
    "             3: lambda k: k[0] * k[1] * (k[0] - 1) / 2,\n",
    "             4: lambda k: k[0]}"
   ]
  },
  {
   "cell_type": "code",
   "execution_count": 7,
   "metadata": {},
   "outputs": [
    {
     "ename": "KeyboardInterrupt",
     "evalue": "",
     "output_type": "error",
     "traceback": [
      "\u001b[0;31m---------------------------------------------------------------------------\u001b[0m",
      "\u001b[0;31mKeyboardInterrupt\u001b[0m                         Traceback (most recent call last)",
      "\u001b[0;32m<ipython-input-7-ab632f882bbb>\u001b[0m in \u001b[0;36m<module>\u001b[0;34m()\u001b[0m\n\u001b[0;32m----> 1\u001b[0;31m \u001b[0mtime\u001b[0m\u001b[0;34m,\u001b[0m \u001b[0ms_list\u001b[0m \u001b[0;34m=\u001b[0m \u001b[0mgsa\u001b[0m\u001b[0;34m(\u001b[0m\u001b[0mspecies\u001b[0m\u001b[0;34m,\u001b[0m \u001b[0mrates\u001b[0m\u001b[0;34m,\u001b[0m \u001b[0mspecies_change\u001b[0m\u001b[0;34m,\u001b[0m \u001b[0mavail_rxn\u001b[0m\u001b[0;34m,\u001b[0m \u001b[0;36m1\u001b[0m\u001b[0;34m,\u001b[0m \u001b[0;36m1\u001b[0m\u001b[0;34m)\u001b[0m\u001b[0;34m.\u001b[0m\u001b[0msimulate\u001b[0m\u001b[0;34m(\u001b[0m\u001b[0;34m)\u001b[0m\u001b[0;34m\u001b[0m\u001b[0m\n\u001b[0m",
      "\u001b[0;32m~/git/teaching36/gillespie/gillespie_algorithm.py\u001b[0m in \u001b[0;36msimulate\u001b[0;34m(self)\u001b[0m\n\u001b[1;32m     60\u001b[0m \u001b[0;34m\u001b[0m\u001b[0m\n\u001b[1;32m     61\u001b[0m             \u001b[0;31m# calculate av\u001b[0m\u001b[0;34m\u001b[0m\u001b[0;34m\u001b[0m\u001b[0m\n\u001b[0;32m---> 62\u001b[0;31m             \u001b[0mav\u001b[0m \u001b[0;34m=\u001b[0m \u001b[0mself\u001b[0m\u001b[0;34m.\u001b[0m\u001b[0mav_calc\u001b[0m\u001b[0;34m(\u001b[0m\u001b[0;34m)\u001b[0m\u001b[0;34m\u001b[0m\u001b[0m\n\u001b[0m\u001b[1;32m     63\u001b[0m             \u001b[0;31m# print \"1av: \", av\u001b[0m\u001b[0;34m\u001b[0m\u001b[0;34m\u001b[0m\u001b[0m\n\u001b[1;32m     64\u001b[0m \u001b[0;34m\u001b[0m\u001b[0m\n",
      "\u001b[0;32m~/git/teaching36/gillespie/gillespie_algorithm.py\u001b[0m in \u001b[0;36mav_calc\u001b[0;34m(self)\u001b[0m\n\u001b[1;32m     23\u001b[0m     \u001b[0;32mdef\u001b[0m \u001b[0mav_calc\u001b[0m\u001b[0;34m(\u001b[0m\u001b[0mself\u001b[0m\u001b[0;34m)\u001b[0m\u001b[0;34m:\u001b[0m\u001b[0;34m\u001b[0m\u001b[0m\n\u001b[1;32m     24\u001b[0m         return [self.h_form[v](self.X_values) *\n\u001b[0;32m---> 25\u001b[0;31m                 self.c_values[v - 1] for v in self.h_form]\n\u001b[0m\u001b[1;32m     26\u001b[0m \u001b[0;34m\u001b[0m\u001b[0m\n\u001b[1;32m     27\u001b[0m     \u001b[0;31m# Then calculate a0, which is the sum of the av values\u001b[0m\u001b[0;34m\u001b[0m\u001b[0;34m\u001b[0m\u001b[0m\n",
      "\u001b[0;32m~/git/teaching36/gillespie/gillespie_algorithm.py\u001b[0m in \u001b[0;36m<listcomp>\u001b[0;34m(.0)\u001b[0m\n\u001b[1;32m     23\u001b[0m     \u001b[0;32mdef\u001b[0m \u001b[0mav_calc\u001b[0m\u001b[0;34m(\u001b[0m\u001b[0mself\u001b[0m\u001b[0;34m)\u001b[0m\u001b[0;34m:\u001b[0m\u001b[0;34m\u001b[0m\u001b[0m\n\u001b[1;32m     24\u001b[0m         return [self.h_form[v](self.X_values) *\n\u001b[0;32m---> 25\u001b[0;31m                 self.c_values[v - 1] for v in self.h_form]\n\u001b[0m\u001b[1;32m     26\u001b[0m \u001b[0;34m\u001b[0m\u001b[0m\n\u001b[1;32m     27\u001b[0m     \u001b[0;31m# Then calculate a0, which is the sum of the av values\u001b[0m\u001b[0;34m\u001b[0m\u001b[0;34m\u001b[0m\u001b[0m\n",
      "\u001b[0;31mKeyboardInterrupt\u001b[0m: "
     ]
    }
   ],
   "source": [
    "time, s_list = gsa(species, rates, species_change, avail_rxn, 1, 1).simulate()"
   ]
  },
  {
   "cell_type": "code",
   "execution_count": null,
   "metadata": {
    "collapsed": true
   },
   "outputs": [],
   "source": [
    "# Prepare the figure.\n",
    "plt.figure(1, figsize=(14,7))\n",
    "plt.title('Lotka Reaction')\n",
    "\n",
    "# Add the desired data to the plot.\n",
    "plt.scatter(time, [x[0] for x in s_list], marker='.', s=0.1, alpha=0.1, color='k')\n",
    "plt.scatter(time, [x[1] for x in s_list], marker='.', s=0.1, alpha=0.1, color='b')\n",
    "\n",
    "# Add a horizontal marker line.\n",
    "# plt.axhline(y=1000)\n",
    "\n",
    "# Prepare color swatches for the legend.\n",
    "# This is required, as otherwise the individual markers are too hard to see.\n",
    "black_patch = mpatches.Patch(color='black', label='Y 1')\n",
    "blue_patch = mpatches.Patch(color='blue', label='Y 2')\n",
    "plt.legend(handles=[black_patch, blue_patch])\n",
    "\n",
    "# Show the plot.\n",
    "plt.show()"
   ]
  },
  {
   "cell_type": "code",
   "execution_count": null,
   "metadata": {
    "collapsed": true
   },
   "outputs": [],
   "source": []
  }
 ],
 "metadata": {
  "kernelspec": {
   "display_name": "python36",
   "language": "python",
   "name": "python36"
  },
  "language_info": {
   "codemirror_mode": {
    "name": "ipython",
    "version": 3
   },
   "file_extension": ".py",
   "mimetype": "text/x-python",
   "name": "python",
   "nbconvert_exporter": "python",
   "pygments_lexer": "ipython3",
   "version": "3.6.1"
  }
 },
 "nbformat": 4,
 "nbformat_minor": 2
}
