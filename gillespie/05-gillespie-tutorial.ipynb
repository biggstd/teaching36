{
 "cells": [
  {
   "cell_type": "markdown",
   "metadata": {},
   "source": [
    "# A Walkthrough of *Exact Stochastic Simulation of Coupled Chemical Reactions* By Danlel T. Gillespie\n",
    "\n",
    "## Part 5 - Brusselator\n",
    "\n",
    "### Learning Goals of Part 5"
   ]
  },
  {
   "cell_type": "code",
   "execution_count": 1,
   "metadata": {},
   "outputs": [],
   "source": [
    "from numpyGillespie import CompleteGillespie as cg\n",
    "from numpyGillespie import pandas_output\n",
    "import numpy as np\n",
    "import matplotlib\n",
    "import matplotlib.pyplot as plt\n",
    "import matplotlib.patches as mpatches\n",
    "%matplotlib inline"
   ]
  },
  {
   "cell_type": "markdown",
   "metadata": {},
   "source": [
    "### Lotka Reaction Equations\n",
    "\n",
    "$$\n",
    "\\bar{X_1} \\xrightarrow{c_1} Y_1\n",
    "$$\n",
    "\n",
    "$$\n",
    "\\bar{X_2} + Y_1 \\xrightarrow{c_2} Y_2 + Z_1\n",
    "$$\n",
    "\n",
    "$$\n",
    "2 Y_1 + Y_2 \\xrightarrow{c_2} 3 Y_1\n",
    "$$\n",
    "\n",
    "$$\n",
    "Y_1 \\xrightarrow{c_4} Z_2\n",
    "$$"
   ]
  },
  {
   "cell_type": "code",
   "execution_count": 10,
   "metadata": {},
   "outputs": [],
   "source": [
    "# Define a list of Y_# values that will be tracked.\n",
    "# These numbers are their starting values.\n",
    "#           Y_1,  Y_2\n",
    "species = [1000, 2000]\n",
    "\n",
    "#          c1,     c2,      c3,  c4\n",
    "rates = [5000.0, 50.0, 0.00005, 5.0]\n",
    "\n",
    "# Define the changes.\n",
    "#                                 Y_1,      Y_2\n",
    "species_change = [lambda j: [j[0] + 1, j[1]],\n",
    "                  lambda j: [j[0] - 1, j[1] + 1],\n",
    "                  lambda j: [j[0] + 1, j[1]],\n",
    "                  lambda j: [j[0] - 1, j[1]]]\n",
    "\n",
    "# Define the functions that return the number of available combinations\n",
    "# for a given reaction. The input for these lambda functions are the\n",
    "# species list defined above.\n",
    "avail_rxn = [lambda k: 1,\n",
    "             lambda k: k[0],\n",
    "             lambda k: k[0] * k[1] * (k[0] - 1) / 2,\n",
    "             lambda k: k[0]]"
   ]
  },
  {
   "cell_type": "code",
   "execution_count": 24,
   "metadata": {},
   "outputs": [],
   "source": [
    "out = cg(species, rates, species_change, avail_rxn, 10000000).simulate()"
   ]
  },
  {
   "cell_type": "code",
   "execution_count": 25,
   "metadata": {},
   "outputs": [
    {
     "data": {
      "text/plain": [
       "['time', 'mu', 'species_0', 'species_1', 'av_0', 'av_1', 'av_2', 'av_3']"
      ]
     },
     "execution_count": 25,
     "metadata": {},
     "output_type": "execute_result"
    }
   ],
   "source": [
    "data = pandas_output(out)\n",
    "list(data)"
   ]
  },
  {
   "cell_type": "code",
   "execution_count": 26,
   "metadata": {},
   "outputs": [
    {
     "data": {
      "image/png": "[encoded data removed]",
      "text/plain": [
       "<matplotlib.figure.Figure at 0x7fca297a72b0>"
      ]
     },
     "metadata": {},
     "output_type": "display_data"
    }
   ],
   "source": [
    "plt.figure(1, figsize=(10,10))\n",
    "plt.scatter(data['time'], data['species_0'], marker=\".\", s=.5, alpha=0.9)\n",
    "plt.scatter(data['time'], data['species_1'], marker=\".\", s=.5, alpha=0.9)\n",
    "\n",
    "plt.title(\"Simulation run\")\n",
    "plt.show()"
   ]
  },
  {
   "cell_type": "code",
   "execution_count": null,
   "metadata": {},
   "outputs": [],
   "source": []
  }
 ],
 "metadata": {
  "kernelspec": {
   "display_name": "Python 3",
   "language": "python",
   "name": "python3"
  },
  "language_info": {
   "codemirror_mode": {
    "name": "ipython",
    "version": 3
   },
   "file_extension": ".py",
   "mimetype": "text/x-python",
   "name": "python",
   "nbconvert_exporter": "python",
   "pygments_lexer": "ipython3",
   "version": "3.6.4"
  }
 },
 "nbformat": 4,
 "nbformat_minor": 2
}
