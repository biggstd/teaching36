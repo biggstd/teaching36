{
 "cells": [
  {
   "cell_type": "markdown",
   "metadata": {},
   "source": [
    "# A Walkthrough of *Exact Stochastic Simulation of Coupled Chemical Reactions* By Danlel T. Gillespie\n",
    "\n",
    "## Part 2 - Writing the Gillespie Algorithm\n",
    "\n",
    "### Learning Goals of Part 2\n",
    "\n",
    "In this seciton the Gillespie algorithm will be written out in Python. We will then apply the same constants to the algorithm as we did to the exponential decay function from part 1. We will then compare the outputs."
   ]
  },
  {
   "cell_type": "markdown",
   "metadata": {},
   "source": [
    "#### Stochastic vs Deterministic\n",
    "\n",
    "The most important thing to understand about this type of model(stochastic) is the way it handles the time variable. In many models there is a chosen $\\Delta t$ so that every time interval the model considers would be in an increment of $\\Delta t$. The problem with that approach, because we want to model every individual 'reaction', is that these reactions are not reasonably garunteed to occur on an increment of $\\Delta t$."
   ]
  },
  {
   "cell_type": "code",
   "execution_count": 4,
   "metadata": {
    "collapsed": true
   },
   "outputs": [],
   "source": [
    "# import the same packages. \n",
    "# It is better form to do these on individual lines.\n",
    "import numpy as np\n",
    "import matplotlib\n",
    "matplotlib.use('Agg')\n",
    "import matplotlib.pyplot as plt\n",
    "%matplotlib inline"
   ]
  },
  {
   "cell_type": "code",
   "execution_count": 1,
   "metadata": {
    "collapsed": true
   },
   "outputs": [],
   "source": [
    "# The list of initial values of species to will track\n",
    "exp_X = [1000]\n",
    "\n",
    "# The list of rate constants\n",
    "exp_c = [0.5]\n",
    "\n",
    "# the change in X that results from the change from rate constant c\n",
    "# in this case X = X - 1\n",
    "# since one X decays and we do not track the decay product\n",
    "exp_change = {1: lambda u: [u[0] - 1]}\n",
    "# Where u[0] takes the first element from the X list\n",
    "\n",
    "# and the H value is the number of distinct R, molecular reactant\n",
    "# combinations available in the state\n",
    "# In this case one for each\n",
    "exp_H = {1: lambda u: u[0]}"
   ]
  },
  {
   "cell_type": "code",
   "execution_count": 5,
   "metadata": {
    "collapsed": true
   },
   "outputs": [],
   "source": [
    "class gillespe:\n",
    "    \n",
    "    def __init__(self, X_values, c_values, X_change, h_form, max_time, max_count):\n",
    "        \n",
    "        self.X_values = X_values\n",
    "        self.c_values = c_values\n",
    "        self.X_change = X_change\n",
    "        self.h_form = h_form\n",
    "        \n",
    "        # some stopper variables so the simulation does not go on forever.\n",
    "        self.max_time = max_time\n",
    "        self.max_count = max_count\n",
    "        \n",
    "        # start at one with the count.\n",
    "        self.count = 1\n",
    "        self.time = 0\n",
    "        \n",
    "    # first thing to calculate is av = hv * cv\n",
    "    # where v is an index\n",
    "    def av_calc(self):\n",
    "        return [self.h_form[v](self.X_values) * self.c_values[v-1] for v in self.h_form]\n",
    "    \n",
    "    # Then calculate a0, which is the sum of the av values\n",
    "    def a0_calc(self, avals):\n",
    "        return sum(avals)\n",
    "    \n",
    "    # then tau, which is the probable length of time before any one\n",
    "    # of the monitored reactions occurs.\n",
    "    # r1 will be a random number we supply the function with\n",
    "    # r1 will be between 0 and 1.0\n",
    "    def tau_calc(self, asum, r1):\n",
    "        return ( 1. / asum ) * np.log( 1. / r1)\n",
    "    \n",
    "    # next is mu, the random value \n",
    "    # r2 is also between 0 and 1.0\n",
    "    def mu_calc(self, avals, asum, r2):\n",
    "        # start an index at 1\n",
    "        u = 1\n",
    "        # while r2 * ao is less than the successive sums of av\n",
    "        # increase the u value by 1\n",
    "        while  sum(avals[:u]) < r2 * asum:\n",
    "            u = u + 1\n",
    "        return u\n",
    "    \n",
    "    # now define a simulation function\n",
    "    def simulate(self, ):\n",
    "        \n",
    "        # an a list for output with the starting time, should be 0\n",
    "        time_out = [0]\n",
    "        # an empty list that contains the X values, include the starting here, as it will change after\n",
    "        # the first pass of the algorithm.\n",
    "        X_out = [self.X_values]\n",
    "        \n",
    "        # while we haven't hit the heat death of the universe...\n",
    "        while self.time < self.max_time or self.max_time == None and self.count < self.max_count:\n",
    "        \n",
    "            # calculate av\n",
    "            av = self.av_calc()\n",
    "            #print \"1av: \", av\n",
    "            \n",
    "            # calculate a0\n",
    "            a0 = self.a0_calc(av)\n",
    "            #print \"2a0: \", a0\n",
    "            \n",
    "            # generate random numbers\n",
    "            r1, r2 = np.random.random(), np.random.random()\n",
    "            \n",
    "            # calculate tau\n",
    "            tau = self.tau_calc(a0, r1)\n",
    "            #print \"3tau\", tau\n",
    "            \n",
    "            # calculate mu\n",
    "            mu = self.mu_calc(av, a0, r2)\n",
    "            #print \"4mu: \", mu\n",
    "            \n",
    "            # call the change function, and set \n",
    "            self.X_values = self.X_change[mu](self.X_values)\n",
    "            \n",
    "            self.time = self.time + tau\n",
    "            #print 'time: ', self.time\n",
    "            time_out.append(self.time)\n",
    "            X_out.append(self.X_values)\n",
    "            \n",
    "            self.count = self.count + 1\n",
    "            \n",
    "        return time_out, X_out\n",
    "        "
   ]
  },
  {
   "cell_type": "code",
   "execution_count": 6,
   "metadata": {},
   "outputs": [],
   "source": [
    "# set the out variables so we can plot, input the stuff from above\n",
    "simT, simX = gillespe(exp_X, exp_c, exp_change, exp_H, None, 1000).simulate()"
   ]
  },
  {
   "cell_type": "code",
   "execution_count": 7,
   "metadata": {
    "collapsed": true
   },
   "outputs": [],
   "source": [
    "tt2 = gillespe(exp_X, exp_c, exp_change, exp_H, None, 1000).simulate()"
   ]
  },
  {
   "cell_type": "markdown",
   "metadata": {},
   "source": [
    "### Examine the output of Gillespe exponential decay\n",
    "\n",
    "The function gillespe().simulate(), when loaded with variables, returns two lists:\n",
    "- The time list.\n",
    "- The X values list.\n",
    "Since X can be multiple values it will need to be unpacked in some cases. For this we will use the zip(\\*X_values) function. zip is a built in that unpacks or packs lists."
   ]
  },
  {
   "cell_type": "code",
   "execution_count": 57,
   "metadata": {},
   "outputs": [
    {
     "name": "stdout",
     "output_type": "stream",
     "text": [
      "Count of simT and simX:\n",
      "\tsimT: 1000\n",
      "\tsimX: 1000\n",
      "\n",
      "First and last values:\n",
      "\tsimT first:\t 0\n",
      "\tsimT last:\t 11.9781039083\n"
     ]
    }
   ],
   "source": [
    "# what is the length of our output list? It should be 1000.\n",
    "# As we had 1000 molecules to simulate, and this should take\n",
    "# 1000 runs through the algorithm\n",
    "print \"Count of simT and simX:\\n\\tsimT: {}\\n\\tsimX: {}\\n\".format(len(simT), len(simX))\n",
    "print \"First and last values:\"\n",
    "print \"\\tsimT first:\\t {}\\n\\tsimT last:\\t {}\".format(simT[0], simT[-1])"
   ]
  },
  {
   "cell_type": "markdown",
   "metadata": {},
   "source": [
    "## Plot the output"
   ]
  },
  {
   "cell_type": "code",
   "execution_count": 16,
   "metadata": {},
   "outputs": [
    {
     "data": {
      "image/png": "iVBORw0KGgoAAAANSUhEUgAAAUkAAAFCCAYAAAB8TS9rAAAABHNCSVQICAgIfAhkiAAAAAlwSFlz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\n",
      "text/plain": [
       "<matplotlib.figure.Figure at 0x7ed5c88>"
      ]
     },
     "metadata": {},
     "output_type": "display_data"
    }
   ],
   "source": [
    "plt.figure(1, figsize=(5,5))\n",
    "\n",
    "plt.xlim(0, time_range[-1])\n",
    "plt.ylim(0, 1100)\n",
    "\n",
    "time_range = np.linspace(0, 10, 1000)\n",
    "\n",
    "plt.scatter(simT, simX, marker=\".\", s=.5, alpha=0.9, color = 'r')\n",
    "\n",
    "plt.title(\"Simulation run\")\n",
    "plt.show()"
   ]
  },
  {
   "cell_type": "markdown",
   "metadata": {},
   "source": [
    "### Compare the output to the deterministic solution."
   ]
  },
  {
   "cell_type": "code",
   "execution_count": 14,
   "metadata": {
    "collapsed": true
   },
   "outputs": [],
   "source": [
    "def exponential_decay(X, c, t):\n",
    "    return X * np.exp(-c * t)\n",
    "\n",
    "time_range = np.linspace(0, 10, 1000)\n",
    "\n",
    "exp = exponential_decay(1000, 0.5, time_range)"
   ]
  },
  {
   "cell_type": "code",
   "execution_count": 21,
   "metadata": {},
   "outputs": [
    {
     "data": {
      "image/png": "iVBORw0KGgoAAAANSUhEUgAAAUkAAAFCCAYAAAB8TS9rAAAABHNCSVQICAgIfAhkiAAAAAlwSFlz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\nAAAASUVORK5CYII=\n",
      "text/plain": [
       "<matplotlib.figure.Figure at 0x8a416a0>"
      ]
     },
     "metadata": {},
     "output_type": "display_data"
    }
   ],
   "source": [
    "plt.figure(2, figsize=(5,5))\n",
    "plt.title(\"Simulation run compared to exponential decay\")\n",
    "\n",
    "plt.xlim(0, time_range[-1])\n",
    "plt.ylim(0, 1100)\n",
    "\n",
    "plt.scatter(simT, simX, marker=\".\", s=.5, alpha=0.9, color = 'r')\n",
    "plt.plot(time_range, exp, 'k', alpha=0.5, linewidth=1.5)\n",
    "plt.show()"
   ]
  },
  {
   "cell_type": "markdown",
   "metadata": {},
   "source": [
    "### Series of Simulations\n",
    "We do not want to have to type a run name for every stochastic simulation. Especially since in many cases we will want to examine data from many individual simulations. Python makes this pretty easy, we are just going to define a list that contains 100 instances of this class."
   ]
  },
  {
   "cell_type": "code",
   "execution_count": 19,
   "metadata": {
    "collapsed": true
   },
   "outputs": [],
   "source": [
    "# to run many simsulations make a list of runs\n",
    "exp_runs = [gillespe(exp_X, exp_c, exp_change, exp_H, None, 1000).simulate() for i in range(100)]"
   ]
  },
  {
   "cell_type": "markdown",
   "metadata": {},
   "source": [
    "### Plot many simulations"
   ]
  },
  {
   "cell_type": "code",
   "execution_count": 20,
   "metadata": {},
   "outputs": [
    {
     "data": {
      "image/png": "iVBORw0KGgoAAAANSUhEUgAAAbgAAAGxCAYAAAAQxaN7AAAABHNCSVQICAgIfAhkiAAAAAlwSFlz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\nAAAASUVORK5CYII=\n",
      "text/plain": [
       "<matplotlib.figure.Figure at 0x8017cc0>"
      ]
     },
     "metadata": {},
     "output_type": "display_data"
    }
   ],
   "source": [
    "plt.figure(3, figsize=(7,7))\n",
    "plt.ylim(0, 1100)\n",
    "plt.xlim(0,10)\n",
    "# Plot the exp decay function, so we can compare\n",
    "plt.plot(time_range, exp, 'b', linewidth=1.5)\n",
    "\n",
    "# for every item (run) in the list exp_runs\n",
    "for run in exp_runs:\n",
    "    # unzip the data\n",
    "    r = zip(*run)\n",
    "    t, x = zip(*r)\n",
    "    plt.scatter(t, x, marker=\".\", s=.1, alpha=0.1, color='k')\n",
    "    \n",
    "plt.title('Gillespe Algorithm and Exponential Decay')\n",
    "plt.show()"
   ]
  },
  {
   "cell_type": "markdown",
   "metadata": {},
   "source": [
    "## Exporting the Data for visualization with R\n",
    "\n",
    "While it is possible to use the R plotting library in Python, I choose to instead try to prepare a comma delimited text file. There is probably a more elagant / Pythonic way to do this. This method probably will not directly transfer to more complicated reactions where more than one species is monitored."
   ]
  },
  {
   "cell_type": "code",
   "execution_count": 43,
   "metadata": {},
   "outputs": [],
   "source": [
    "countval = tt2[1]\n",
    "timeval = tt2[0]"
   ]
  },
  {
   "cell_type": "code",
   "execution_count": 47,
   "metadata": {},
   "outputs": [],
   "source": [
    "flattened_count = [val for sublist in countval for val in sublist]"
   ]
  },
  {
   "cell_type": "code",
   "execution_count": 48,
   "metadata": {
    "collapsed": true
   },
   "outputs": [],
   "source": [
    "merger = zip(timeval, flattened_count)"
   ]
  },
  {
   "cell_type": "code",
   "execution_count": 55,
   "metadata": {
    "collapsed": true
   },
   "outputs": [],
   "source": [
    "with open('outdata.txt', 'w') as f:\n",
    "    for run in exp_runs:\n",
    "        cv, tv = run[1], run[0]\n",
    "        cvf = [v for sublist in cv for v in sublist]\n",
    "        m = zip(tv, cvf)\n",
    "        for i in m:\n",
    "            f.write('{}, {}\\n'.format(i[0], i[1]))"
   ]
  },
  {
   "cell_type": "code",
   "execution_count": 56,
   "metadata": {},
   "outputs": [],
   "source": [
    "# Uncomment to view the data to be written to the txt file.\n",
    "#for entry in merger:\n",
    "#    print '{}, {}'.format(entry[0],entry[1])"
   ]
  },
  {
   "cell_type": "code",
   "execution_count": null,
   "metadata": {
    "collapsed": true
   },
   "outputs": [],
   "source": []
  }
 ],
 "metadata": {
  "kernelspec": {
<<<<<<< HEAD
   "display_name": "Python 3",
   "language": "python",
   "name": "python3"
=======
   "display_name": "Python 2",
   "language": "python",
   "name": "python2"
>>>>>>> 4206971ffd1513df4b71bfe9afd13402e31b2d47
  },
  "language_info": {
   "codemirror_mode": {
    "name": "ipython",
<<<<<<< HEAD
    "version": 3
=======
    "version": 2
>>>>>>> 4206971ffd1513df4b71bfe9afd13402e31b2d47
   },
   "file_extension": ".py",
   "mimetype": "text/x-python",
   "name": "python",
   "nbconvert_exporter": "python",
<<<<<<< HEAD
   "pygments_lexer": "ipython3",
   "version": "3.5.2"
=======
   "pygments_lexer": "ipython2",
   "version": "2.7.13"
>>>>>>> 4206971ffd1513df4b71bfe9afd13402e31b2d47
  }
 },
 "nbformat": 4,
 "nbformat_minor": 1
}
