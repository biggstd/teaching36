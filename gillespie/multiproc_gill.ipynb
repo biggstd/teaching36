{
 "cells": [
  {
   "cell_type": "markdown",
   "metadata": {},
   "source": [
    "# Multiprocessing Example with Stochastic Simulations\n",
    "\n",
    "By: *Tyler Biggs*\n",
    "\n",
    "This notebook covers my exploration into Python's multiprocessing package.\n",
    "\n",
    "**Goals**\n",
    "\n",
    "+ Define the stochastic process to be simulated.\n",
    "+ Create a linear method and time it for reference.\n",
    "+ Create a multiprocessing method and time it.\n",
    "\n",
    "**Further Goals**\n",
    "+ Upate a plot as the multiprocessing pool produces results."
   ]
  },
  {
   "cell_type": "markdown",
   "metadata": {},
   "source": [
    "#### Notebook Setup"
   ]
  },
  {
   "cell_type": "code",
   "execution_count": 1,
   "metadata": {},
   "outputs": [],
   "source": [
    "# Standard Python packages.\n",
    "import multiprocessing as mp\n",
    "import timeit\n",
    "import matplotlib\n",
    "import matplotlib.pyplot as plt\n",
    "%matplotlib inline"
   ]
  },
  {
   "cell_type": "code",
   "execution_count": 2,
   "metadata": {},
   "outputs": [],
   "source": [
    "# Import my custom packages.\n",
    "from numpyGillespie import CompleteGillespie as cg\n",
    "from numpyGillespie import pandas_output"
   ]
  },
  {
   "cell_type": "markdown",
   "metadata": {},
   "source": [
    "### Define a Stochastic Process\n",
    "\n",
    "#### Exponential Decay\n",
    "\n",
    "$ A \\xrightarrow{c} B $"
   ]
  },
  {
   "cell_type": "code",
   "execution_count": 3,
   "metadata": {},
   "outputs": [],
   "source": [
    "# Define the process in Python.\n",
    "# These are the inputs accepted by my Gillespie package.\n",
    "tracked_species = [1000]\n",
    "\n",
    "rate_constants = [0.5]\n",
    "\n",
    "# Define the changes as full functions. Lambdas do not work with the\n",
    "# multiprocessing package.\n",
    "def exp_change_A(species_list):\n",
    "    \"\"\"Change in species induced by reaction 1.\"\"\"\n",
    "    return [species_list[0] - 1]\n",
    "\n",
    "def exp_perm_A(species_list):\n",
    "    \"\"\"Available permutations for reaction 1.\"\"\"\n",
    "    return species_list[0]"
   ]
  },
  {
   "cell_type": "markdown",
   "metadata": {},
   "source": [
    "### Linear Method"
   ]
  },
  {
   "cell_type": "code",
   "execution_count": 4,
   "metadata": {},
   "outputs": [],
   "source": [
    "def linear_complete_gsa(runs):\n",
    "    exp_runs = [cg(tracked_species, rate_constants, [exp_change_A], [exp_perm_A], max_sim_rxn=1000).simulate() for i in range(runs)]\n",
    "    return exp_runs"
   ]
  },
  {
   "cell_type": "code",
   "execution_count": 5,
   "metadata": {},
   "outputs": [
    {
     "name": "stdout",
     "output_type": "stream",
     "text": [
      "3.84 s ± 5.17 ms per loop (mean ± std. dev. of 4 runs, 1 loop each)\n"
     ]
    }
   ],
   "source": [
    "%timeit -n1 -r4 linear_complete_gsa(100)"
   ]
  },
  {
   "cell_type": "markdown",
   "metadata": {},
   "source": [
    "### Multiprocessing Method\n",
    "\n",
    "To pass this to `pool.apply_sync` it seems we need a function that returns a function."
   ]
  },
  {
   "cell_type": "code",
   "execution_count": 8,
   "metadata": {},
   "outputs": [],
   "source": [
    "def GillespieProcess(species, rates, species_changes, permutations, max_sim_rxn):\n",
    "    return cg(species, rates, species_changes, permutations, max_sim_rxn).simulate()"
   ]
  },
  {
   "cell_type": "code",
   "execution_count": 9,
   "metadata": {},
   "outputs": [],
   "source": [
    "def pool_build_complete_gsa(processes, runs):\n",
    "    pool = mp.Pool(processes=processes)\n",
    "    results = [pool.apply_async(GillespieProcess, args=(tracked_species, rate_constants, [exp_change_A], [exp_perm_A], 1000)) for i in range(runs)]\n",
    "    results = [p.get() for p in results]\n",
    "    return results"
   ]
  },
  {
   "cell_type": "code",
   "execution_count": 10,
   "metadata": {},
   "outputs": [
    {
     "name": "stdout",
     "output_type": "stream",
     "text": [
      "1.35 s ± 15.1 ms per loop (mean ± std. dev. of 4 runs, 1 loop each)\n"
     ]
    }
   ],
   "source": [
    "%timeit -n1 -r4 pool_build_complete_gsa(3, 100)"
   ]
  },
  {
   "cell_type": "code",
   "execution_count": null,
   "metadata": {
    "collapsed": true
   },
   "outputs": [],
   "source": []
  }
 ],
 "metadata": {
  "kernelspec": {
   "display_name": "py36",
   "language": "python",
   "name": "py36"
  },
  "language_info": {
   "codemirror_mode": {
    "name": "ipython",
    "version": 3
   },
   "file_extension": ".py",
   "mimetype": "text/x-python",
   "name": "python",
   "nbconvert_exporter": "python",
   "pygments_lexer": "ipython3",
   "version": "3.6.4"
  }
 },
 "nbformat": 4,
 "nbformat_minor": 2
}
