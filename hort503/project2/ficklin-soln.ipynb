{
 "cells": [
  {
   "cell_type": "code",
   "execution_count": 1,
   "metadata": {},
   "outputs": [],
   "source": [
    "import numpy as np\n",
    "import pandas as pd\n",
    "import matplotlib as matplotlib\n",
    "import matplotlib.pyplot as plt"
   ]
  },
  {
   "cell_type": "code",
   "execution_count": 53,
   "metadata": {},
   "outputs": [
    {
     "data": {
      "text/html": [
       "<div>\n",
       "<style scoped>\n",
       "    .dataframe tbody tr th:only-of-type {\n",
       "        vertical-align: middle;\n",
       "    }\n",
       "\n",
       "    .dataframe tbody tr th {\n",
       "        vertical-align: top;\n",
       "    }\n",
       "\n",
       "    .dataframe thead th {\n",
       "        text-align: right;\n",
       "    }\n",
       "</style>\n",
       "<table border=\"1\" class=\"dataframe\">\n",
       "  <thead>\n",
       "    <tr style=\"text-align: right;\">\n",
       "      <th></th>\n",
       "      <th>Chr</th>\n",
       "      <th>Position</th>\n",
       "      <th>Reference</th>\n",
       "      <th>SNP</th>\n",
       "      <th>Frequency</th>\n",
       "    </tr>\n",
       "  </thead>\n",
       "  <tbody>\n",
       "    <tr>\n",
       "      <th>0</th>\n",
       "      <td>LG1</td>\n",
       "      <td>312</td>\n",
       "      <td>G</td>\n",
       "      <td>C</td>\n",
       "      <td>0.857143</td>\n",
       "    </tr>\n",
       "    <tr>\n",
       "      <th>1</th>\n",
       "      <td>LG1</td>\n",
       "      <td>412</td>\n",
       "      <td>C</td>\n",
       "      <td>T</td>\n",
       "      <td>0.888889</td>\n",
       "    </tr>\n",
       "    <tr>\n",
       "      <th>2</th>\n",
       "      <td>LG1</td>\n",
       "      <td>442</td>\n",
       "      <td>C</td>\n",
       "      <td>G</td>\n",
       "      <td>0.846154</td>\n",
       "    </tr>\n",
       "    <tr>\n",
       "      <th>3</th>\n",
       "      <td>LG1</td>\n",
       "      <td>516</td>\n",
       "      <td>C</td>\n",
       "      <td>G</td>\n",
       "      <td>0.961538</td>\n",
       "    </tr>\n",
       "    <tr>\n",
       "      <th>4</th>\n",
       "      <td>LG1</td>\n",
       "      <td>791</td>\n",
       "      <td>T</td>\n",
       "      <td>C</td>\n",
       "      <td>0.864865</td>\n",
       "    </tr>\n",
       "  </tbody>\n",
       "</table>\n",
       "</div>"
      ],
      "text/plain": [
       "   Chr  Position Reference SNP  Frequency\n",
       "0  LG1       312         G   C   0.857143\n",
       "1  LG1       412         C   T   0.888889\n",
       "2  LG1       442         C   G   0.846154\n",
       "3  LG1       516         C   G   0.961538\n",
       "4  LG1       791         T   C   0.864865"
      ]
     },
     "execution_count": 53,
     "metadata": {},
     "output_type": "execute_result"
    }
   ],
   "source": [
    "results = pd.read_csv('out.txt', header=None, sep=\"\\t\", \n",
    "                      names=('Chr', 'Position', 'Reference', 'SNP', 'Frequency'))\n",
    "results.head()"
   ]
  },
  {
   "cell_type": "code",
   "execution_count": 58,
   "metadata": {},
   "outputs": [
    {
     "data": {
      "text/html": [
       "<div>\n",
       "<style scoped>\n",
       "    .dataframe tbody tr th:only-of-type {\n",
       "        vertical-align: middle;\n",
       "    }\n",
       "\n",
       "    .dataframe tbody tr th {\n",
       "        vertical-align: top;\n",
       "    }\n",
       "\n",
       "    .dataframe thead th {\n",
       "        text-align: right;\n",
       "    }\n",
       "</style>\n",
       "<table border=\"1\" class=\"dataframe\">\n",
       "  <thead>\n",
       "    <tr style=\"text-align: right;\">\n",
       "      <th></th>\n",
       "      <th>Chr</th>\n",
       "      <th>Position</th>\n",
       "      <th>Reference</th>\n",
       "      <th>SNP</th>\n",
       "      <th>Frequency</th>\n",
       "      <th>Colors</th>\n",
       "    </tr>\n",
       "  </thead>\n",
       "  <tbody>\n",
       "    <tr>\n",
       "      <th>0</th>\n",
       "      <td>LG1</td>\n",
       "      <td>312</td>\n",
       "      <td>G</td>\n",
       "      <td>C</td>\n",
       "      <td>0.857143</td>\n",
       "      <td>purple</td>\n",
       "    </tr>\n",
       "    <tr>\n",
       "      <th>1</th>\n",
       "      <td>LG1</td>\n",
       "      <td>412</td>\n",
       "      <td>C</td>\n",
       "      <td>T</td>\n",
       "      <td>0.888889</td>\n",
       "      <td>green</td>\n",
       "    </tr>\n",
       "    <tr>\n",
       "      <th>2</th>\n",
       "      <td>LG1</td>\n",
       "      <td>442</td>\n",
       "      <td>C</td>\n",
       "      <td>G</td>\n",
       "      <td>0.846154</td>\n",
       "      <td>blue</td>\n",
       "    </tr>\n",
       "    <tr>\n",
       "      <th>3</th>\n",
       "      <td>LG1</td>\n",
       "      <td>516</td>\n",
       "      <td>C</td>\n",
       "      <td>G</td>\n",
       "      <td>0.961538</td>\n",
       "      <td>blue</td>\n",
       "    </tr>\n",
       "    <tr>\n",
       "      <th>4</th>\n",
       "      <td>LG1</td>\n",
       "      <td>791</td>\n",
       "      <td>T</td>\n",
       "      <td>C</td>\n",
       "      <td>0.864865</td>\n",
       "      <td>purple</td>\n",
       "    </tr>\n",
       "  </tbody>\n",
       "</table>\n",
       "</div>"
      ],
      "text/plain": [
       "   Chr  Position Reference SNP  Frequency  Colors\n",
       "0  LG1       312         G   C   0.857143  purple\n",
       "1  LG1       412         C   T   0.888889   green\n",
       "2  LG1       442         C   G   0.846154    blue\n",
       "3  LG1       516         C   G   0.961538    blue\n",
       "4  LG1       791         T   C   0.864865  purple"
      ]
     },
     "execution_count": 58,
     "metadata": {},
     "output_type": "execute_result"
    }
   ],
   "source": [
    "# Add colors\n",
    "results['Colors'] = results.SNP.map({'A': 'red', 'G': 'blue', 'T': 'green', 'C': 'purple'})\n",
    "results.head()"
   ]
  },
  {
   "cell_type": "code",
   "execution_count": 60,
   "metadata": {},
   "outputs": [
    {
     "data": {
      "image/png": "[encoded data removed]",
      "text/plain": [
       "<Figure size 1152x288 with 1 Axes>"
      ]
     },
     "metadata": {},
     "output_type": "display_data"
    }
   ],
   "source": [
    "ax = results.plot(x='Position', y='Frequency', kind='bar', legend = False, figsize=(16,4), color=results.Colors)\n",
    "xticks = list(range(1, len(results), 100))\n",
    "ax.set_xticks(xticks)\n",
    "ax.set_xticklabels(results.loc[xticks, 'Position'])\n",
    "plt.show()"
   ]
  },
  {
   "cell_type": "code",
   "execution_count": 63,
   "metadata": {},
   "outputs": [],
   "source": [
    "fig = ax.get_figure()\n",
    "fig.savefig(\"project02.figure.png\", format='png', dpi=300)\n"
   ]
  }
 ],
 "metadata": {
  "kernelspec": {
   "display_name": "Python 3",
   "language": "python",
   "name": "python3"
  },
  "language_info": {
   "codemirror_mode": {
    "name": "ipython",
    "version": 3
   },
   "file_extension": ".py",
   "mimetype": "text/x-python",
   "name": "python",
   "nbconvert_exporter": "python",
   "pygments_lexer": "ipython3",
   "version": "3.6.4"
  }
 },
 "nbformat": 4,
 "nbformat_minor": 2
}
