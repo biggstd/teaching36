{
 "cells": [
  {
   "cell_type": "code",
   "execution_count": 15,
   "metadata": {},
   "outputs": [],
   "source": [
    "%load_ext autoreload\n",
    "%autoreload 2"
   ]
  },
  {
   "cell_type": "code",
   "execution_count": 7,
   "metadata": {},
   "outputs": [],
   "source": [
    "import nmrglue as ng\n",
    "import matplotlib.pyplot as plt\n",
    "import glob\n",
    "%matplotlib inline"
   ]
  },
  {
   "cell_type": "code",
   "execution_count": 16,
   "metadata": {},
   "outputs": [],
   "source": [
    "from trentnmr import *"
   ]
  },
  {
   "cell_type": "code",
   "execution_count": 20,
   "metadata": {},
   "outputs": [],
   "source": [
    "na_path = '/home/tyler/data/Sep-2016-23Na/VT/*.fid'"
   ]
  },
  {
   "cell_type": "code",
   "execution_count": 21,
   "metadata": {},
   "outputs": [],
   "source": [
    "na_paths = glob.glob(na_path)\n",
    "# nmr_files"
   ]
  },
  {
   "cell_type": "code",
   "execution_count": 22,
   "metadata": {},
   "outputs": [],
   "source": [
    "na_pipes = [read_varian_as_nmrpipe(f) for f in na_paths]"
   ]
  },
  {
   "cell_type": "code",
   "execution_count": 24,
   "metadata": {},
   "outputs": [
    {
     "name": "stdout",
     "output_type": "stream",
     "text": [
      "Optimization terminated successfully.\n",
      "         Current function value: 0.000000\n",
      "         Iterations: 60\n",
      "         Function evaluations: 116\n",
      "Optimization terminated successfully.\n",
      "         Current function value: 0.000000\n",
      "         Iterations: 62\n",
      "         Function evaluations: 120\n",
      "Optimization terminated successfully.\n",
      "         Current function value: 0.000000\n",
      "         Iterations: 61\n",
      "         Function evaluations: 120\n",
      "Optimization terminated successfully.\n",
      "         Current function value: 0.001953\n",
      "         Iterations: 58\n",
      "         Function evaluations: 113\n",
      "Optimization terminated successfully.\n",
      "         Current function value: 0.005859\n",
      "         Iterations: 56\n",
      "         Function evaluations: 107\n",
      "Optimization terminated successfully.\n",
      "         Current function value: 0.000000\n",
      "         Iterations: 64\n",
      "         Function evaluations: 128\n",
      "Optimization terminated successfully.\n",
      "         Current function value: 0.000977\n",
      "         Iterations: 60\n",
      "         Function evaluations: 118\n",
      "Optimization terminated successfully.\n",
      "         Current function value: 0.000000\n",
      "         Iterations: 66\n",
      "         Function evaluations: 124\n",
      "Optimization terminated successfully.\n",
      "         Current function value: 0.001953\n",
      "         Iterations: 65\n",
      "         Function evaluations: 122\n",
      "Optimization terminated successfully.\n",
      "         Current function value: 0.000000\n",
      "         Iterations: 59\n",
      "         Function evaluations: 112\n",
      "Optimization terminated successfully.\n",
      "         Current function value: 0.001953\n",
      "         Iterations: 61\n",
      "         Function evaluations: 116\n",
      "Optimization terminated successfully.\n",
      "         Current function value: 0.000000\n",
      "         Iterations: 72\n",
      "         Function evaluations: 137\n",
      "Optimization terminated successfully.\n",
      "         Current function value: 0.000000\n",
      "         Iterations: 62\n",
      "         Function evaluations: 117\n",
      "Optimization terminated successfully.\n",
      "         Current function value: 0.000000\n",
      "         Iterations: 62\n",
      "         Function evaluations: 118\n",
      "Optimization terminated successfully.\n",
      "         Current function value: 0.003906\n",
      "         Iterations: 59\n",
      "         Function evaluations: 110\n",
      "Optimization terminated successfully.\n",
      "         Current function value: 0.001953\n",
      "         Iterations: 62\n",
      "         Function evaluations: 117\n",
      "Optimization terminated successfully.\n",
      "         Current function value: 34701.679688\n",
      "         Iterations: 63\n",
      "         Function evaluations: 128\n"
     ]
    }
   ],
   "source": [
    "proc_na = [process_fid(dic, data) for dic, data in na_pipes]"
   ]
  },
  {
   "cell_type": "code",
   "execution_count": 25,
   "metadata": {},
   "outputs": [],
   "source": [
    "peaks = [find_nmr_peaks(data) for dic, data in proc_na]"
   ]
  },
  {
   "cell_type": "code",
   "execution_count": 26,
   "metadata": {},
   "outputs": [
    {
     "data": {
      "text/plain": [
       "[rec.array([(24255., 1, 4.17531462, 11432689. ),\n",
       "            (24495., 2, 2.        ,  2329007.5)],\n",
       "           dtype=[('X_AXIS', '<f8'), ('cID', '<i8'), ('X_LW', '<f8'), ('VOL', '<f8')]),\n",
       " rec.array([(24242., 1, 3.42965808, 13330146.),\n",
       "            (24589., 2, 3.94336024,  4253441.)],\n",
       "           dtype=[('X_AXIS', '<f8'), ('cID', '<i8'), ('X_LW', '<f8'), ('VOL', '<f8')]),\n",
       " rec.array([(24257., 1, 4.51864901, 9807750.),\n",
       "            (24481., 2, 2.        , 2076621.)],\n",
       "           dtype=[('X_AXIS', '<f8'), ('cID', '<i8'), ('X_LW', '<f8'), ('VOL', '<f8')]),\n",
       " rec.array([(24254., 1, 4.08837142, 10141292.  ),\n",
       "            (24518., 2, 2.        ,  2320263.75)],\n",
       "           dtype=[('X_AXIS', '<f8'), ('cID', '<i8'), ('X_LW', '<f8'), ('VOL', '<f8')]),\n",
       " rec.array([(24249., 1, 4.2686193, 11549707. ),\n",
       "            (24543., 2, 3.       ,  3016486.5)],\n",
       "           dtype=[('X_AXIS', '<f8'), ('cID', '<i8'), ('X_LW', '<f8'), ('VOL', '<f8')]),\n",
       " rec.array([(24243., 1, 3.28435242, 11643076. ),\n",
       "            (24574., 2, 3.9711167 ,  3880215.5)],\n",
       "           dtype=[('X_AXIS', '<f8'), ('cID', '<i8'), ('X_LW', '<f8'), ('VOL', '<f8')]),\n",
       " rec.array([(24252., 1, 4.1819365, 9710821. ),\n",
       "            (24529., 2, 2.       , 2332764.5)],\n",
       "           dtype=[('X_AXIS', '<f8'), ('cID', '<i8'), ('X_LW', '<f8'), ('VOL', '<f8')]),\n",
       " rec.array([(24242., 1, 3.56999534, 11571734.  ),\n",
       "            (24601., 2, 3.88874204,  3931916.25)],\n",
       "           dtype=[('X_AXIS', '<f8'), ('cID', '<i8'), ('X_LW', '<f8'), ('VOL', '<f8')]),\n",
       " rec.array([(24239., 1, 3.57496067, 11449509.),\n",
       "            (24621., 2, 4.        ,  4116341.)],\n",
       "           dtype=[('X_AXIS', '<f8'), ('cID', '<i8'), ('X_LW', '<f8'), ('VOL', '<f8')]),\n",
       " rec.array([(24250., 1, 3.56507966, 12119233.  ),\n",
       "            (24531., 2, 3.        ,  3052476.75)],\n",
       "           dtype=[('X_AXIS', '<f8'), ('cID', '<i8'), ('X_LW', '<f8'), ('VOL', '<f8')]),\n",
       " rec.array([(24254., 1, 3.70505515, 12637636. ),\n",
       "            (24507., 2, 3.        ,  3025387.5)],\n",
       "           dtype=[('X_AXIS', '<f8'), ('cID', '<i8'), ('X_LW', '<f8'), ('VOL', '<f8')]),\n",
       " rec.array([(24233., 1, 3.98164063, 24041782.),\n",
       "            (24645., 2, 4.635308  ,  7252891.)],\n",
       "           dtype=[('X_AXIS', '<f8'), ('cID', '<i8'), ('X_LW', '<f8'), ('VOL', '<f8')]),\n",
       " rec.array([(24237., 1, 3.12677064, 10003376.),\n",
       "            (24632., 2, 3.        ,  3558928.)],\n",
       "           dtype=[('X_AXIS', '<f8'), ('cID', '<i8'), ('X_LW', '<f8'), ('VOL', '<f8')]),\n",
       " rec.array([(24247., 1, 3.79755695, 11501420. ),\n",
       "            (24555., 2, 3.        ,  3099410.5)],\n",
       "           dtype=[('X_AXIS', '<f8'), ('cID', '<i8'), ('X_LW', '<f8'), ('VOL', '<f8')]),\n",
       " rec.array([(24252., 1, 4.12133308, 13403636. ),\n",
       "            (24519., 2, 4.        ,  3587048.5)],\n",
       "           dtype=[('X_AXIS', '<f8'), ('cID', '<i8'), ('X_LW', '<f8'), ('VOL', '<f8')]),\n",
       " rec.array([(24241., 1, 3.07531859, 12879411.),\n",
       "            (24612., 2, 4.89028233,  4765955.)],\n",
       "           dtype=[('X_AXIS', '<f8'), ('cID', '<i8'), ('X_LW', '<f8'), ('VOL', '<f8')]),\n",
       " rec.array([(24245., 1, 3.90115464, 12036459.),\n",
       "            (24562., 2, 4.        ,  3944257.)],\n",
       "           dtype=[('X_AXIS', '<f8'), ('cID', '<i8'), ('X_LW', '<f8'), ('VOL', '<f8')])]"
      ]
     },
     "execution_count": 26,
     "metadata": {},
     "output_type": "execute_result"
    }
   ],
   "source": [
    "peaks"
   ]
  },
  {
   "cell_type": "code",
   "execution_count": null,
   "metadata": {},
   "outputs": [],
   "source": []
  },
  {
   "cell_type": "code",
   "execution_count": null,
   "metadata": {},
   "outputs": [],
   "source": []
  },
  {
   "cell_type": "code",
   "execution_count": 4,
   "metadata": {},
   "outputs": [],
   "source": [
    "def process_al_nmr(fid_file):\n",
    "    \n",
    "    dic, data = ng.varian.read(fid_file)\n",
    "    \n",
    "    udic = ng.varian.guess_udic(dic, data)\n",
    "    C = ng.convert.converter()\n",
    "    C.from_varian(dic, data, udic)\n",
    "    dic, data = C.to_pipe()\n",
    "    \n",
    "    uc = ng.pipe.make_uc(dic, data)\n",
    "    \n",
    "    data = ng.process.proc_base.fft(data)\n",
    "    \n",
    "    data = ng.process.proc_autophase.autops(data, 'peak_minima')\n",
    "    dic, data = ng.pipe_proc.di(dic, data)\n",
    "    peaks = ng.analysis.peakpick.pick(data, 500000)\n",
    "    \n",
    "    integrals = dict()\n",
    "    \n",
    "    for peak in peaks:\n",
    "        peak_center = peak[0]\n",
    "        peak_id = peak[1]\n",
    "        peak_width = peak[2]\n",
    "        \n",
    "        int_start = (peak_center - peak_width) / 500\n",
    "        int_end = (peak_center + peak_width) / 500\n",
    "        \n",
    "        print(int_start, int_end)\n",
    "        \n",
    "        integrals[peak_id] = ng.analysis.integration.integrate(data, uc, [int_start, int_end])\n",
    "\n",
    "    return dic, data, peaks, integrals"
   ]
  },
  {
   "cell_type": "code",
   "execution_count": 5,
   "metadata": {},
   "outputs": [],
   "source": [
    "peak_list = list()\n",
    "for fid in nmr_files:\n",
    "    peak_list.append(process_al_nmr(fid))"
   ]
  },
  {
   "cell_type": "code",
   "execution_count": 6,
   "metadata": {},
   "outputs": [
    {
     "ename": "IndexError",
     "evalue": "list index out of range",
     "output_type": "error",
     "traceback": [
      "\u001b[0;31m---------------------------------------------------------------------------\u001b[0m",
      "\u001b[0;31mIndexError\u001b[0m                                Traceback (most recent call last)",
      "\u001b[0;32m<ipython-input-6-00aa5e472406>\u001b[0m in \u001b[0;36m<module>\u001b[0;34m()\u001b[0m\n\u001b[0;32m----> 1\u001b[0;31m \u001b[0mdic\u001b[0m\u001b[0;34m,\u001b[0m \u001b[0mdata\u001b[0m\u001b[0;34m,\u001b[0m \u001b[0mpeaks\u001b[0m\u001b[0;34m,\u001b[0m \u001b[0mints\u001b[0m \u001b[0;34m=\u001b[0m \u001b[0mpeak_list\u001b[0m\u001b[0;34m[\u001b[0m\u001b[0;36m0\u001b[0m\u001b[0;34m]\u001b[0m\u001b[0;34m\u001b[0m\u001b[0m\n\u001b[0m",
      "\u001b[0;31mIndexError\u001b[0m: list index out of range"
     ]
    }
   ],
   "source": [
    "dic, data, peaks, ints = peak_list[0]"
   ]
  },
  {
   "cell_type": "code",
   "execution_count": 49,
   "metadata": {},
   "outputs": [
    {
     "data": {
      "text/plain": [
       "{1: array([0.], dtype=float32), 2: array([0.], dtype=float32)}"
      ]
     },
     "execution_count": 49,
     "metadata": {},
     "output_type": "execute_result"
    }
   ],
   "source": [
    "ints"
   ]
  },
  {
   "cell_type": "code",
   "execution_count": null,
   "metadata": {},
   "outputs": [],
   "source": [
    "def integrate_al(dic, data, peaks):\n",
    "    \n",
    "    for peak in peaks:\n",
    "        "
   ]
  },
  {
   "cell_type": "code",
   "execution_count": 1,
   "metadata": {},
   "outputs": [],
   "source": [
    "# dic"
   ]
  },
  {
   "cell_type": "code",
   "execution_count": null,
   "metadata": {},
   "outputs": [],
   "source": []
  }
 ],
 "metadata": {
  "kernelspec": {
   "display_name": "py36",
   "language": "python",
   "name": "py36"
  },
  "language_info": {
   "codemirror_mode": {
    "name": "ipython",
    "version": 3
   },
   "file_extension": ".py",
   "mimetype": "text/x-python",
   "name": "python",
   "nbconvert_exporter": "python",
   "pygments_lexer": "ipython3",
   "version": "3.6.4"
  }
 },
 "nbformat": 4,
 "nbformat_minor": 2
}
