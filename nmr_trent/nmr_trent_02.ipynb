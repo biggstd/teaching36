{
 "cells": [
  {
   "cell_type": "code",
   "execution_count": null,
   "metadata": {},
   "outputs": [],
   "source": [
    "%load_ext autoreload\n",
    "%autoreload 2"
   ]
  },
  {
   "cell_type": "code",
   "execution_count": null,
   "metadata": {},
   "outputs": [],
   "source": [
    "import nmrglue as ng\n",
    "import numpy as np\n",
    "import matplotlib.pyplot as plt\n",
    "import glob\n",
    "%matplotlib inline"
   ]
  },
  {
   "cell_type": "code",
   "execution_count": null,
   "metadata": {},
   "outputs": [],
   "source": [
    "from trentnmr import *"
   ]
  },
  {
   "cell_type": "code",
   "execution_count": null,
   "metadata": {},
   "outputs": [],
   "source": []
  },
  {
   "cell_type": "code",
   "execution_count": null,
   "metadata": {},
   "outputs": [],
   "source": [
    "# data_folder = '/home/tyler/data/Sep-2016-23Na/VT/*.fid'\n",
    "data_folder = '/home/tylerbiggs/data/Sep-2016-23Na/VT/*.fid'\n",
    "# data_folder = '/home/tyler/data/Sep-2016-23Na/23Na/27Al/*.fid'\n",
    "# data_folder = '/home/tyler/data/Sep-2016-23Na/23Na/27Al/0808G1-0p15M-AlOH3-3M-NaOH-D2O/*.fid'"
   ]
  },
  {
   "cell_type": "code",
   "execution_count": null,
   "metadata": {},
   "outputs": [],
   "source": [
    "data_files = sorted(glob.glob(data_folder))\n",
    "data_files"
   ]
  },
  {
   "cell_type": "code",
   "execution_count": null,
   "metadata": {},
   "outputs": [],
   "source": [
    "# Make a dictionary using the paths as keys, this way\n",
    "# I will not lose them.\n",
    "data_dict = {f: read_varian_as_nmrpipe(f) for f in data_files[0:27]}\n",
    "# data_dict  # Very long output."
   ]
  },
  {
   "cell_type": "code",
   "execution_count": null,
   "metadata": {},
   "outputs": [],
   "source": [
    "processed_dict = {f: process_fid(value[0], value[1]) for f, value in data_dict.items()}\n",
    "# processed_dict"
   ]
  },
  {
   "cell_type": "code",
   "execution_count": null,
   "metadata": {},
   "outputs": [],
   "source": [
    "peak_dict = {f: find_nmr_peaks(value[1]) for f, value in processed_dict.items()}\n",
    "# Peak list is output as:\n",
    "# Locations, cluster_ids, scales, amps.\n",
    "# peak_dict"
   ]
  },
  {
   "cell_type": "code",
   "execution_count": null,
   "metadata": {},
   "outputs": [],
   "source": [
    "ppm_peak_dict = dict()\n",
    "for key, value in peak_dict.items():\n",
    "    # Get the corresponding uc conversion object from the processed_dict.\n",
    "    uc = processed_dict[key][2]\n",
    "    ppm_peak_dict[key] = {\n",
    "        \"center\": [peak[0] for peak in value],\n",
    "        \"ppm_lw\": [peak[2] for peak in value]\n",
    "    }\n",
    "    \n",
    "# ppm_peak_dict"
   ]
  },
  {
   "cell_type": "code",
   "execution_count": null,
   "metadata": {},
   "outputs": [],
   "source": [
    "for idx, item in enumerate(processed_dict.items()):\n",
    "    \n",
    "    # Unpack the data.\n",
    "    key, value = item\n",
    "    dic, data, uc = value\n",
    "    \n",
    "    # Get the peaks for this spectra.\n",
    "    spectra_peaks = ppm_peak_dict[key]\n",
    "    peak_centers = spectra_peaks['center']\n",
    "    peak_lw = spectra_peaks['ppm_lw']\n",
    "    \n",
    "    # Create the ppm scale.\n",
    "    ppm_scale = uc.ppm_scale()\n",
    "    \n",
    "    # Plot the nmr data.\n",
    "    fig = plt.figure()\n",
    "    ax = fig.add_subplot(111)\n",
    "    ax.plot(ppm_scale, data, 'k', linewidth=0.75)\n",
    "#     ax.set_xlim(.95, 1.5)\n",
    "    ax.invert_xaxis()\n",
    "    for peak, line_width in zip(peak_centers, peak_lw):\n",
    "        \n",
    "        # Generate the low and high values.\n",
    "        # TODO: Refactor to accept functinons.\n",
    "        low = int(peak - line_width)\n",
    "        high = int(peak + line_width)\n",
    "        \n",
    "        # Ensure we did not get the order wrong.\n",
    "        if low > high:\n",
    "            low, high = high, low\n",
    "        \n",
    "        # Extract data values that make up this peak.\n",
    "        peak_vals = data[low:high + 1]\n",
    "        \n",
    "        # Map these values to the ppm scale.\n",
    "        peak_vals_ppm = ppm_scale[low:high + 1]\n",
    "        \n",
    "        ax.plot(\n",
    "            peak_vals_ppm, \n",
    "            peak_vals.cumsum() / 8 + peak_vals.max(),\n",
    "            'g-')\n",
    "        \n",
    "        ax.text(peak_vals_ppm[0], peak_vals.max(), peak_vals.sum() / 10000)"
   ]
  },
  {
   "cell_type": "code",
   "execution_count": null,
   "metadata": {},
   "outputs": [],
   "source": [
    "# #   plot 0     plot 1    plot 2   plot 3\n",
    "# x=[[1,2,3,4],[1,4,3,4],[1,2,3,4],[9,8,7,4]]\n",
    "# y=[[3,2,3,4],[3,6,3,4],[6,7,8,9],[3,2,2,4]]\n",
    "\n",
    "# plots = zip(x,y)\n",
    "# def loop_plot(plots):\n",
    "#     figs={}\n",
    "#     axs={}\n",
    "#     for idx,plot in enumerate(plots):\n",
    "#         figs[idx]=plt.figure()\n",
    "#         axs[idx]=figs[idx].add_subplot(111)\n",
    "#         axs[idx].plot(plot[0],plot[1])\n",
    "# return figs, axs\n",
    "\n",
    "# figs, axs = loop_plot(plots)"
   ]
  }
 ],
 "metadata": {
  "kernelspec": {
   "display_name": "py36",
   "language": "python",
   "name": "py36"
  },
  "language_info": {
   "codemirror_mode": {
    "name": "ipython",
    "version": 3
   },
   "file_extension": ".py",
   "mimetype": "text/x-python",
   "name": "python",
   "nbconvert_exporter": "python",
   "pygments_lexer": "ipython3",
   "version": "3.6.5"
  }
 },
 "nbformat": 4,
 "nbformat_minor": 2
}
