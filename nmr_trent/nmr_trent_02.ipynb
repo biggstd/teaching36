{
 "cells": [
  {
   "cell_type": "code",
   "execution_count": 3,
   "metadata": {},
   "outputs": [],
   "source": [
    "import nmrglue as ng\n",
    "import matplotlib.pyplot as plt\n",
    "import glob\n",
    "%matplotlib inline"
   ]
  },
  {
   "cell_type": "code",
   "execution_count": 4,
   "metadata": {},
   "outputs": [],
   "source": [
    "nmr_path = '/home/tylerbiggs/data/Sep-2016-23Na/VT/*.fid'"
   ]
  },
  {
   "cell_type": "code",
   "execution_count": 6,
   "metadata": {},
   "outputs": [],
   "source": [
    "nmr_files = glob.glob(nmr_path)"
   ]
  },
  {
   "cell_type": "code",
   "execution_count": 52,
   "metadata": {},
   "outputs": [],
   "source": [
    "def process_al_nmr(fid_file):\n",
    "    \n",
    "    dic, data = ng.varian.read(fid_file)\n",
    "    \n",
    "    udic = ng.varian.guess_udic(dic, data)\n",
    "    C = ng.convert.converter()\n",
    "    C.from_varian(dic, data, udic)\n",
    "    dic, data = C.to_pipe()\n",
    "    \n",
    "    uc = ng.pipe.make_uc(dic, data)\n",
    "    \n",
    "    data = ng.process.proc_base.fft(data)\n",
    "    \n",
    "    data = ng.process.proc_autophase.autops(data, 'peak_minima')\n",
    "    dic, data = ng.pipe_proc.di(dic, data)\n",
    "    peaks = ng.analysis.peakpick.pick(data, 500000)\n",
    "    \n",
    "    integrals = dict()\n",
    "    \n",
    "    for peak in peaks:\n",
    "        peak_center = peak[0]\n",
    "        peak_id = peak[1]\n",
    "        peak_width = peak[2]\n",
    "        \n",
    "        int_start = (peak_center - peak_width) / 500\n",
    "        int_end = (peak_center + peak_width) / 500\n",
    "        \n",
    "        print(int_start, int_end)\n",
    "        \n",
    "        integrals[peak_id] = ng.analysis.integration.integrate(data, uc, [int_start, int_end])\n",
    "\n",
    "    return dic, data, peaks, integrals"
   ]
  },
  {
   "cell_type": "code",
   "execution_count": 53,
   "metadata": {},
   "outputs": [
    {
     "name": "stdout",
     "output_type": "stream",
     "text": [
      "Optimization terminated successfully.\n",
      "         Current function value: 0.000977\n",
      "         Iterations: 60\n",
      "         Function evaluations: 118\n",
      "48.49563612699272 48.51236387300728\n",
      "49.054 49.062\n",
      "Optimization terminated successfully.\n",
      "         Current function value: 0.000000\n",
      "         Iterations: 59\n",
      "         Function evaluations: 112\n",
      "48.492869840673094 48.507130159326906\n",
      "49.056 49.068\n",
      "Optimization terminated successfully.\n",
      "         Current function value: 0.003906\n",
      "         Iterations: 59\n",
      "         Function evaluations: 110\n",
      "48.495757333832444 48.51224266616756\n",
      "49.03 49.046\n",
      "Optimization terminated successfully.\n",
      "         Current function value: 0.001953\n",
      "         Iterations: 62\n",
      "         Function evaluations: 117\n",
      "48.47584936282173 48.48815063717827\n",
      "49.2142194353345 49.2337805646655\n",
      "Optimization terminated successfully.\n",
      "         Current function value: 0.000000\n",
      "         Iterations: 66\n",
      "         Function evaluations: 124\n",
      "48.476860009314 48.491139990685994\n",
      "49.19422251591195 49.20977748408804\n",
      "Optimization terminated successfully.\n",
      "         Current function value: 0.001953\n",
      "         Iterations: 65\n",
      "         Function evaluations: 122\n",
      "48.47085007865608 48.485149921343925\n",
      "49.234 49.25\n",
      "Optimization terminated successfully.\n",
      "         Current function value: 0.001953\n",
      "         Iterations: 61\n",
      "         Function evaluations: 116\n",
      "48.500589889700414 48.515410110299584\n",
      "49.008 49.02\n",
      "Optimization terminated successfully.\n",
      "         Current function value: 34701.679688\n",
      "         Iterations: 63\n",
      "         Function evaluations: 128\n",
      "48.4821976907133 48.4978023092867\n",
      "49.116 49.132\n",
      "Optimization terminated successfully.\n",
      "         Current function value: 0.000000\n",
      "         Iterations: 62\n",
      "         Function evaluations: 118\n",
      "48.48640488609274 48.50159511390726\n",
      "49.104 49.116\n",
      "Optimization terminated successfully.\n",
      "         Current function value: 0.000000\n",
      "         Iterations: 61\n",
      "         Function evaluations: 120\n",
      "48.50496270197872 48.52303729802128\n",
      "48.958 48.966\n",
      "Optimization terminated successfully.\n",
      "         Current function value: 0.000000\n",
      "         Iterations: 62\n",
      "         Function evaluations: 120\n",
      "48.47714068383933 48.490859316160666\n",
      "49.170113279524145 49.18588672047586\n",
      "Optimization terminated successfully.\n",
      "         Current function value: 0.005859\n",
      "         Iterations: 56\n",
      "         Function evaluations: 107\n",
      "48.489462761399075 48.50653723860093\n",
      "49.08 49.092\n",
      "Optimization terminated successfully.\n",
      "         Current function value: 0.000000\n",
      "         Iterations: 72\n",
      "         Function evaluations: 137\n",
      "48.458036718746875 48.47396328125313\n",
      "49.28072938400722 49.299270615992775\n",
      "Optimization terminated successfully.\n",
      "         Current function value: 0.000000\n",
      "         Iterations: 64\n",
      "         Function evaluations: 128\n",
      "48.47943129515084 48.49256870484916\n",
      "49.14005776660607 49.15594223339393\n",
      "Optimization terminated successfully.\n",
      "         Current function value: 0.000000\n",
      "         Iterations: 62\n",
      "         Function evaluations: 117\n",
      "48.46774645871587 48.48025354128412\n",
      "49.258 49.27\n",
      "Optimization terminated successfully.\n",
      "         Current function value: 0.001953\n",
      "         Iterations: 58\n",
      "         Function evaluations: 113\n",
      "48.49982325715748 48.516176742842525\n",
      "49.032 49.04\n",
      "Optimization terminated successfully.\n",
      "         Current function value: 0.000000\n",
      "         Iterations: 60\n",
      "         Function evaluations: 116\n",
      "48.50164937075122 48.51835062924878\n",
      "48.986 48.994\n"
     ]
    }
   ],
   "source": [
    "peak_list = list()\n",
    "for fid in nmr_files:\n",
    "    peak_list.append(process_al_nmr(fid))"
   ]
  },
  {
   "cell_type": "code",
   "execution_count": 48,
   "metadata": {},
   "outputs": [],
   "source": [
    "dic, data, peaks, ints = peak_list[0]"
   ]
  },
  {
   "cell_type": "code",
   "execution_count": 49,
   "metadata": {},
   "outputs": [
    {
     "data": {
      "text/plain": [
       "{1: array([0.], dtype=float32), 2: array([0.], dtype=float32)}"
      ]
     },
     "execution_count": 49,
     "metadata": {},
     "output_type": "execute_result"
    }
   ],
   "source": [
    "ints"
   ]
  },
  {
   "cell_type": "code",
   "execution_count": null,
   "metadata": {},
   "outputs": [],
   "source": [
    "def integrate_al(dic, data, peaks):\n",
    "    \n",
    "    for peak in peaks:\n",
    "        "
   ]
  },
  {
   "cell_type": "code",
   "execution_count": 1,
   "metadata": {},
   "outputs": [],
   "source": [
    "# dic"
   ]
  },
  {
   "cell_type": "code",
   "execution_count": null,
   "metadata": {},
   "outputs": [],
   "source": []
  }
 ],
 "metadata": {
  "kernelspec": {
   "display_name": "py36",
   "language": "python",
   "name": "py36"
  },
  "language_info": {
   "codemirror_mode": {
    "name": "ipython",
    "version": 3
   },
   "file_extension": ".py",
   "mimetype": "text/x-python",
   "name": "python",
   "nbconvert_exporter": "python",
   "pygments_lexer": "ipython3",
   "version": "3.6.4"
  }
 },
 "nbformat": 4,
 "nbformat_minor": 2
}
