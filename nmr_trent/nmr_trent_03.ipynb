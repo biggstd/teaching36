{
 "cells": [
  {
   "cell_type": "markdown",
   "metadata": {},
   "source": [
    "# NMR Processing Overview\n",
    "\n",
    "---\n",
    "\n",
    "1. Split files into different categories.\n",
    "    1. How many individual fids?\n",
    "    2. How many array experiments?\n",
    "    3. How are temperature sets stored?\n",
    "    4. How are materials stored?\n",
    "2. Develop / confirm metadata for those categories.\n",
    "    + Cross reference with documentation provided by Trent.\n",
    "    + Compare processing demo results to Trent's data. \n",
    "    + Meet with Trent to confirm assignments.\n",
    "3. Prioritize subsets.\n",
    "3. **Design Bokeh application**\n",
    "4. Process subsets."
   ]
  },
  {
   "cell_type": "markdown",
   "metadata": {},
   "source": [
    "#### Set Local Data Path\n",
    "\n",
    "Since the total available data is around 2 gb it may be stored in different locations on different machines. Define a base path to the data to simplify this.\n",
    "\n",
    "---"
   ]
  },
  {
   "cell_type": "code",
   "execution_count": 1,
   "metadata": {},
   "outputs": [],
   "source": [
    "# data_folder = '/home/tylerbiggs/data/Sep-2016-23Na'\n",
    "data_folder = '/home/tyler/data/Sep-2016-23Na'"
   ]
  },
  {
   "cell_type": "markdown",
   "metadata": {},
   "source": [
    "#### Import Packages\n",
    "\n",
    "---"
   ]
  },
  {
   "cell_type": "code",
   "execution_count": 2,
   "metadata": {},
   "outputs": [],
   "source": [
    "import nmrglue as ng\n",
    "import numpy as np\n",
    "import matplotlib.pyplot as plt\n",
    "import pandas as pd\n",
    "import glob\n",
    "import re\n",
    "import os\n",
    "%matplotlib inline"
   ]
  },
  {
   "cell_type": "code",
   "execution_count": 3,
   "metadata": {},
   "outputs": [],
   "source": [
    "from trentnmr import *"
   ]
  },
  {
   "cell_type": "markdown",
   "metadata": {},
   "source": [
    "## Splitting Files into Categories\n",
    "\n",
    "Using glob to get all the folders in the data directory.\n",
    "\n",
    "---"
   ]
  },
  {
   "cell_type": "code",
   "execution_count": 4,
   "metadata": {},
   "outputs": [],
   "source": [
    "array_glob = data_folder + '/**/*arrays*.fid'\n",
    "all_fid_glob = data_folder + '/**/*.fid'\n",
    "\n",
    "array_folders = {fn for fn in glob.iglob(array_glob, recursive=True)}\n",
    "all_fid_folders = {fn for fn in glob.iglob(all_fid_glob, recursive=True)}\n",
    "\n",
    "fid_folders = all_fid_folders - array_folders"
   ]
  },
  {
   "cell_type": "markdown",
   "metadata": {},
   "source": [
    "#### How many individual fids are there?\n",
    "\n",
    "#### How many array files are there?"
   ]
  },
  {
   "cell_type": "code",
   "execution_count": 5,
   "metadata": {},
   "outputs": [
    {
     "name": "stdout",
     "output_type": "stream",
     "text": [
      "All fid folders:  301\n",
      "Array folders:  86\n",
      "Fid folders:  215\n"
     ]
    }
   ],
   "source": [
    "print('All fid folders: ', len(all_fid_folders))\n",
    "print('Array folders: ', len(array_folders))\n",
    "print('Fid folders: ', len(fid_folders))"
   ]
  },
  {
   "cell_type": "markdown",
   "metadata": {},
   "source": [
    "#### How are temperatures stored?\n",
    "\n",
    "Build some usefull regex strings."
   ]
  },
  {
   "cell_type": "code",
   "execution_count": 6,
   "metadata": {},
   "outputs": [],
   "source": [
    "deg_C_regx = \"([0-9]*)C\"\n",
    "all_hz_glob = \"([0-9])+(Hz)\"\n",
    "molarity_glob = \"(\\d*)p*(\\d*)M-(AlOH3|LiOH|NaOH)*\"\n",
    "nmr_element_glob = \"(27Al|23Na)\"\n",
    "gibbsite_glob = \"(\\w*-)(Gibbsite)\"\n",
    "milli_gram_glob = \"(\\d*)p(\\d*)mg\""
   ]
  },
  {
   "cell_type": "code",
   "execution_count": 7,
   "metadata": {},
   "outputs": [],
   "source": [
    "temperatures = [re.search(deg_C_regx, x).group() if re.search(deg_C_regx, x) else None for x in all_fid_folders]\n",
    "# print(temperatures)"
   ]
  },
  {
   "cell_type": "markdown",
   "metadata": {},
   "source": [
    "#### How are Materials stored?"
   ]
  },
  {
   "cell_type": "markdown",
   "metadata": {},
   "source": [
    "**Gibbsite**"
   ]
  },
  {
   "cell_type": "code",
   "execution_count": 8,
   "metadata": {},
   "outputs": [],
   "source": [
    "gibbsite_arrays = [re.search(gibbsite_glob, x).group() if re.search(gibbsite_glob, x) else None for x in all_fid_folders]\n",
    "# print(gibbsite_arrays)"
   ]
  },
  {
   "cell_type": "markdown",
   "metadata": {},
   "source": [
    "**Molarity**"
   ]
  },
  {
   "cell_type": "code",
   "execution_count": 9,
   "metadata": {},
   "outputs": [],
   "source": [
    "molarities = [re.search(molarity_glob, x).group() if re.search(molarity_glob, x) else None for x in all_fid_folders]\n",
    "# print(molarities)"
   ]
  },
  {
   "cell_type": "markdown",
   "metadata": {},
   "source": [
    "#### Milligram Weights"
   ]
  },
  {
   "cell_type": "code",
   "execution_count": 10,
   "metadata": {},
   "outputs": [],
   "source": [
    "milligrams = [re.search(milli_gram_glob, x).group() if re.search(milli_gram_glob, x) else None for x in all_fid_folders]\n",
    "# print(milligrams)"
   ]
  },
  {
   "cell_type": "markdown",
   "metadata": {},
   "source": [
    "### Dataframe"
   ]
  },
  {
   "cell_type": "markdown",
   "metadata": {},
   "source": [
    "#### Folder Structure"
   ]
  },
  {
   "cell_type": "code",
   "execution_count": 11,
   "metadata": {},
   "outputs": [],
   "source": [
    "all_fids = ['/'.join(os.path.normpath(path).split(os.sep)[5:]) for path in all_fid_folders]\n",
    "# all_fids"
   ]
  },
  {
   "cell_type": "code",
   "execution_count": 12,
   "metadata": {},
   "outputs": [
    {
     "data": {
      "text/html": [
       "<div>\n",
       "<style scoped>\n",
       "    .dataframe tbody tr th:only-of-type {\n",
       "        vertical-align: middle;\n",
       "    }\n",
       "\n",
       "    .dataframe tbody tr th {\n",
       "        vertical-align: top;\n",
       "    }\n",
       "\n",
       "    .dataframe thead th {\n",
       "        text-align: right;\n",
       "    }\n",
       "</style>\n",
       "<table border=\"1\" class=\"dataframe\">\n",
       "  <thead>\n",
       "    <tr style=\"text-align: right;\">\n",
       "      <th></th>\n",
       "      <th>filenames</th>\n",
       "    </tr>\n",
       "  </thead>\n",
       "  <tbody>\n",
       "    <tr>\n",
       "      <th>0</th>\n",
       "      <td>23Na/27Al/0808G1-0p15M-AlOH3-3M-NaOH-D2O/23Na-...</td>\n",
       "    </tr>\n",
       "    <tr>\n",
       "      <th>1</th>\n",
       "      <td>23Na/23Na-3M-NaOH-D2O-2686Hz-60C-16ctF.fid</td>\n",
       "    </tr>\n",
       "    <tr>\n",
       "      <th>2</th>\n",
       "      <td>23Na/23Na-3M-NaOH-D2O-2617Hz-140C-16ct.fid</td>\n",
       "    </tr>\n",
       "    <tr>\n",
       "      <th>3</th>\n",
       "      <td>23Na/27Al/0808G1-0p5M-AlOH3-3M-NaOH-D2O/27Al-w...</td>\n",
       "    </tr>\n",
       "    <tr>\n",
       "      <th>4</th>\n",
       "      <td>23Na/27Al/0808G1-0p15M-AlOH3-3M-NaOH-D2O/27Al-...</td>\n",
       "    </tr>\n",
       "  </tbody>\n",
       "</table>\n",
       "</div>"
      ],
      "text/plain": [
       "                                           filenames\n",
       "0  23Na/27Al/0808G1-0p15M-AlOH3-3M-NaOH-D2O/23Na-...\n",
       "1         23Na/23Na-3M-NaOH-D2O-2686Hz-60C-16ctF.fid\n",
       "2         23Na/23Na-3M-NaOH-D2O-2617Hz-140C-16ct.fid\n",
       "3  23Na/27Al/0808G1-0p5M-AlOH3-3M-NaOH-D2O/27Al-w...\n",
       "4  23Na/27Al/0808G1-0p15M-AlOH3-3M-NaOH-D2O/27Al-..."
      ]
     },
     "execution_count": 12,
     "metadata": {},
     "output_type": "execute_result"
    }
   ],
   "source": [
    "data = {'filenames': all_fids}\n",
    "\n",
    "df = pd.DataFrame(data)\n",
    "df.head()"
   ]
  },
  {
   "cell_type": "code",
   "execution_count": 13,
   "metadata": {},
   "outputs": [
    {
     "name": "stderr",
     "output_type": "stream",
     "text": [
      "/home/tyler/anaconda3/envs/py36/lib/python3.6/site-packages/ipykernel_launcher.py:1: FutureWarning: currently extract(expand=None) means expand=False (return Index/Series/DataFrame) but in a future version of pandas this will be changed to expand=True (return DataFrame)\n",
      "  \"\"\"Entry point for launching an IPython kernel.\n"
     ]
    },
    {
     "data": {
      "text/html": [
       "<div>\n",
       "<style scoped>\n",
       "    .dataframe tbody tr th:only-of-type {\n",
       "        vertical-align: middle;\n",
       "    }\n",
       "\n",
       "    .dataframe tbody tr th {\n",
       "        vertical-align: top;\n",
       "    }\n",
       "\n",
       "    .dataframe thead th {\n",
       "        text-align: right;\n",
       "    }\n",
       "</style>\n",
       "<table border=\"1\" class=\"dataframe\">\n",
       "  <thead>\n",
       "    <tr style=\"text-align: right;\">\n",
       "      <th></th>\n",
       "      <th>filenames</th>\n",
       "      <th>deg_C</th>\n",
       "    </tr>\n",
       "  </thead>\n",
       "  <tbody>\n",
       "    <tr>\n",
       "      <th>0</th>\n",
       "      <td>23Na/27Al/0808G1-0p15M-AlOH3-3M-NaOH-D2O/23Na-...</td>\n",
       "      <td>110</td>\n",
       "    </tr>\n",
       "    <tr>\n",
       "      <th>1</th>\n",
       "      <td>23Na/23Na-3M-NaOH-D2O-2686Hz-60C-16ctF.fid</td>\n",
       "      <td>60</td>\n",
       "    </tr>\n",
       "    <tr>\n",
       "      <th>2</th>\n",
       "      <td>23Na/23Na-3M-NaOH-D2O-2617Hz-140C-16ct.fid</td>\n",
       "      <td>140</td>\n",
       "    </tr>\n",
       "    <tr>\n",
       "      <th>3</th>\n",
       "      <td>23Na/27Al/0808G1-0p5M-AlOH3-3M-NaOH-D2O/27Al-w...</td>\n",
       "      <td>25</td>\n",
       "    </tr>\n",
       "    <tr>\n",
       "      <th>4</th>\n",
       "      <td>23Na/27Al/0808G1-0p15M-AlOH3-3M-NaOH-D2O/27Al-...</td>\n",
       "      <td>50</td>\n",
       "    </tr>\n",
       "  </tbody>\n",
       "</table>\n",
       "</div>"
      ],
      "text/plain": [
       "                                           filenames deg_C\n",
       "0  23Na/27Al/0808G1-0p15M-AlOH3-3M-NaOH-D2O/23Na-...   110\n",
       "1         23Na/23Na-3M-NaOH-D2O-2686Hz-60C-16ctF.fid    60\n",
       "2         23Na/23Na-3M-NaOH-D2O-2617Hz-140C-16ct.fid   140\n",
       "3  23Na/27Al/0808G1-0p5M-AlOH3-3M-NaOH-D2O/27Al-w...    25\n",
       "4  23Na/27Al/0808G1-0p15M-AlOH3-3M-NaOH-D2O/27Al-...    50"
      ]
     },
     "execution_count": 13,
     "metadata": {},
     "output_type": "execute_result"
    }
   ],
   "source": [
    "df['deg_C'] = df['filenames'].str.extract(deg_C_regx)\n",
    "df.head()"
   ]
  },
  {
   "cell_type": "code",
   "execution_count": 14,
   "metadata": {},
   "outputs": [],
   "source": [
    "al_molarity_regex = \"(\\d*)p*(\\d*)M-AlOH3\""
   ]
  },
  {
   "cell_type": "code",
   "execution_count": 15,
   "metadata": {},
   "outputs": [
    {
     "name": "stderr",
     "output_type": "stream",
     "text": [
      "/home/tyler/anaconda3/envs/py36/lib/python3.6/site-packages/ipykernel_launcher.py:1: FutureWarning: currently extract(expand=None) means expand=False (return Index/Series/DataFrame) but in a future version of pandas this will be changed to expand=True (return DataFrame)\n",
      "  \"\"\"Entry point for launching an IPython kernel.\n"
     ]
    }
   ],
   "source": [
    "raw_al_molarity = df['filenames'].str.extract(al_molarity_regex)"
   ]
  },
  {
   "cell_type": "code",
   "execution_count": 16,
   "metadata": {},
   "outputs": [
    {
     "data": {
      "text/html": [
       "<div>\n",
       "<style scoped>\n",
       "    .dataframe tbody tr th:only-of-type {\n",
       "        vertical-align: middle;\n",
       "    }\n",
       "\n",
       "    .dataframe tbody tr th {\n",
       "        vertical-align: top;\n",
       "    }\n",
       "\n",
       "    .dataframe thead th {\n",
       "        text-align: right;\n",
       "    }\n",
       "</style>\n",
       "<table border=\"1\" class=\"dataframe\">\n",
       "  <thead>\n",
       "    <tr style=\"text-align: right;\">\n",
       "      <th></th>\n",
       "      <th>filenames</th>\n",
       "      <th>deg_C</th>\n",
       "      <th>al_molarity</th>\n",
       "    </tr>\n",
       "  </thead>\n",
       "  <tbody>\n",
       "    <tr>\n",
       "      <th>0</th>\n",
       "      <td>23Na/27Al/0808G1-0p15M-AlOH3-3M-NaOH-D2O/23Na-...</td>\n",
       "      <td>110</td>\n",
       "      <td>0.15</td>\n",
       "    </tr>\n",
       "    <tr>\n",
       "      <th>1</th>\n",
       "      <td>23Na/23Na-3M-NaOH-D2O-2686Hz-60C-16ctF.fid</td>\n",
       "      <td>60</td>\n",
       "      <td>NaN</td>\n",
       "    </tr>\n",
       "    <tr>\n",
       "      <th>2</th>\n",
       "      <td>23Na/23Na-3M-NaOH-D2O-2617Hz-140C-16ct.fid</td>\n",
       "      <td>140</td>\n",
       "      <td>NaN</td>\n",
       "    </tr>\n",
       "    <tr>\n",
       "      <th>3</th>\n",
       "      <td>23Na/27Al/0808G1-0p5M-AlOH3-3M-NaOH-D2O/27Al-w...</td>\n",
       "      <td>25</td>\n",
       "      <td>0.5</td>\n",
       "    </tr>\n",
       "    <tr>\n",
       "      <th>4</th>\n",
       "      <td>23Na/27Al/0808G1-0p15M-AlOH3-3M-NaOH-D2O/27Al-...</td>\n",
       "      <td>50</td>\n",
       "      <td>0.15</td>\n",
       "    </tr>\n",
       "  </tbody>\n",
       "</table>\n",
       "</div>"
      ],
      "text/plain": [
       "                                           filenames deg_C al_molarity\n",
       "0  23Na/27Al/0808G1-0p15M-AlOH3-3M-NaOH-D2O/23Na-...   110        0.15\n",
       "1         23Na/23Na-3M-NaOH-D2O-2686Hz-60C-16ctF.fid    60         NaN\n",
       "2         23Na/23Na-3M-NaOH-D2O-2617Hz-140C-16ct.fid   140         NaN\n",
       "3  23Na/27Al/0808G1-0p5M-AlOH3-3M-NaOH-D2O/27Al-w...    25         0.5\n",
       "4  23Na/27Al/0808G1-0p15M-AlOH3-3M-NaOH-D2O/27Al-...    50        0.15"
      ]
     },
     "execution_count": 16,
     "metadata": {},
     "output_type": "execute_result"
    }
   ],
   "source": [
    "df['al_molarity'] = raw_al_molarity.loc[:, 0] + '.' + raw_al_molarity.loc[:, 1]\n",
    "df.head()"
   ]
  },
  {
   "cell_type": "code",
   "execution_count": 17,
   "metadata": {},
   "outputs": [
    {
     "name": "stderr",
     "output_type": "stream",
     "text": [
      "/home/tyler/anaconda3/envs/py36/lib/python3.6/site-packages/ipykernel_launcher.py:1: FutureWarning: currently extract(expand=None) means expand=False (return Index/Series/DataFrame) but in a future version of pandas this will be changed to expand=True (return DataFrame)\n",
      "  \"\"\"Entry point for launching an IPython kernel.\n"
     ]
    },
    {
     "data": {
      "text/html": [
       "<div>\n",
       "<style scoped>\n",
       "    .dataframe tbody tr th:only-of-type {\n",
       "        vertical-align: middle;\n",
       "    }\n",
       "\n",
       "    .dataframe tbody tr th {\n",
       "        vertical-align: top;\n",
       "    }\n",
       "\n",
       "    .dataframe thead th {\n",
       "        text-align: right;\n",
       "    }\n",
       "</style>\n",
       "<table border=\"1\" class=\"dataframe\">\n",
       "  <thead>\n",
       "    <tr style=\"text-align: right;\">\n",
       "      <th></th>\n",
       "      <th>filenames</th>\n",
       "      <th>deg_C</th>\n",
       "      <th>al_molarity</th>\n",
       "      <th>mg</th>\n",
       "    </tr>\n",
       "  </thead>\n",
       "  <tbody>\n",
       "    <tr>\n",
       "      <th>0</th>\n",
       "      <td>23Na/27Al/0808G1-0p15M-AlOH3-3M-NaOH-D2O/23Na-...</td>\n",
       "      <td>110</td>\n",
       "      <td>0.15</td>\n",
       "      <td>NaN</td>\n",
       "    </tr>\n",
       "    <tr>\n",
       "      <th>1</th>\n",
       "      <td>23Na/23Na-3M-NaOH-D2O-2686Hz-60C-16ctF.fid</td>\n",
       "      <td>60</td>\n",
       "      <td>NaN</td>\n",
       "      <td>NaN</td>\n",
       "    </tr>\n",
       "    <tr>\n",
       "      <th>2</th>\n",
       "      <td>23Na/23Na-3M-NaOH-D2O-2617Hz-140C-16ct.fid</td>\n",
       "      <td>140</td>\n",
       "      <td>NaN</td>\n",
       "      <td>NaN</td>\n",
       "    </tr>\n",
       "    <tr>\n",
       "      <th>3</th>\n",
       "      <td>23Na/27Al/0808G1-0p5M-AlOH3-3M-NaOH-D2O/27Al-w...</td>\n",
       "      <td>25</td>\n",
       "      <td>0.5</td>\n",
       "      <td>NaN</td>\n",
       "    </tr>\n",
       "    <tr>\n",
       "      <th>4</th>\n",
       "      <td>23Na/27Al/0808G1-0p15M-AlOH3-3M-NaOH-D2O/27Al-...</td>\n",
       "      <td>50</td>\n",
       "      <td>0.15</td>\n",
       "      <td>NaN</td>\n",
       "    </tr>\n",
       "  </tbody>\n",
       "</table>\n",
       "</div>"
      ],
      "text/plain": [
       "                                           filenames deg_C al_molarity   mg\n",
       "0  23Na/27Al/0808G1-0p15M-AlOH3-3M-NaOH-D2O/23Na-...   110        0.15  NaN\n",
       "1         23Na/23Na-3M-NaOH-D2O-2686Hz-60C-16ctF.fid    60         NaN  NaN\n",
       "2         23Na/23Na-3M-NaOH-D2O-2617Hz-140C-16ct.fid   140         NaN  NaN\n",
       "3  23Na/27Al/0808G1-0p5M-AlOH3-3M-NaOH-D2O/27Al-w...    25         0.5  NaN\n",
       "4  23Na/27Al/0808G1-0p15M-AlOH3-3M-NaOH-D2O/27Al-...    50        0.15  NaN"
      ]
     },
     "execution_count": 17,
     "metadata": {},
     "output_type": "execute_result"
    }
   ],
   "source": [
    "raw_mg = df['filenames'].str.extract(milli_gram_glob)\n",
    "df['mg'] = raw_mg.loc[:, 0] + '.' + raw_mg.loc[:, 1]\n",
    "df.head()"
   ]
  },
  {
   "cell_type": "code",
   "execution_count": 18,
   "metadata": {},
   "outputs": [],
   "source": [
    "# df['filenames'].str.extract(gibbsite_glob)"
   ]
  },
  {
   "cell_type": "markdown",
   "metadata": {},
   "source": [
    "# New Folder Globs\n",
    "\n",
    "Separate based on parent folder into disparate data frames.\n",
    "\n",
    "---"
   ]
  },
  {
   "cell_type": "code",
   "execution_count": 48,
   "metadata": {},
   "outputs": [
    {
     "name": "stdout",
     "output_type": "stream",
     "text": [
      "\u001b[0m\u001b[01;34m23Na-empty-rotor-2845Hz-512ctF.fid\u001b[0m/  \u001b[01;34m27Al-empty-rotor-2845Hz-512ctF.fid\u001b[0m/\n",
      "\u001b[01;34m23Na-empty-rotor-2845Hz-512ct.fid\u001b[0m/   \u001b[01;34m27Al-empty-rotor-2845Hz-512ct.fid\u001b[0m/\n"
     ]
    }
   ],
   "source": [
    "# Did you know that ls can even do tab-complete?\n",
    "%ls /home/tyler/data/Sep-2016-23Na/23Na/27Al/background/"
   ]
  },
  {
   "cell_type": "markdown",
   "metadata": {},
   "source": [
    "### Define Parent Folders"
   ]
  },
  {
   "cell_type": "code",
   "execution_count": 20,
   "metadata": {},
   "outputs": [],
   "source": [
    "vt_fid_base = os.path.join(data_folder, 'VT')\n",
    "na_base = os.path.join(data_folder, '23Na')\n",
    "al_base = os.path.join(na_base, '27Al')\n",
    "al_base_standard = os.path.join(al_base, 'background')\n",
    "al_base_background = os.path.join(al_base, 'standard')"
   ]
  },
  {
   "cell_type": "code",
   "execution_count": 49,
   "metadata": {},
   "outputs": [],
   "source": [
    "array_glob = '/*arrays*.fid'\n",
    "fid_glob = '/*.fid'"
   ]
  },
  {
   "cell_type": "markdown",
   "metadata": {},
   "source": [
    "### Glob Parent Folders"
   ]
  },
  {
   "cell_type": "code",
   "execution_count": 50,
   "metadata": {},
   "outputs": [],
   "source": [
    "sodium_temp_fids = {fn for fn in glob.iglob(vt_fid_base + fid_glob, recursive=False)}\n",
    "sodium_temp_fids = ['/'.join(os.path.normpath(path).split(os.sep)[5:]) for path in sodium_temp_fids]\n",
    "\n",
    "na_base_fids = {fn for fn in glob.iglob(na_base + fid_glob, recursive=False)}\n",
    "na_base_fids = ['/'.join(os.path.normpath(path).split(os.sep)[5:]) for path in na_base_fids]\n",
    "\n",
    "al_base_fids = {fn for fn in glob.iglob(al_base + fid_glob, recursive=False)}\n",
    "al_base_fids = ['/'.join(os.path.normpath(path).split(os.sep)[5:]) for path in al_base_fids]\n",
    "\n",
    "al_base_standard_fids = {fn for fn in glob.iglob(al_base + fid_glob, recursive=False)}\n",
    "al_base_standard_fids = ['/'.join(os.path.normpath(path).split(os.sep)[5:]) for path in al_base_standard_fids]\n",
    "\n",
    "al_base_background_fids = {fn for fn in glob.iglob(al_base + fid_glob, recursive=False)}\n",
    "al_base_background_fids = ['/'.join(os.path.normpath(path).split(os.sep)[5:]) for path in al_base_background_fids]"
   ]
  },
  {
   "cell_type": "markdown",
   "metadata": {},
   "source": [
    "#### Sodium Temperature"
   ]
  },
  {
   "cell_type": "code",
   "execution_count": 51,
   "metadata": {},
   "outputs": [
    {
     "name": "stderr",
     "output_type": "stream",
     "text": [
      "/home/tyler/anaconda3/envs/py36/lib/python3.6/site-packages/ipykernel_launcher.py:2: FutureWarning: currently extract(expand=None) means expand=False (return Index/Series/DataFrame) but in a future version of pandas this will be changed to expand=True (return DataFrame)\n",
      "  \n"
     ]
    },
    {
     "data": {
      "text/html": [
       "<div>\n",
       "<style scoped>\n",
       "    .dataframe tbody tr th:only-of-type {\n",
       "        vertical-align: middle;\n",
       "    }\n",
       "\n",
       "    .dataframe tbody tr th {\n",
       "        vertical-align: top;\n",
       "    }\n",
       "\n",
       "    .dataframe thead th {\n",
       "        text-align: right;\n",
       "    }\n",
       "</style>\n",
       "<table border=\"1\" class=\"dataframe\">\n",
       "  <thead>\n",
       "    <tr style=\"text-align: right;\">\n",
       "      <th></th>\n",
       "      <th>filenames</th>\n",
       "      <th>degree_C</th>\n",
       "    </tr>\n",
       "  </thead>\n",
       "  <tbody>\n",
       "    <tr>\n",
       "      <th>0</th>\n",
       "      <td>VT/150C.fid</td>\n",
       "      <td>150</td>\n",
       "    </tr>\n",
       "    <tr>\n",
       "      <th>1</th>\n",
       "      <td>VT/170C.fid</td>\n",
       "      <td>170</td>\n",
       "    </tr>\n",
       "    <tr>\n",
       "      <th>2</th>\n",
       "      <td>VT/110C.fid</td>\n",
       "      <td>110</td>\n",
       "    </tr>\n",
       "    <tr>\n",
       "      <th>3</th>\n",
       "      <td>VT/60C.fid</td>\n",
       "      <td>60</td>\n",
       "    </tr>\n",
       "    <tr>\n",
       "      <th>4</th>\n",
       "      <td>VT/120C.fid</td>\n",
       "      <td>120</td>\n",
       "    </tr>\n",
       "  </tbody>\n",
       "</table>\n",
       "</div>"
      ],
      "text/plain": [
       "     filenames degree_C\n",
       "0  VT/150C.fid      150\n",
       "1  VT/170C.fid      170\n",
       "2  VT/110C.fid      110\n",
       "3   VT/60C.fid       60\n",
       "4  VT/120C.fid      120"
      ]
     },
     "execution_count": 51,
     "metadata": {},
     "output_type": "execute_result"
    }
   ],
   "source": [
    "na_temp_df = pd.DataFrame({\"filenames\": list(sodium_temp_fids)})\n",
    "na_temp_df['degree_C'] = na_temp_df['filenames'].str.extract(deg_C_regx)\n",
    "na_temp_df.head()"
   ]
  },
  {
   "cell_type": "markdown",
   "metadata": {},
   "source": [
    "### Sodium Temperature"
   ]
  },
  {
   "cell_type": "code",
   "execution_count": 46,
   "metadata": {},
   "outputs": [
    {
     "name": "stderr",
     "output_type": "stream",
     "text": [
      "/home/tyler/anaconda3/envs/py36/lib/python3.6/site-packages/ipykernel_launcher.py:4: FutureWarning: currently extract(expand=None) means expand=False (return Index/Series/DataFrame) but in a future version of pandas this will be changed to expand=True (return DataFrame)\n",
      "  after removing the cwd from sys.path.\n",
      "/home/tyler/anaconda3/envs/py36/lib/python3.6/site-packages/ipykernel_launcher.py:6: FutureWarning: currently extract(expand=None) means expand=False (return Index/Series/DataFrame) but in a future version of pandas this will be changed to expand=True (return DataFrame)\n",
      "  \n"
     ]
    },
    {
     "data": {
      "text/html": [
       "<div>\n",
       "<style scoped>\n",
       "    .dataframe tbody tr th:only-of-type {\n",
       "        vertical-align: middle;\n",
       "    }\n",
       "\n",
       "    .dataframe tbody tr th {\n",
       "        vertical-align: top;\n",
       "    }\n",
       "\n",
       "    .dataframe thead th {\n",
       "        text-align: right;\n",
       "    }\n",
       "</style>\n",
       "<table border=\"1\" class=\"dataframe\">\n",
       "  <thead>\n",
       "    <tr style=\"text-align: right;\">\n",
       "      <th></th>\n",
       "      <th>filenames</th>\n",
       "      <th>degree_C</th>\n",
       "      <th>al_molarity</th>\n",
       "    </tr>\n",
       "  </thead>\n",
       "  <tbody>\n",
       "    <tr>\n",
       "      <th>0</th>\n",
       "      <td>23Na/23Na-3M-NaOH-D2O-2702Hz-40C-16ct.fid</td>\n",
       "      <td>40</td>\n",
       "      <td>3.</td>\n",
       "    </tr>\n",
       "    <tr>\n",
       "      <th>1</th>\n",
       "      <td>23Na/23Na-3M-NaOH-D2O-2686Hz-60C-16ctF.fid</td>\n",
       "      <td>60</td>\n",
       "      <td>3.</td>\n",
       "    </tr>\n",
       "    <tr>\n",
       "      <th>2</th>\n",
       "      <td>23Na/23Na-3M-NaOH-D2O-2617Hz-130C-16ctF-shim.fid</td>\n",
       "      <td>130</td>\n",
       "      <td>3.</td>\n",
       "    </tr>\n",
       "    <tr>\n",
       "      <th>3</th>\n",
       "      <td>23Na/23Na-3M-NaOH-D2O-2617Hz-140C-16ct.fid</td>\n",
       "      <td>140</td>\n",
       "      <td>3.</td>\n",
       "    </tr>\n",
       "    <tr>\n",
       "      <th>4</th>\n",
       "      <td>23Na/23Na-3M-NaOH-D2O-2710Hz-25C-16ctF-down.fid</td>\n",
       "      <td>25</td>\n",
       "      <td>3.</td>\n",
       "    </tr>\n",
       "  </tbody>\n",
       "</table>\n",
       "</div>"
      ],
      "text/plain": [
       "                                          filenames degree_C al_molarity\n",
       "0         23Na/23Na-3M-NaOH-D2O-2702Hz-40C-16ct.fid       40          3.\n",
       "1        23Na/23Na-3M-NaOH-D2O-2686Hz-60C-16ctF.fid       60          3.\n",
       "2  23Na/23Na-3M-NaOH-D2O-2617Hz-130C-16ctF-shim.fid      130          3.\n",
       "3        23Na/23Na-3M-NaOH-D2O-2617Hz-140C-16ct.fid      140          3.\n",
       "4   23Na/23Na-3M-NaOH-D2O-2710Hz-25C-16ctF-down.fid       25          3."
      ]
     },
     "execution_count": 46,
     "metadata": {},
     "output_type": "execute_result"
    }
   ],
   "source": [
    "al_molarity_glob = \"(\\d*)p*(\\d*)M-NaOH\"\n",
    "\n",
    "na_base_df = pd.DataFrame({\"filenames\": list(na_base_fids)})\n",
    "na_base_df['degree_C'] = na_base_df['filenames'].str.extract(deg_C_regx)\n",
    "\n",
    "raw_NaOH_molarity = na_base_df['filenames'].str.extract(al_molarity_glob)\n",
    "na_base_df['al_molarity'] = raw_NaOH_molarity.loc[:, 0] + '.' + raw_NaOH_molarity.loc[:, 1]\n",
    "\n",
    "na_base_df.head()"
   ]
  },
  {
   "cell_type": "markdown",
   "metadata": {},
   "source": [
    "### Aluminum Fids"
   ]
  },
  {
   "cell_type": "code",
   "execution_count": 53,
   "metadata": {},
   "outputs": [
    {
     "name": "stderr",
     "output_type": "stream",
     "text": [
      "/home/tyler/anaconda3/envs/py36/lib/python3.6/site-packages/ipykernel_launcher.py:2: FutureWarning: currently extract(expand=None) means expand=False (return Index/Series/DataFrame) but in a future version of pandas this will be changed to expand=True (return DataFrame)\n",
      "  \n"
     ]
    },
    {
     "data": {
      "text/html": [
       "<div>\n",
       "<style scoped>\n",
       "    .dataframe tbody tr th:only-of-type {\n",
       "        vertical-align: middle;\n",
       "    }\n",
       "\n",
       "    .dataframe tbody tr th {\n",
       "        vertical-align: top;\n",
       "    }\n",
       "\n",
       "    .dataframe thead th {\n",
       "        text-align: right;\n",
       "    }\n",
       "</style>\n",
       "<table border=\"1\" class=\"dataframe\">\n",
       "  <thead>\n",
       "    <tr style=\"text-align: right;\">\n",
       "      <th></th>\n",
       "      <th>filenames</th>\n",
       "      <th>degree_C</th>\n",
       "    </tr>\n",
       "  </thead>\n",
       "  <tbody>\n",
       "    <tr>\n",
       "      <th>0</th>\n",
       "      <td>23Na/27Al/27Al-1M-AlNO3-reference-09-02-2016-1...</td>\n",
       "      <td>NaN</td>\n",
       "    </tr>\n",
       "    <tr>\n",
       "      <th>1</th>\n",
       "      <td>23Na/27Al/27Al-1M-AlNO3-reference-09-02-2016-3...</td>\n",
       "      <td>NaN</td>\n",
       "    </tr>\n",
       "    <tr>\n",
       "      <th>2</th>\n",
       "      <td>23Na/27Al/27Al-1M-AlNO3-reference.fid</td>\n",
       "      <td>NaN</td>\n",
       "    </tr>\n",
       "    <tr>\n",
       "      <th>3</th>\n",
       "      <td>23Na/27Al/27Al-1M-AlNO3-pwX90-11us.fid</td>\n",
       "      <td>NaN</td>\n",
       "    </tr>\n",
       "    <tr>\n",
       "      <th>4</th>\n",
       "      <td>23Na/27Al/27Al-1M-AlNO3-pwX90-7p5us.fid</td>\n",
       "      <td>NaN</td>\n",
       "    </tr>\n",
       "  </tbody>\n",
       "</table>\n",
       "</div>"
      ],
      "text/plain": [
       "                                           filenames degree_C\n",
       "0  23Na/27Al/27Al-1M-AlNO3-reference-09-02-2016-1...      NaN\n",
       "1  23Na/27Al/27Al-1M-AlNO3-reference-09-02-2016-3...      NaN\n",
       "2              23Na/27Al/27Al-1M-AlNO3-reference.fid      NaN\n",
       "3             23Na/27Al/27Al-1M-AlNO3-pwX90-11us.fid      NaN\n",
       "4            23Na/27Al/27Al-1M-AlNO3-pwX90-7p5us.fid      NaN"
      ]
     },
     "execution_count": 53,
     "metadata": {},
     "output_type": "execute_result"
    }
   ],
   "source": [
    "al_base_df = pd.DataFrame({\"filenames\": list(al_base_fids)})\n",
    "al_base_df['degree_C'] = al_base_df['filenames'].str.extract(deg_C_regx)\n",
    "al_base_df\n",
    "# al_base_fids\n",
    "# al_base_standard_fids\n",
    "# al_base_background_fids"
   ]
  },
  {
   "cell_type": "code",
   "execution_count": null,
   "metadata": {},
   "outputs": [],
   "source": []
  }
 ],
 "metadata": {
  "kernelspec": {
   "display_name": "py36",
   "language": "python",
   "name": "py36"
  },
  "language_info": {
   "codemirror_mode": {
    "name": "ipython",
    "version": 3
   },
   "file_extension": ".py",
   "mimetype": "text/x-python",
   "name": "python",
   "nbconvert_exporter": "python",
   "pygments_lexer": "ipython3",
   "version": "3.6.4"
  }
 },
 "nbformat": 4,
 "nbformat_minor": 2
}
