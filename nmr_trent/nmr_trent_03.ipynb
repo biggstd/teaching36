{
 "cells": [
  {
   "cell_type": "markdown",
   "metadata": {},
   "source": [
    "# NMR Processing Overview\n",
    "\n",
    "---\n",
    "\n",
    "1. Split files into different categories.\n",
    "    1. How many individual fids?\n",
    "    2. How many array experiments?\n",
    "    3. How are temperature sets stored?\n",
    "    4. How are materials stored?\n",
    "2. Develop / confirm metadata for those categories.\n",
    "    + Cross reference with documentation provided by Trent.\n",
    "    + Compare processing demo results to Trent's data. \n",
    "    + Meet with Trent to confirm assignments.\n",
    "3. Prioritize subsets.\n",
    "3. **Design Bokeh application**\n",
    "4. Process subsets."
   ]
  },
  {
   "cell_type": "markdown",
   "metadata": {},
   "source": [
    "#### Set Local Data Path\n",
    "\n",
    "---"
   ]
  },
  {
   "cell_type": "code",
   "execution_count": 2,
   "metadata": {},
   "outputs": [],
   "source": [
    "data_folder = '/home/tyler/data/Sep-2016-23Na'"
   ]
  },
  {
   "cell_type": "markdown",
   "metadata": {},
   "source": [
    "#### Import Packages\n",
    "\n",
    "---"
   ]
  },
  {
   "cell_type": "code",
   "execution_count": 18,
   "metadata": {},
   "outputs": [],
   "source": [
    "import nmrglue as ng\n",
    "import numpy as np\n",
    "import matplotlib.pyplot as plt\n",
    "import glob\n",
    "import re\n",
    "import os\n",
    "%matplotlib inline"
   ]
  },
  {
   "cell_type": "code",
   "execution_count": 19,
   "metadata": {},
   "outputs": [],
   "source": [
    "from trentnmr import *"
   ]
  },
  {
   "cell_type": "markdown",
   "metadata": {},
   "source": [
    "## Splitting Files into Categories\n",
    "\n",
    "Using glob to get all the folders in the data directory.\n",
    "\n",
    "---"
   ]
  },
  {
   "cell_type": "code",
   "execution_count": 21,
   "metadata": {},
   "outputs": [],
   "source": [
    "array_glob = data_folder + '/**/*arrays*.fid'\n",
    "all_fid_glob = data_folder + '/**/*.fid'\n",
    "\n",
    "array_folders = {fn for fn in glob.iglob(array_glob, recursive=True)}\n",
    "all_fid_folders = {fn for fn in glob.iglob(all_fid_glob, recursive=True)}\n",
    "\n",
    "fid_folders = all_fid_folders - array_folders"
   ]
  },
  {
   "cell_type": "markdown",
   "metadata": {},
   "source": [
    "#### How many individual fids are there?\n",
    "\n",
    "#### How many array files are there?"
   ]
  },
  {
   "cell_type": "code",
   "execution_count": 22,
   "metadata": {},
   "outputs": [
    {
     "name": "stdout",
     "output_type": "stream",
     "text": [
      "All fid folders:  301\n",
      "Array folders:  86\n",
      "Fid folders:  215\n"
     ]
    }
   ],
   "source": [
    "print('All fid folders: ', len(all_fid_folders))\n",
    "print('Array folders: ', len(array_folders))\n",
    "print('Fid folders: ', len(fid_folders))"
   ]
  },
  {
   "cell_type": "markdown",
   "metadata": {},
   "source": [
    "#### Folder Structure"
   ]
  },
  {
   "cell_type": "code",
   "execution_count": 27,
   "metadata": {},
   "outputs": [],
   "source": [
    "# [os.path.normpath(path).split(os.sep)[5:] for path in all_fid_folders]"
   ]
  },
  {
   "cell_type": "markdown",
   "metadata": {},
   "source": [
    "#### How are temperatures stored?\n",
    "\n",
    "Build some usefull regex strings."
   ]
  },
  {
   "cell_type": "code",
   "execution_count": 7,
   "metadata": {},
   "outputs": [],
   "source": [
    "deg_C_regx = \"([0-9]*)C\"\n",
    "all_hz_glob = \"([0-9])+(Hz)\"\n",
    "molarity_glob = \"([0-9]*(p)*([0-9])+(M)-(AlOH3|LiOH|NaOH))+\"\n",
    "nmr_element_glob = \"(27Al|23Na)\"\n",
    "gibbsite_glob = \"(\\w*-)(Gibbsite)\"\n",
    "milli_gram_glob = \"(\\d*)p(\\d*)mg\""
   ]
  },
  {
   "cell_type": "code",
   "execution_count": 17,
   "metadata": {},
   "outputs": [
    {
     "name": "stdout",
     "output_type": "stream",
     "text": [
      "['70C', '60C', '25C', '100C', '170C', '70C', '50C', '25C', '132C', '170C', '80C', '25C', '90C', '120C', '25C', '25C', '25C', '140C', '25C', '120C', '60C', '170C', '132C', '120C', '25C', '25C', '25C', '40C', 'C', '35C', '25C', '80C', '25C', None, '132C', '50C', '25C', '25C', '130C', '130C', '132C', '132C', '25C', '70C', '120C', '132C', None, '25C', '25C', '90C', '80C', 'C', '25C', '132C', '25C', '25C', '132C', '80C', '25C', '25C', '132C', '25C', '170C', '25C', '25C', '110C', '25C', '25C', '132C', '132C', None, '25C', '25C', '25C', '25C', '140C', '25C', '132C', '50C', '70C', '140C', '25C', '25C', '25C', None, '25C', '25C', '90C', '25C', '132C', '130C', '25C', '25C', '40C', '120C', '25C', '110C', '70C', '135C', '25C', '25C', '25C', '25C', '70C', '25C', '25C', '25C', '132C', '25C', '25C', '120C', '132C', '132C', '110C', '132C', '135C', '25C', '25C', '25C', '25C', '60C', '25C', '132C', '100C', '35C', '25C', '132C', '25C', '25C', '132C', None, '132C', '110C', '25C', '105C', '100C', '90C', None, '132C', '110C', 'C', '132C', '25C', '60C', '132C', '25C', '25C', '140C', '130C', '40C', '132C', '25C', '25C', '132C', '25C', '25C', '132C', '50C', '25C', '132C', '25C', '25C', '70C', '70C', None, '90C', '90C', '25C', '100C', '140C', '105C', '25C', '25C', '25C', '40C', '60C', '132C', '90C', '25C', '132C', '140C', '132C', '140C', '50C', '132C', '25C', '140C', '132C', '132C', '25C', '130C', '130C', '90C', '140C', '25C', '132C', '25C', '25C', '25C', '25C', '80C', '140C', '80C', '25C', '170C', '25C', '25C', '110C', '130C', '132C', '25C', '110C', '132C', '132C', '25C', '132C', '110C', '70C', '132C', '100C', None, None, '25C', '100C', '130C', '130C', '25C', '25C', '25C', '110C', '132C', '25C', '170C', '90C', '170C', '132C', '132C', '25C', '25C', '50C', '60C', '135C', '25C', '25C', '110C', '50C', '90C', '25C', '50C', '25C', '50C', None, '25C', '25C', '140C', '132C', '40C', None, '25C', '50C', '80C', '160C', '132C', '40C', '130C', '25C', '70C', '25C', '120C', '25C', '130C', '130C', '135C', '132C', '130C', '25C', '150C', None, None, '100C', '132C', None, '50C', '25C', '132C', '25C', None, '130C', '25C', '40C', '70C', '25C', '25C', '25C', '90C', '110C', '140C', '25C', '60C', '25C', '25C']\n"
     ]
    }
   ],
   "source": [
    "temperatures = [re.search(deg_C_regx, x).group() if re.search(deg_C_regx, x) else None for x in all_fid_folders]\n",
    "print(temperatures)\n",
    "\n",
    "# for file in all_fid_folders:\n",
    "#     x = re.findall(deg_C_regx, file)\n",
    "#     if x: print(x, file)\n",
    "#     else: print(\"NO TEMPERATURE FOUND\",file)"
   ]
  },
  {
   "cell_type": "markdown",
   "metadata": {},
   "source": [
    "#### How are Materials stored?"
   ]
  },
  {
   "cell_type": "markdown",
   "metadata": {},
   "source": [
    "**Gibbsite**"
   ]
  },
  {
   "cell_type": "code",
   "execution_count": 14,
   "metadata": {},
   "outputs": [
    {
     "name": "stdout",
     "output_type": "stream",
     "text": [
      "[None, None, None, None, None, None, None, None, None, None, None, None, 'concentrated-Gibbsite', None, None, None, None, 'concentrated-Gibbsite', None, None, None, 'concentrated-Gibbsite', None, None, None, None, None, None, None, None, None, None, None, None, None, None, None, None, None, None, None, None, None, None, None, None, None, None, None, None, None, None, None, None, None, None, None, None, None, None, None, None, 'concentrated-Gibbsite', 'concentrated-Gibbsite', None, None, None, None, None, None, None, None, None, None, None, None, None, None, None, None, 'concentrated-Gibbsite', None, None, None, None, None, None, None, None, None, None, None, None, None, None, None, None, 'concentrated-Gibbsite', None, None, None, None, None, None, None, None, None, None, None, None, None, None, None, None, None, None, None, 'concentrated-Gibbsite', None, None, None, None, None, None, None, None, None, None, None, None, None, None, 'concentrated-Gibbsite', None, None, None, 'concentrated-Gibbsite', None, None, 'concentrated-Gibbsite', None, None, None, None, None, None, None, 'concentrated-Gibbsite', None, None, None, 'concentrated-Gibbsite', None, None, None, None, None, 'concentrated-Gibbsite', None, None, None, None, None, 'concentrated-Gibbsite', None, None, 'concentrated-Gibbsite', None, None, None, None, None, None, None, None, None, None, None, None, None, None, None, None, None, None, None, None, None, None, None, None, None, 'concentrated-Gibbsite', None, 'concentrated-Gibbsite', None, None, None, None, None, None, 'concentrated-Gibbsite', None, None, 'concentrated-Gibbsite', None, None, None, 'concentrated-Gibbsite', None, None, 'concentrated-Gibbsite', None, None, None, None, 'concentrated-Gibbsite', None, None, None, None, None, 'concentrated-Gibbsite', None, 'concentrated-Gibbsite', None, None, None, None, None, None, None, None, None, 'concentrated-Gibbsite', None, None, None, None, 'concentrated-Gibbsite', None, 'concentrated-Gibbsite', None, None, None, None, None, None, None, None, 'concentrated-Gibbsite', None, None, None, None, None, None, None, None, None, None, None, None, None, None, None, 'concentrated-Gibbsite', None, None, None, 'concentrated-Gibbsite', None, 'concentrated-Gibbsite', None, None, None, None, None, None, None, None, None, 'concentrated-Gibbsite', None, None, None, None, 'concentrated-Gibbsite', 'concentrated-Gibbsite', None, 'concentrated-Gibbsite', None, None, None, None, None, None, None, None, None, None]\n"
     ]
    }
   ],
   "source": [
    "gibbsite_arrays = [re.search(gibbsite_glob, x).group() if re.search(gibbsite_glob, x) else None for x in all_fid_folders]\n",
    "print(gibbsite_arrays)"
   ]
  },
  {
   "cell_type": "markdown",
   "metadata": {},
   "source": [
    "**Molarity**"
   ]
  },
  {
   "cell_type": "code",
   "execution_count": 10,
   "metadata": {},
   "outputs": [],
   "source": [
    "# for file in all_fid_folders:\n",
    "#     x = re.findall(molarity_glob, file)\n",
    "#     if x: print(x, file)\n",
    "#     else: print(\"NO MOLARITY FOUND\",file)"
   ]
  },
  {
   "cell_type": "markdown",
   "metadata": {},
   "source": [
    "#### Milligram Weights"
   ]
  },
  {
   "cell_type": "code",
   "execution_count": 16,
   "metadata": {},
   "outputs": [
    {
     "name": "stdout",
     "output_type": "stream",
     "text": [
      "[None, None, None, None, None, None, None, '23p9mg', None, None, None, None, None, None, None, None, None, None, None, None, None, None, None, None, None, None, None, None, None, None, None, None, None, None, None, None, '18p7mg', None, None, None, None, None, '23p9mg', None, None, None, None, None, '54p8mg', None, None, None, None, None, None, None, None, None, None, None, None, None, None, None, None, None, '23p9mg', None, None, None, None, None, None, None, None, None, None, None, None, None, None, None, None, None, None, None, None, None, None, None, None, None, None, None, None, None, None, None, None, None, None, None, None, None, '54p8mg', '18p7mg', None, None, None, None, None, None, None, None, None, None, None, None, None, None, None, None, None, None, None, None, None, None, '18p7mg', None, None, None, None, None, None, None, None, None, None, None, None, None, None, None, None, None, None, None, None, None, None, None, '18p7mg', None, None, None, None, None, None, None, None, None, None, None, None, None, None, None, None, None, None, '54p8mg', None, None, None, None, None, None, None, None, None, None, None, None, None, None, None, None, None, None, None, None, None, None, None, None, None, None, None, None, None, None, None, None, None, '23p9mg', None, None, None, None, None, None, None, None, None, None, None, None, None, None, None, None, None, None, None, None, '23p9mg', None, None, None, None, None, None, None, None, None, None, None, None, None, None, None, None, None, None, None, None, '54p8mg', None, None, None, None, None, None, None, None, None, None, None, None, None, None, None, None, None, None, None, None, None, None, None, None, None, None, None, '23p9mg', None, None, None, None, None, None, None, None, None, None, None, None, None, None, None, None, None, None, None, None, None, None, None, None, None]\n"
     ]
    }
   ],
   "source": [
    "milligrams = [re.search(milli_gram_glob, x).group() if re.search(milli_gram_glob, x) else None for x in all_fid_folders]\n",
    "print(milligrams)\n",
    "\n",
    "# for file in all_fid_folders:\n",
    "#     x = re.findall(deg_C_regx, file)\n",
    "#     if x: print(x, file)\n",
    "#     else: print(\"NO TEMPERATURE FOUND\",file)"
   ]
  },
  {
   "cell_type": "code",
   "execution_count": null,
   "metadata": {},
   "outputs": [],
   "source": []
  }
 ],
 "metadata": {
  "kernelspec": {
   "display_name": "py36",
   "language": "python",
   "name": "py36"
  },
  "language_info": {
   "codemirror_mode": {
    "name": "ipython",
    "version": 3
   },
   "file_extension": ".py",
   "mimetype": "text/x-python",
   "name": "python",
   "nbconvert_exporter": "python",
   "pygments_lexer": "ipython3",
   "version": "3.6.4"
  }
 },
 "nbformat": 4,
 "nbformat_minor": 2
}
