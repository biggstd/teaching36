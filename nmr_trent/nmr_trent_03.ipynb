{
 "cells": [
  {
   "cell_type": "markdown",
   "metadata": {},
   "source": [
    "# NMR Processing Overview\n",
    "\n",
    "---\n",
    "\n",
    "1. Split files into different categories.\n",
    "    1. How many individual fids?\n",
    "    2. How many array experiments?\n",
    "    3. How are temperature sets stored?\n",
    "    4. How are materials stored?\n",
    "2. Develop / confirm metadata for those categories.\n",
    "    + Cross reference with documentation provided by Trent.\n",
    "    + Compare processing demo results to Trent's data. \n",
    "    + Meet with Trent to confirm assignments.\n",
    "3. Prioritize subsets.\n",
    "3. **Design Bokeh application**\n",
    "4. Process subsets."
   ]
  },
  {
   "cell_type": "markdown",
   "metadata": {},
   "source": [
    "#### Set Local Data Path\n",
    "\n",
    "---"
   ]
  },
  {
   "cell_type": "code",
   "execution_count": 1,
   "metadata": {},
   "outputs": [],
   "source": [
    "data_folder = '/home/tyler/data/Sep-2016-23Na'"
   ]
  },
  {
   "cell_type": "markdown",
   "metadata": {},
   "source": [
    "#### Import Packages\n",
    "\n",
    "---"
   ]
  },
  {
   "cell_type": "code",
   "execution_count": 7,
   "metadata": {},
   "outputs": [],
   "source": [
    "import nmrglue as ng\n",
    "import numpy as np\n",
    "import matplotlib.pyplot as plt\n",
    "import glob\n",
    "import re\n",
    "%matplotlib inline"
   ]
  },
  {
   "cell_type": "code",
   "execution_count": 3,
   "metadata": {},
   "outputs": [],
   "source": [
    "from trentnmr import *"
   ]
  },
  {
   "cell_type": "markdown",
   "metadata": {},
   "source": [
    "## Splitting Files into Categories\n",
    "\n",
    "Using glob to get all the folders in the data directory.\n",
    "\n",
    "---"
   ]
  },
  {
   "cell_type": "code",
   "execution_count": 9,
   "metadata": {},
   "outputs": [],
   "source": [
    "array_glob = data_folder + '/**/*arrays*.fid'\n",
    "all_fid_glob = data_folder + '/**/*.fid'\n",
    "\n",
    "array_folders = {fn for fn in glob.iglob(array_glob, recursive=True)}\n",
    "all_fid_folders = {fn for fn in glob.iglob(all_fid_glob, recursive=True)}\n",
    "\n",
    "fid_folders = all_fid_folders - array_folders"
   ]
  },
  {
   "cell_type": "markdown",
   "metadata": {},
   "source": [
    "#### How many individual fids are there?\n",
    "\n",
    "#### How many array files are there?"
   ]
  },
  {
   "cell_type": "code",
   "execution_count": 71,
   "metadata": {},
   "outputs": [
    {
     "name": "stdout",
     "output_type": "stream",
     "text": [
      "All fid folders:  301\n",
      "Array folders:  86\n",
      "Fid folders:  215\n"
     ]
    }
   ],
   "source": [
    "print('All fid folders: ', len(all_fid_folders))\n",
    "print('Array folders: ', len(array_folders))\n",
    "print('Fid folders: ', len(fid_folders))"
   ]
  },
  {
   "cell_type": "markdown",
   "metadata": {},
   "source": [
    "#### How are temperatures stored?\n",
    "\n",
    "Build some usefull regex strings."
   ]
  },
  {
   "cell_type": "code",
   "execution_count": 102,
   "metadata": {},
   "outputs": [],
   "source": [
    "deg_C_regx = \"([0-9]*)C\"\n",
    "all_hz_glob = \"([0-9])+(Hz)\"\n",
    "molarity_glob = \"([0-9]*(p)*([0-9])+(M)-(AlOH3|LiOH|NaOH))+\"\n",
    "nmr_element_glob = \"(27Al|23Na)\"\n",
    "gibbsite_glob = \"(\\w*-)(Gibbsite)\"\n",
    "milli_gram_glob = \"(\\d*)p(\\d*)mg\""
   ]
  },
  {
   "cell_type": "code",
   "execution_count": 98,
   "metadata": {},
   "outputs": [],
   "source": [
    "# for file in all_fid_folders:\n",
    "#     x = re.findall(deg_C_regx, file)\n",
    "#     if x: print(x, file)\n",
    "#     else: print(\"NO TEMPERATURE FOUND\",file)"
   ]
  },
  {
   "cell_type": "markdown",
   "metadata": {},
   "source": [
    "#### How are Materials stored?"
   ]
  },
  {
   "cell_type": "markdown",
   "metadata": {},
   "source": [
    "**Gibbsite**"
   ]
  },
  {
   "cell_type": "code",
   "execution_count": 106,
   "metadata": {},
   "outputs": [
    {
     "name": "stdout",
     "output_type": "stream",
     "text": [
      "/home/tyler/data/Sep-2016-23Na/23Na/27Al/0808G1-0p15M-AlOH3-3M-NaOH-D2O/23Na-concentrated-Gibbsite-2755Hz-90C-32ctF.fid /home/tyler/data/Sep-2016-23Na/23Na/27Al/0808G1-0p15M-AlOH3-3M-NaOH-D2O/27Al-concentrated-Gibbsite-2767Hz-170C-22arrays-128ctF.fid /home/tyler/data/Sep-2016-23Na/23Na/27Al/0808G1-0p15M-AlOH3-3M-NaOH-D2O/23Na-concentrated-Gibbsite-2770Hz-70C-32ct.fid /home/tyler/data/Sep-2016-23Na/23Na/27Al/0808G1-0p15M-AlOH3-3M-NaOH-D2O/27Al-concentrated-Gibbsite-2735Hz-130C-128ctF.fid /home/tyler/data/Sep-2016-23Na/23Na/27Al/0808G1-0p15M-AlOH3-3M-NaOH-D2O/27Al-concentrated-Gibbsite-2782Hz-50C-128ctF.fid /home/tyler/data/Sep-2016-23Na/23Na/27Al/0808G1-0p15M-AlOH3-3M-NaOH-D2O/23Na-concentrated-Gibbsite-2782Hz-50C-32ct.fid /home/tyler/data/Sep-2016-23Na/23Na/27Al/0808G1-0p15M-AlOH3-3M-NaOH-D2O/27Al-concentrated-Gibbsite-2755Hz-90C-128ct.fid /home/tyler/data/Sep-2016-23Na/23Na/27Al/0808G1-0p15M-AlOH3-3M-NaOH-D2O/23Na-concentrated-Gibbsite-2744Hz-110C-32ctF.fid /home/tyler/data/Sep-2016-23Na/23Na/27Al/0808G1-0p15M-AlOH3-3M-NaOH-D2O/23Na-concentrated-Gibbsite-2730Hz-140C-32ctF.fid /home/tyler/data/Sep-2016-23Na/23Na/27Al/0808G1-0p15M-AlOH3-3M-NaOH-D2O/27Al-concentrated-Gibbsite-2744Hz-110C-128ctF.fid /home/tyler/data/Sep-2016-23Na/23Na/27Al/0808G1-0p15M-AlOH3-3M-NaOH-D2O/27Al-concentrated-Gibbsite-2767Hz-170C-22arrays-128ct.fid /home/tyler/data/Sep-2016-23Na/23Na/27Al/0808G1-0p15M-AlOH3-3M-NaOH-D2O/23Na-concentrated-Gibbsite-2770Hz-70C-32ctF.fid /home/tyler/data/Sep-2016-23Na/23Na/27Al/0808G1-0p15M-AlOH3-3M-NaOH-D2O/27Al-concentrated-Gibbsite-2735Hz-130C-128ct.fid /home/tyler/data/Sep-2016-23Na/23Na/27Al/0808G1-0p15M-AlOH3-3M-NaOH-D2O/27Al-concentrated-Gibbsite-2795Hz-25C-128ct.fid /home/tyler/data/Sep-2016-23Na/23Na/27Al/0808G1-0p15M-AlOH3-3M-NaOH-D2O/23Na-concentrated-Gibbsite-2735Hz-130C-32ctF.fid /home/tyler/data/Sep-2016-23Na/23Na/27Al/0808G1-0p15M-AlOH3-3M-NaOH-D2O/27Al-concentrated-Gibbsite-2770Hz-70C-128ct.fid /home/tyler/data/Sep-2016-23Na/23Na/27Al/0808G1-0p15M-AlOH3-3M-NaOH-D2O/23Na-concentrated-Gibbsite-2744Hz-110C-32ct.fid /home/tyler/data/Sep-2016-23Na/23Na/27Al/0808G1-0p15M-AlOH3-3M-NaOH-D2O/23Na-concentrated-Gibbsite-2795Hz-25C-32ct.fid /home/tyler/data/Sep-2016-23Na/23Na/27Al/0808G1-0p15M-AlOH3-3M-NaOH-D2O/23Na-concentrated-Gibbsite-2795Hz-25C-32ctF.fid /home/tyler/data/Sep-2016-23Na/23Na/27Al/0808G1-0p15M-AlOH3-3M-NaOH-D2O/27Al-concentrated-Gibbsite-2767Hz-25C-135C-10arrays-128ct.fid /home/tyler/data/Sep-2016-23Na/23Na/27Al/0808G1-0p15M-AlOH3-3M-NaOH-D2O/27Al-concentrated-Gibbsite-2767Hz-135C-170C-8arrays-128ctF.fid /home/tyler/data/Sep-2016-23Na/23Na/27Al/0808G1-0p15M-AlOH3-3M-NaOH-D2O/27Al-concentrated-Gibbsite-2782Hz-50C-128ct.fid /home/tyler/data/Sep-2016-23Na/23Na/27Al/0808G1-0p15M-AlOH3-3M-NaOH-D2O/23Na-concentrated-Gibbsite-2767Hz-170C-32ct.fid /home/tyler/data/Sep-2016-23Na/23Na/27Al/0808G1-0p15M-AlOH3-3M-NaOH-D2O/27Al-concentrated-Gibbsite-2744Hz-110C-128ct.fid /home/tyler/data/Sep-2016-23Na/23Na/27Al/0808G1-0p15M-AlOH3-3M-NaOH-D2O/27Al-concentrated-Gibbsite-2770Hz-70C-128ctF.fid /home/tyler/data/Sep-2016-23Na/23Na/27Al/0808G1-0p15M-AlOH3-3M-NaOH-D2O/27Al-concentrated-Gibbsite-2730Hz-140C-128ct.fid /home/tyler/data/Sep-2016-23Na/23Na/27Al/0808G1-0p15M-AlOH3-3M-NaOH-D2O/27Al-concentrated-Gibbsite-2755Hz-90C-128ctF.fid /home/tyler/data/Sep-2016-23Na/23Na/27Al/0808G1-0p15M-AlOH3-3M-NaOH-D2O/23Na-concentrated-Gibbsite-2735Hz-130C-32ct.fid /home/tyler/data/Sep-2016-23Na/23Na/27Al/0808G1-0p15M-AlOH3-3M-NaOH-D2O/23Na-concentrated-Gibbsite-2782Hz-50C-32ctF.fid /home/tyler/data/Sep-2016-23Na/23Na/27Al/0808G1-0p15M-AlOH3-3M-NaOH-D2O/27Al-concentrated-Gibbsite-2795Hz-25C-128ctF.fid /home/tyler/data/Sep-2016-23Na/23Na/27Al/0808G1-0p15M-AlOH3-3M-NaOH-D2O/23Na-concentrated-Gibbsite-2755Hz-90C-32ct.fid /home/tyler/data/Sep-2016-23Na/23Na/27Al/0808G1-0p15M-AlOH3-3M-NaOH-D2O/27Al-concentrated-Gibbsite-2767Hz-25C-135C-10arrays-128ctF.fid /home/tyler/data/Sep-2016-23Na/23Na/27Al/0808G1-0p15M-AlOH3-3M-NaOH-D2O/23Na-concentrated-Gibbsite-2730Hz-140C-32ct.fid /home/tyler/data/Sep-2016-23Na/23Na/27Al/0808G1-0p15M-AlOH3-3M-NaOH-D2O/27Al-concentrated-Gibbsite-2730Hz-140C-128ctF.fid /home/tyler/data/Sep-2016-23Na/23Na/27Al/0808G1-0p15M-AlOH3-3M-NaOH-D2O/23Na-concentrated-Gibbsite-2767Hz-170C-32ctF.fid /home/tyler/data/Sep-2016-23Na/23Na/27Al/0808G1-0p15M-AlOH3-3M-NaOH-D2O/27Al-concentrated-Gibbsite-2767Hz-135C-170C-8arrays-128ct.fid\n"
     ]
    }
   ],
   "source": [
    "gibbsite_arrays = {x if re.search(gibbsite_glob, x) else None for x in all_fid_folders}\n",
    "print(*filter(None, gibbsite_arrays))"
   ]
  },
  {
   "cell_type": "markdown",
   "metadata": {},
   "source": [
    "**Molarity**"
   ]
  },
  {
   "cell_type": "code",
   "execution_count": 107,
   "metadata": {},
   "outputs": [],
   "source": [
    "# for file in all_fid_folders:\n",
    "#     x = re.findall(molarity_glob, file)\n",
    "#     if x: print(x, file)\n",
    "#     else: print(\"NO MOLARITY FOUND\",file)"
   ]
  },
  {
   "cell_type": "markdown",
   "metadata": {},
   "source": [
    "#### Milligram Weights"
   ]
  },
  {
   "cell_type": "code",
   "execution_count": 108,
   "metadata": {},
   "outputs": [
    {
     "name": "stdout",
     "output_type": "stream",
     "text": [
      "/home/tyler/data/Sep-2016-23Na/23Na/27Al/0808G1-0p15M-AlOH3-3M-NaOH-D2O/23Na-concentrated-Gibbsite-2755Hz-90C-32ctF.fid /home/tyler/data/Sep-2016-23Na/23Na/27Al/0808G1-0p15M-AlOH3-3M-NaOH-D2O/27Al-concentrated-Gibbsite-2767Hz-170C-22arrays-128ctF.fid /home/tyler/data/Sep-2016-23Na/23Na/27Al/0808G1-0p15M-AlOH3-3M-NaOH-D2O/23Na-concentrated-Gibbsite-2770Hz-70C-32ct.fid /home/tyler/data/Sep-2016-23Na/23Na/27Al/0808G1-0p15M-AlOH3-3M-NaOH-D2O/27Al-concentrated-Gibbsite-2735Hz-130C-128ctF.fid /home/tyler/data/Sep-2016-23Na/23Na/27Al/0808G1-0p15M-AlOH3-3M-NaOH-D2O/27Al-concentrated-Gibbsite-2782Hz-50C-128ctF.fid /home/tyler/data/Sep-2016-23Na/23Na/27Al/0808G1-0p15M-AlOH3-3M-NaOH-D2O/23Na-concentrated-Gibbsite-2782Hz-50C-32ct.fid /home/tyler/data/Sep-2016-23Na/23Na/27Al/0808G1-0p15M-AlOH3-3M-NaOH-D2O/27Al-concentrated-Gibbsite-2755Hz-90C-128ct.fid /home/tyler/data/Sep-2016-23Na/23Na/27Al/0808G1-0p15M-AlOH3-3M-NaOH-D2O/23Na-concentrated-Gibbsite-2744Hz-110C-32ctF.fid /home/tyler/data/Sep-2016-23Na/23Na/27Al/0808G1-0p15M-AlOH3-3M-NaOH-D2O/23Na-concentrated-Gibbsite-2730Hz-140C-32ctF.fid /home/tyler/data/Sep-2016-23Na/23Na/27Al/0808G1-0p15M-AlOH3-3M-NaOH-D2O/27Al-concentrated-Gibbsite-2744Hz-110C-128ctF.fid /home/tyler/data/Sep-2016-23Na/23Na/27Al/0808G1-0p15M-AlOH3-3M-NaOH-D2O/27Al-concentrated-Gibbsite-2767Hz-170C-22arrays-128ct.fid /home/tyler/data/Sep-2016-23Na/23Na/27Al/0808G1-0p15M-AlOH3-3M-NaOH-D2O/23Na-concentrated-Gibbsite-2770Hz-70C-32ctF.fid /home/tyler/data/Sep-2016-23Na/23Na/27Al/0808G1-0p15M-AlOH3-3M-NaOH-D2O/27Al-concentrated-Gibbsite-2735Hz-130C-128ct.fid /home/tyler/data/Sep-2016-23Na/23Na/27Al/0808G1-0p15M-AlOH3-3M-NaOH-D2O/27Al-concentrated-Gibbsite-2795Hz-25C-128ct.fid /home/tyler/data/Sep-2016-23Na/23Na/27Al/0808G1-0p15M-AlOH3-3M-NaOH-D2O/23Na-concentrated-Gibbsite-2735Hz-130C-32ctF.fid /home/tyler/data/Sep-2016-23Na/23Na/27Al/0808G1-0p15M-AlOH3-3M-NaOH-D2O/27Al-concentrated-Gibbsite-2770Hz-70C-128ct.fid /home/tyler/data/Sep-2016-23Na/23Na/27Al/0808G1-0p15M-AlOH3-3M-NaOH-D2O/23Na-concentrated-Gibbsite-2744Hz-110C-32ct.fid /home/tyler/data/Sep-2016-23Na/23Na/27Al/0808G1-0p15M-AlOH3-3M-NaOH-D2O/23Na-concentrated-Gibbsite-2795Hz-25C-32ct.fid /home/tyler/data/Sep-2016-23Na/23Na/27Al/0808G1-0p15M-AlOH3-3M-NaOH-D2O/23Na-concentrated-Gibbsite-2795Hz-25C-32ctF.fid /home/tyler/data/Sep-2016-23Na/23Na/27Al/0808G1-0p15M-AlOH3-3M-NaOH-D2O/27Al-concentrated-Gibbsite-2767Hz-25C-135C-10arrays-128ct.fid /home/tyler/data/Sep-2016-23Na/23Na/27Al/0808G1-0p15M-AlOH3-3M-NaOH-D2O/27Al-concentrated-Gibbsite-2767Hz-135C-170C-8arrays-128ctF.fid /home/tyler/data/Sep-2016-23Na/23Na/27Al/0808G1-0p15M-AlOH3-3M-NaOH-D2O/27Al-concentrated-Gibbsite-2782Hz-50C-128ct.fid /home/tyler/data/Sep-2016-23Na/23Na/27Al/0808G1-0p15M-AlOH3-3M-NaOH-D2O/23Na-concentrated-Gibbsite-2767Hz-170C-32ct.fid /home/tyler/data/Sep-2016-23Na/23Na/27Al/0808G1-0p15M-AlOH3-3M-NaOH-D2O/27Al-concentrated-Gibbsite-2744Hz-110C-128ct.fid /home/tyler/data/Sep-2016-23Na/23Na/27Al/0808G1-0p15M-AlOH3-3M-NaOH-D2O/27Al-concentrated-Gibbsite-2770Hz-70C-128ctF.fid /home/tyler/data/Sep-2016-23Na/23Na/27Al/0808G1-0p15M-AlOH3-3M-NaOH-D2O/27Al-concentrated-Gibbsite-2730Hz-140C-128ct.fid /home/tyler/data/Sep-2016-23Na/23Na/27Al/0808G1-0p15M-AlOH3-3M-NaOH-D2O/27Al-concentrated-Gibbsite-2755Hz-90C-128ctF.fid /home/tyler/data/Sep-2016-23Na/23Na/27Al/0808G1-0p15M-AlOH3-3M-NaOH-D2O/23Na-concentrated-Gibbsite-2735Hz-130C-32ct.fid /home/tyler/data/Sep-2016-23Na/23Na/27Al/0808G1-0p15M-AlOH3-3M-NaOH-D2O/23Na-concentrated-Gibbsite-2782Hz-50C-32ctF.fid /home/tyler/data/Sep-2016-23Na/23Na/27Al/0808G1-0p15M-AlOH3-3M-NaOH-D2O/27Al-concentrated-Gibbsite-2795Hz-25C-128ctF.fid /home/tyler/data/Sep-2016-23Na/23Na/27Al/0808G1-0p15M-AlOH3-3M-NaOH-D2O/23Na-concentrated-Gibbsite-2755Hz-90C-32ct.fid /home/tyler/data/Sep-2016-23Na/23Na/27Al/0808G1-0p15M-AlOH3-3M-NaOH-D2O/27Al-concentrated-Gibbsite-2767Hz-25C-135C-10arrays-128ctF.fid /home/tyler/data/Sep-2016-23Na/23Na/27Al/0808G1-0p15M-AlOH3-3M-NaOH-D2O/23Na-concentrated-Gibbsite-2730Hz-140C-32ct.fid /home/tyler/data/Sep-2016-23Na/23Na/27Al/0808G1-0p15M-AlOH3-3M-NaOH-D2O/27Al-concentrated-Gibbsite-2730Hz-140C-128ctF.fid /home/tyler/data/Sep-2016-23Na/23Na/27Al/0808G1-0p15M-AlOH3-3M-NaOH-D2O/23Na-concentrated-Gibbsite-2767Hz-170C-32ctF.fid /home/tyler/data/Sep-2016-23Na/23Na/27Al/0808G1-0p15M-AlOH3-3M-NaOH-D2O/27Al-concentrated-Gibbsite-2767Hz-135C-170C-8arrays-128ct.fid\n"
     ]
    }
   ],
   "source": [
    "milligrams = {x if re.search(milli_gram_glob, x) else None for x in all_fid_folders}\n",
    "# print(*filter(None, gibbsite_arrays))\n",
    "\n",
    "# for file in all_fid_folders:\n",
    "#     x = re.findall(deg_C_regx, file)\n",
    "#     if x: print(x, file)\n",
    "#     else: print(\"NO TEMPERATURE FOUND\",file)"
   ]
  },
  {
   "cell_type": "code",
   "execution_count": null,
   "metadata": {},
   "outputs": [],
   "source": []
  }
 ],
 "metadata": {
  "kernelspec": {
   "display_name": "py36",
   "language": "python",
   "name": "py36"
  },
  "language_info": {
   "codemirror_mode": {
    "name": "ipython",
    "version": 3
   },
   "file_extension": ".py",
   "mimetype": "text/x-python",
   "name": "python",
   "nbconvert_exporter": "python",
   "pygments_lexer": "ipython3",
   "version": "3.6.4"
  }
 },
 "nbformat": 4,
 "nbformat_minor": 2
}
