{
 "cells": [
  {
   "cell_type": "markdown",
   "metadata": {},
   "source": [
    "# Periodic Boundary Condition\n",
    "\n",
    "An explained implementation.\n",
    "\n",
    "Some searching reveals this [blogpost](http://blog.lostinmyterminal.com/physics/2015/04/09/periodic-boundary-subtraction.html) which has the four functions:"
   ]
  },
  {
   "cell_type": "code",
   "execution_count": 1,
   "metadata": {
    "collapsed": true
   },
   "outputs": [],
   "source": [
    "import numpy as np"
   ]
  },
  {
   "cell_type": "code",
   "execution_count": 2,
   "metadata": {
    "collapsed": true
   },
   "outputs": [],
   "source": [
    "def dists(rs, L):\n",
    "    \"\"\"\n",
    "    Returns the difference vectors between all pairs of points in rs,\n",
    "    given a periodic box of size L.\n",
    "\n",
    "    Parameters\n",
    "    ----------\n",
    "    rs : (N,d) array_like\n",
    "         Input vectors\n",
    "    L : (d,) array_like, or scalar\n",
    "    Size of the box\n",
    "\n",
    "    Returns\n",
    "    -------\n",
    "    out : (N,N,d) ndarray\n",
    "    Where out[i,j,:] is the difference vector between rs[i,:] and rs[j,:]\n",
    "    \"\"\"\n",
    "    diffs = np.array([np.subtract.outer(rd, rd) for rd in rs.T]).T\n",
    "    return np.remainder(diffs + L/2., L) - L/2.\n",
    "\n",
    "def dists3(rs, L):\n",
    "    diffs = rs[..., np.newaxis] - rs.T[np.newaxis, ...]\n",
    "    diffs = np.rollaxis(diffs, -1, -2)\n",
    "    return np.remainder(diffs + L/2., L) - L/2.\n",
    "\n",
    "def pair_dists(rs1, rs2, L):\n",
    "#     N,d = np.shape(rs) Broken line! There is no N, d....\n",
    "    diffs = rs1[..., np.newaxis] - rs2.T[np.newaxis, ...]\n",
    "    diffs = np.rollaxis(diffs, -1, -2)\n",
    "    return np.remainder(diffs + L/2., L) - L/2.\n",
    "\n",
    "def pair_dist(rs1, rs2, L):\n",
    "    \"\"\"\n",
    "    Returns the total distance between pairs of points in rs1 and rs2, given a \n",
    "    periodic box of size L. Ignores overall translation.\n",
    "    \"\"\"\n",
    "    dists1 = (rs1[..., np.newaxis] - rs1.T[np.newaxis, ...])\n",
    "    dists2 = (rs2[..., np.newaxis] - rs2.T[np.newaxis, ...])\n",
    "    rij_minus_sij = np.rollaxis(dists1 - dists2, -1, -2)\n",
    "    rij_minus_sij = ((rij_minus_sij + L/2.) % L) - L/2.\n",
    "    dist_sqs = np.triu(np.sum(rij_minus_sij**2, axis=-1))\n",
    "    return np.sqrt(np.sum(dist_sqs) / len(rs1))"
   ]
  },
  {
   "cell_type": "markdown",
   "metadata": {},
   "source": [
    "It is not extraordinarily clear what is going on in the above functinos. Also some of the `numpy` functions called are depreciated (rollaxis) and should be replaced...\n",
    "\n",
    "The use of ellipsis `...` in `numpy` is defined:\n",
    "\n",
    "> Ellipsis expand to the number of `:` objects needed to make a selection tuple of the same length as `x.ndim`. There may only be a single ellipsis present."
   ]
  },
  {
   "cell_type": "code",
   "execution_count": 3,
   "metadata": {},
   "outputs": [
    {
     "data": {
      "text/plain": [
       "array([[[1],\n",
       "        [2],\n",
       "        [3]],\n",
       "\n",
       "       [[4],\n",
       "        [5],\n",
       "        [6]]])"
      ]
     },
     "execution_count": 3,
     "metadata": {},
     "output_type": "execute_result"
    }
   ],
   "source": [
    "x = np.array([[[1],[2],[3]], [[4],[5],[6]]])\n",
    "x"
   ]
  },
  {
   "cell_type": "code",
   "execution_count": 4,
   "metadata": {},
   "outputs": [
    {
     "data": {
      "text/plain": [
       "array([[1],\n",
       "       [4]])"
      ]
     },
     "execution_count": 4,
     "metadata": {},
     "output_type": "execute_result"
    }
   ],
   "source": [
    "x[:, 0]"
   ]
  },
  {
   "cell_type": "code",
   "execution_count": 5,
   "metadata": {},
   "outputs": [
    {
     "data": {
      "text/plain": [
       "array([[1, 2, 3],\n",
       "       [4, 5, 6]])"
      ]
     },
     "execution_count": 5,
     "metadata": {},
     "output_type": "execute_result"
    }
   ],
   "source": [
    "x[:,:, 0]"
   ]
  },
  {
   "cell_type": "code",
   "execution_count": 6,
   "metadata": {},
   "outputs": [
    {
     "data": {
      "text/plain": [
       "array([[1, 2, 3],\n",
       "       [4, 5, 6]])"
      ]
     },
     "execution_count": 6,
     "metadata": {},
     "output_type": "execute_result"
    }
   ],
   "source": [
    "x[..., 0]"
   ]
  },
  {
   "cell_type": "markdown",
   "metadata": {},
   "source": [
    "## Examining the first function\n",
    "\n",
    "```python\n",
    "def dists(rs, L):\n",
    "    diffs = np.array([np.subtract.outer(rd, rd) for rd in rs.T]).T\n",
    "    return np.remainder(diffs + L/2., L) - L/2.\n",
    "```"
   ]
  },
  {
   "cell_type": "code",
   "execution_count": 7,
   "metadata": {},
   "outputs": [
    {
     "data": {
      "text/plain": [
       "array([[0, 0, 0],\n",
       "       [1, 1, 1],\n",
       "       [1, 2, 3],\n",
       "       [1, 2, 2],\n",
       "       [0, 0, 1],\n",
       "       [2, 3, 4]])"
      ]
     },
     "execution_count": 7,
     "metadata": {},
     "output_type": "execute_result"
    }
   ],
   "source": [
    "xyz_array = np.array([\n",
    "    [0, 0, 0],\n",
    "    [1, 1, 1],\n",
    "    [1, 2, 3],\n",
    "    [1, 2, 2],\n",
    "    [0, 0, 1],\n",
    "    [2, 3, 4],\n",
    "])\n",
    "xyz_array"
   ]
  },
  {
   "cell_type": "code",
   "execution_count": 8,
   "metadata": {
    "collapsed": true
   },
   "outputs": [],
   "source": [
    "# Examine the function from inside out.\n",
    "def explicit_dists(point_array, period_length=2.0):\n",
    "    \n",
    "    print(f'starting input array:\\n{point_array}\\n')\n",
    "    \n",
    "    # Make a list to hold difference arrays:\n",
    "    diff_list = list()\n",
    "    \n",
    "    # Get the transpose of the point array.\n",
    "    # So we will iterate through the X, Y, and Z portions of\n",
    "    # the input array.\n",
    "    for pa in point_array.T:\n",
    "        \n",
    "        print(f'An X, Y, or Z coordinate array:\\n{pa}')\n",
    "        \n",
    "        # The .outer function applies the leading function,\n",
    "        # in this case a subtraction, to all possible pairs\n",
    "        # with the two arrays given.\n",
    "        # https://docs.scipy.org/doc/numpy-1.13.0/reference/generated/numpy.ufunc.outer.html\n",
    "        diff_array = np.subtract.outer(pa, pa)\n",
    "        diff_list.append(diff_array)\n",
    "        print(f'Difference array:\\n{diff_array}\\n')\n",
    "        \n",
    "    # Create an array from the distances.\n",
    "    diffs = np.array(diff_list)\n",
    "    print(f'Complete diff array:\\n{diffs}')\n",
    "    \n",
    "    difft = diffs.T\n",
    "    print(f'Transposed diff array:\\n{difft}')\n",
    "    \n",
    "    remainder = np.remainder(difft + period_length / 2.0, period_length) - period_length / 2.0\n",
    "    print(f'remainder array:\\n{remainder}\\n')\n",
    "    \n",
    "    return remainder"
   ]
  },
  {
   "cell_type": "code",
   "execution_count": 9,
   "metadata": {
    "scrolled": false
   },
   "outputs": [
    {
     "name": "stdout",
     "output_type": "stream",
     "text": [
      "starting input array:\n",
      "[[0 0 0]\n",
      " [1 1 1]\n",
      " [1 2 3]\n",
      " [1 2 2]\n",
      " [0 0 1]\n",
      " [2 3 4]]\n",
      "\n",
      "An X, Y, or Z coordinate array:\n",
      "[0 1 1 1 0 2]\n",
      "Difference array:\n",
      "[[ 0 -1 -1 -1  0 -2]\n",
      " [ 1  0  0  0  1 -1]\n",
      " [ 1  0  0  0  1 -1]\n",
      " [ 1  0  0  0  1 -1]\n",
      " [ 0 -1 -1 -1  0 -2]\n",
      " [ 2  1  1  1  2  0]]\n",
      "\n",
      "An X, Y, or Z coordinate array:\n",
      "[0 1 2 2 0 3]\n",
      "Difference array:\n",
      "[[ 0 -1 -2 -2  0 -3]\n",
      " [ 1  0 -1 -1  1 -2]\n",
      " [ 2  1  0  0  2 -1]\n",
      " [ 2  1  0  0  2 -1]\n",
      " [ 0 -1 -2 -2  0 -3]\n",
      " [ 3  2  1  1  3  0]]\n",
      "\n",
      "An X, Y, or Z coordinate array:\n",
      "[0 1 3 2 1 4]\n",
      "Difference array:\n",
      "[[ 0 -1 -3 -2 -1 -4]\n",
      " [ 1  0 -2 -1  0 -3]\n",
      " [ 3  2  0  1  2 -1]\n",
      " [ 2  1 -1  0  1 -2]\n",
      " [ 1  0 -2 -1  0 -3]\n",
      " [ 4  3  1  2  3  0]]\n",
      "\n",
      "Complete diff array:\n",
      "[[[ 0 -1 -1 -1  0 -2]\n",
      "  [ 1  0  0  0  1 -1]\n",
      "  [ 1  0  0  0  1 -1]\n",
      "  [ 1  0  0  0  1 -1]\n",
      "  [ 0 -1 -1 -1  0 -2]\n",
      "  [ 2  1  1  1  2  0]]\n",
      "\n",
      " [[ 0 -1 -2 -2  0 -3]\n",
      "  [ 1  0 -1 -1  1 -2]\n",
      "  [ 2  1  0  0  2 -1]\n",
      "  [ 2  1  0  0  2 -1]\n",
      "  [ 0 -1 -2 -2  0 -3]\n",
      "  [ 3  2  1  1  3  0]]\n",
      "\n",
      " [[ 0 -1 -3 -2 -1 -4]\n",
      "  [ 1  0 -2 -1  0 -3]\n",
      "  [ 3  2  0  1  2 -1]\n",
      "  [ 2  1 -1  0  1 -2]\n",
      "  [ 1  0 -2 -1  0 -3]\n",
      "  [ 4  3  1  2  3  0]]]\n",
      "Transposed diff array:\n",
      "[[[ 0  0  0]\n",
      "  [ 1  1  1]\n",
      "  [ 1  2  3]\n",
      "  [ 1  2  2]\n",
      "  [ 0  0  1]\n",
      "  [ 2  3  4]]\n",
      "\n",
      " [[-1 -1 -1]\n",
      "  [ 0  0  0]\n",
      "  [ 0  1  2]\n",
      "  [ 0  1  1]\n",
      "  [-1 -1  0]\n",
      "  [ 1  2  3]]\n",
      "\n",
      " [[-1 -2 -3]\n",
      "  [ 0 -1 -2]\n",
      "  [ 0  0  0]\n",
      "  [ 0  0 -1]\n",
      "  [-1 -2 -2]\n",
      "  [ 1  1  1]]\n",
      "\n",
      " [[-1 -2 -2]\n",
      "  [ 0 -1 -1]\n",
      "  [ 0  0  1]\n",
      "  [ 0  0  0]\n",
      "  [-1 -2 -1]\n",
      "  [ 1  1  2]]\n",
      "\n",
      " [[ 0  0 -1]\n",
      "  [ 1  1  0]\n",
      "  [ 1  2  2]\n",
      "  [ 1  2  1]\n",
      "  [ 0  0  0]\n",
      "  [ 2  3  3]]\n",
      "\n",
      " [[-2 -3 -4]\n",
      "  [-1 -2 -3]\n",
      "  [-1 -1 -1]\n",
      "  [-1 -1 -2]\n",
      "  [-2 -3 -3]\n",
      "  [ 0  0  0]]]\n",
      "remainder array:\n",
      "[[[ 0.  0.  0.]\n",
      "  [-1. -1. -1.]\n",
      "  [-1.  0. -1.]\n",
      "  [-1.  0.  0.]\n",
      "  [ 0.  0. -1.]\n",
      "  [ 0. -1.  0.]]\n",
      "\n",
      " [[-1. -1. -1.]\n",
      "  [ 0.  0.  0.]\n",
      "  [ 0. -1.  0.]\n",
      "  [ 0. -1. -1.]\n",
      "  [-1. -1.  0.]\n",
      "  [-1.  0. -1.]]\n",
      "\n",
      " [[-1.  0. -1.]\n",
      "  [ 0. -1.  0.]\n",
      "  [ 0.  0.  0.]\n",
      "  [ 0.  0. -1.]\n",
      "  [-1.  0.  0.]\n",
      "  [-1. -1. -1.]]\n",
      "\n",
      " [[-1.  0.  0.]\n",
      "  [ 0. -1. -1.]\n",
      "  [ 0.  0. -1.]\n",
      "  [ 0.  0.  0.]\n",
      "  [-1.  0. -1.]\n",
      "  [-1. -1.  0.]]\n",
      "\n",
      " [[ 0.  0. -1.]\n",
      "  [-1. -1.  0.]\n",
      "  [-1.  0.  0.]\n",
      "  [-1.  0. -1.]\n",
      "  [ 0.  0.  0.]\n",
      "  [ 0. -1. -1.]]\n",
      "\n",
      " [[ 0. -1.  0.]\n",
      "  [-1.  0. -1.]\n",
      "  [-1. -1. -1.]\n",
      "  [-1. -1.  0.]\n",
      "  [ 0. -1. -1.]\n",
      "  [ 0.  0.  0.]]]\n",
      "\n"
     ]
    },
    {
     "data": {
      "text/plain": [
       "array([[[ 0.,  0.,  0.],\n",
       "        [-1., -1., -1.],\n",
       "        [-1.,  0., -1.],\n",
       "        [-1.,  0.,  0.],\n",
       "        [ 0.,  0., -1.],\n",
       "        [ 0., -1.,  0.]],\n",
       "\n",
       "       [[-1., -1., -1.],\n",
       "        [ 0.,  0.,  0.],\n",
       "        [ 0., -1.,  0.],\n",
       "        [ 0., -1., -1.],\n",
       "        [-1., -1.,  0.],\n",
       "        [-1.,  0., -1.]],\n",
       "\n",
       "       [[-1.,  0., -1.],\n",
       "        [ 0., -1.,  0.],\n",
       "        [ 0.,  0.,  0.],\n",
       "        [ 0.,  0., -1.],\n",
       "        [-1.,  0.,  0.],\n",
       "        [-1., -1., -1.]],\n",
       "\n",
       "       [[-1.,  0.,  0.],\n",
       "        [ 0., -1., -1.],\n",
       "        [ 0.,  0., -1.],\n",
       "        [ 0.,  0.,  0.],\n",
       "        [-1.,  0., -1.],\n",
       "        [-1., -1.,  0.]],\n",
       "\n",
       "       [[ 0.,  0., -1.],\n",
       "        [-1., -1.,  0.],\n",
       "        [-1.,  0.,  0.],\n",
       "        [-1.,  0., -1.],\n",
       "        [ 0.,  0.,  0.],\n",
       "        [ 0., -1., -1.]],\n",
       "\n",
       "       [[ 0., -1.,  0.],\n",
       "        [-1.,  0., -1.],\n",
       "        [-1., -1., -1.],\n",
       "        [-1., -1.,  0.],\n",
       "        [ 0., -1., -1.],\n",
       "        [ 0.,  0.,  0.]]])"
      ]
     },
     "execution_count": 9,
     "metadata": {},
     "output_type": "execute_result"
    }
   ],
   "source": [
    "explicit_dists(xyz_array)"
   ]
  },
  {
   "cell_type": "markdown",
   "metadata": {},
   "source": [
    "# Desire two different functions\n",
    "\n",
    "We want one function for creating the periodic distance matrix, and one to calculate the euclidean distance. Let us examine the next function -- which is much clearer now -- it returns the distance vectors between two sets of points."
   ]
  },
  {
   "cell_type": "code",
   "execution_count": 44,
   "metadata": {
    "collapsed": true
   },
   "outputs": [],
   "source": [
    "def periodic_dist_vector(psa, psb, pL):\n",
    "    diff_arrays = psa[..., None] - psb.T[None, ...]\n",
    "    diff_arrays = np.moveaxis(diff_arrays, -1, 0)\n",
    "    return np.remainder(diff_arrays + pL / 2.0, pL) - pL / 2.0"
   ]
  },
  {
   "cell_type": "code",
   "execution_count": 45,
   "metadata": {},
   "outputs": [
    {
     "data": {
      "text/plain": [
       "array([[[ 0.,  0.,  0.],\n",
       "        [-1., -1., -1.],\n",
       "        [-1.,  0., -1.],\n",
       "        [-1.,  0.,  0.],\n",
       "        [ 0.,  0., -1.],\n",
       "        [ 0., -1.,  0.]],\n",
       "\n",
       "       [[-1., -1., -1.],\n",
       "        [ 0.,  0.,  0.],\n",
       "        [ 0., -1.,  0.],\n",
       "        [ 0., -1., -1.],\n",
       "        [-1., -1.,  0.],\n",
       "        [-1.,  0., -1.]],\n",
       "\n",
       "       [[-1.,  0., -1.],\n",
       "        [ 0., -1.,  0.],\n",
       "        [ 0.,  0.,  0.],\n",
       "        [ 0.,  0., -1.],\n",
       "        [-1.,  0.,  0.],\n",
       "        [-1., -1., -1.]],\n",
       "\n",
       "       [[-1.,  0.,  0.],\n",
       "        [ 0., -1., -1.],\n",
       "        [ 0.,  0., -1.],\n",
       "        [ 0.,  0.,  0.],\n",
       "        [-1.,  0., -1.],\n",
       "        [-1., -1.,  0.]],\n",
       "\n",
       "       [[ 0.,  0., -1.],\n",
       "        [-1., -1.,  0.],\n",
       "        [-1.,  0.,  0.],\n",
       "        [-1.,  0., -1.],\n",
       "        [ 0.,  0.,  0.],\n",
       "        [ 0., -1., -1.]],\n",
       "\n",
       "       [[ 0., -1.,  0.],\n",
       "        [-1.,  0., -1.],\n",
       "        [-1., -1., -1.],\n",
       "        [-1., -1.,  0.],\n",
       "        [ 0., -1., -1.],\n",
       "        [ 0.,  0.,  0.]]])"
      ]
     },
     "execution_count": 45,
     "metadata": {},
     "output_type": "execute_result"
    }
   ],
   "source": [
    "expl_pair_dist(xyz_array, xyz_array, 2.0)"
   ]
  },
  {
   "cell_type": "code",
   "execution_count": 66,
   "metadata": {},
   "outputs": [
    {
     "data": {
      "text/plain": [
       "array([[0, 0, 0],\n",
       "       [1, 1, 1],\n",
       "       [1, 2, 3],\n",
       "       [1, 2, 2],\n",
       "       [0, 0, 1],\n",
       "       [2, 3, 4]])"
      ]
     },
     "execution_count": 66,
     "metadata": {},
     "output_type": "execute_result"
    }
   ],
   "source": [
    "xyz_array"
   ]
  },
  {
   "cell_type": "code",
   "execution_count": 63,
   "metadata": {
    "collapsed": true
   },
   "outputs": [],
   "source": [
    "def euclidean_dist(dist_vector_array):\n",
    "    \"\"\"Calculate the euclidean distance of the value.\n",
    "    \"\"\"\n",
    "    return np.linalg.norm(dist_vector_array, axis=1)"
   ]
  },
  {
   "cell_type": "code",
   "execution_count": 64,
   "metadata": {},
   "outputs": [
    {
     "name": "stdout",
     "output_type": "stream",
     "text": [
      "[ 0.          1.73205081  3.74165739  3.          1.          5.38516481]\n"
     ]
    }
   ],
   "source": [
    "print(euclidean_dist(xyz_array))"
   ]
  },
  {
   "cell_type": "code",
   "execution_count": 13,
   "metadata": {
    "collapsed": true
   },
   "outputs": [],
   "source": [
    "def distance(pa, pb):\n",
    "    \"\"\"Non-periodic distance function for comparission.\"\"\"\n",
    "    return np.linalg.norm(pa - pb)"
   ]
  },
  {
   "cell_type": "code",
   "execution_count": 14,
   "metadata": {},
   "outputs": [
    {
     "data": {
      "text/plain": [
       "1.7320508075688772"
      ]
     },
     "execution_count": 14,
     "metadata": {},
     "output_type": "execute_result"
    }
   ],
   "source": [
    "distance(xyz_array[0], xyz_array[1])"
   ]
  },
  {
   "cell_type": "code",
   "execution_count": 15,
   "metadata": {},
   "outputs": [
    {
     "name": "stdout",
     "output_type": "stream",
     "text": [
      "[0 1 1 1 0 2]\n",
      "[0 1 2 2 0 3]\n",
      "[0 1 3 2 1 4]\n"
     ]
    }
   ],
   "source": [
    "for p in xyz_array.T:\n",
    "    print(p)"
   ]
  },
  {
   "cell_type": "code",
   "execution_count": null,
   "metadata": {
    "collapsed": true
   },
   "outputs": [],
   "source": []
  },
  {
   "cell_type": "code",
   "execution_count": null,
   "metadata": {
    "collapsed": true
   },
   "outputs": [],
   "source": []
  },
  {
   "cell_type": "code",
   "execution_count": null,
   "metadata": {
    "collapsed": true
   },
   "outputs": [],
   "source": []
  },
  {
   "cell_type": "code",
   "execution_count": null,
   "metadata": {
    "collapsed": true
   },
   "outputs": [],
   "source": []
  },
  {
   "cell_type": "code",
   "execution_count": null,
   "metadata": {
    "collapsed": true
   },
   "outputs": [],
   "source": []
  },
  {
   "cell_type": "code",
   "execution_count": null,
   "metadata": {
    "collapsed": true
   },
   "outputs": [],
   "source": []
  },
  {
   "cell_type": "code",
   "execution_count": null,
   "metadata": {
    "collapsed": true
   },
   "outputs": [],
   "source": []
  },
  {
   "cell_type": "code",
   "execution_count": null,
   "metadata": {
    "collapsed": true
   },
   "outputs": [],
   "source": []
  },
  {
   "cell_type": "code",
   "execution_count": null,
   "metadata": {
    "collapsed": true
   },
   "outputs": [],
   "source": []
  },
  {
   "cell_type": "code",
   "execution_count": null,
   "metadata": {
    "collapsed": true
   },
   "outputs": [],
   "source": []
  }
 ],
 "metadata": {
  "kernelspec": {
   "display_name": "Python 3",
   "language": "python",
   "name": "python3"
  },
  "language_info": {
   "codemirror_mode": {
    "name": "ipython",
    "version": 3
   },
   "file_extension": ".py",
   "mimetype": "text/x-python",
   "name": "python",
   "nbconvert_exporter": "python",
   "pygments_lexer": "ipython3",
   "version": "3.6.3"
  }
 },
 "nbformat": 4,
 "nbformat_minor": 2
}
