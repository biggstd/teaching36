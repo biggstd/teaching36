{
 "cells": [
  {
   "cell_type": "markdown",
   "metadata": {},
   "source": [
    "# Using Graph Theory to Model Chemical Reaction Networks\n",
    "\n",
    "*By Dr. Tyler Biggs*\n",
    "\n",
    "---"
   ]
  },
  {
   "cell_type": "markdown",
   "metadata": {},
   "source": [
    "## Consider a Chemical Reaction Network\n",
    "\n",
    "---\n",
    "\n"
   ]
  },
  {
   "cell_type": "markdown",
   "metadata": {},
   "source": [
    "## In Python with NetworkX\n",
    "\n",
    "---\n",
    "\n",
    "To model a network of chemical reactions we need a multi-e"
   ]
  },
  {
   "cell_type": "code",
   "execution_count": 103,
   "metadata": {},
   "outputs": [],
   "source": [
    "import networkx as nx\n",
    "import numpy as np\n",
    "import scipy\n",
    "import tqdm\n",
    "import matplotlib.pyplot as plt\n",
    "import itertools\n",
    "import collections\n",
    "from scipy.special import factorial\n",
    "%matplotlib inline"
   ]
  },
  {
   "cell_type": "markdown",
   "metadata": {},
   "source": [
    "### Self-Equilibriating Reactions\n",
    "\n",
    "Given by the equations:\n",
    "\n",
    "$$ \\bar{X} + Y \\xrightarrow{c_1} 2Y $$\n",
    "\n",
    "$$ 2Y \\xrightarrow{c_2} Z $$\n",
    "\n",
    "Where $\\bar{X}$ is held constant, effectively representing an inexhaustible supply."
   ]
  },
  {
   "cell_type": "markdown",
   "metadata": {},
   "source": [
    "Where $S$ is the **stoichiometric matrix**.\n",
    "\n",
    "\n",
    "$\n",
    "S = \n",
    "\\begin{bmatrix}\n",
    "-1  &  1  &  0 \\\\\n",
    " 0  & -2  &  1 \\\\\n",
    "\\end{bmatrix}\n",
    "$"
   ]
  },
  {
   "cell_type": "markdown",
   "metadata": {},
   "source": [
    "## Graph of Complexes\n",
    "\n",
    "A chemical reaction network cannot be captured by an ordinary graph.\n",
    "\n",
    "> **Complexes** Are the union of all the unique left and right hand sides of each reaction in the network.\n",
    "\n",
    "There are $m$ chemical species (columns).\n",
    "Each row is a column.\n",
    "\n",
    "$\n",
    "Z = \n",
    "\\begin{bmatrix}\n",
    " 1  &  1  &  0  \\\\\n",
    " 0  &  2  &  0  \\\\\n",
    " 0  &  0  &  1  \\\\\n",
    "\\end{bmatrix}\n",
    "$"
   ]
  },
  {
   "cell_type": "markdown",
   "metadata": {},
   "source": [
    "**Enumerate Complexes**\n",
    "\n",
    "$$\n",
    "X + Y \\xrightarrow{c_1} 2Y \\\\\n",
    "2Y \\xrightarrow{c_2} Z\n",
    "$$"
   ]
  },
  {
   "cell_type": "code",
   "execution_count": 104,
   "metadata": {},
   "outputs": [],
   "source": [
    "lotka_graph = nx.DiGraph()"
   ]
  },
  {
   "cell_type": "markdown",
   "metadata": {},
   "source": [
    "### Create the nodes"
   ]
  },
  {
   "cell_type": "code",
   "execution_count": 105,
   "metadata": {},
   "outputs": [],
   "source": [
    "# Nodes can be any Python object, in this case I have chosen tuples.\n",
    "complexes = {\n",
    "    1: ('X', 'Y'),\n",
    "    2: ('Y', 'Y'),\n",
    "    3: ('Z')\n",
    "}\n",
    "\n",
    "# rxn_complex_2 = {\n",
    "#     1: ('A')\n",
    "# }\n",
    "lotka_graph.add_nodes_from(complexes.keys())"
   ]
  },
  {
   "cell_type": "markdown",
   "metadata": {},
   "source": [
    "### Complex-Stoichiometric Matrix"
   ]
  },
  {
   "cell_type": "code",
   "execution_count": 106,
   "metadata": {},
   "outputs": [],
   "source": [
    "def build_complex_stoichiometric_matrix(complexes):\n",
    "    \"\"\"\n",
    "    \"\"\"\n",
    "    # Create a list to store the output matrix.\n",
    "    output = list()\n",
    "    \n",
    "    # Create a set, which will contain all the unique compounds.\n",
    "    # chain.from_iterable unpacks, or flattens, nested lists.\n",
    "    species = sorted(set(itertools.chain.from_iterable(complexes.values())))\n",
    "    \n",
    "    for com in complexes.values():\n",
    "        \n",
    "        # Create a counter to count the occurences of species\n",
    "        # within each complex.\n",
    "        count = collections.Counter(com)\n",
    "        \n",
    "        # Create the stoichiometry row for this complex, and append it\n",
    "        # to the output list.\n",
    "        row = [count[s] for s in species]\n",
    "        output.append(row)\n",
    "    \n",
    "    # Return the transpose of a numpy matrix generated from the output list.\n",
    "    return np.matrix(output).T"
   ]
  },
  {
   "cell_type": "code",
   "execution_count": 107,
   "metadata": {},
   "outputs": [
    {
     "data": {
      "text/plain": [
       "matrix([[1, 0, 0],\n",
       "        [1, 2, 0],\n",
       "        [0, 0, 1]])"
      ]
     },
     "execution_count": 107,
     "metadata": {},
     "output_type": "execute_result"
    }
   ],
   "source": [
    "complex_stoich_matrix = Z = build_complex_stoichiometric_matrix(complexes)\n",
    "complex_stoich_matrix"
   ]
  },
  {
   "cell_type": "code",
   "execution_count": 108,
   "metadata": {},
   "outputs": [
    {
     "data": {
      "text/plain": [
       "matrix([[0, 0, 0],\n",
       "        [1, 2, 0],\n",
       "        [0, 0, 1]])"
      ]
     },
     "execution_count": 108,
     "metadata": {},
     "output_type": "execute_result"
    }
   ],
   "source": [
    "complex_stoich_matrix[0, 0] = 0\n",
    "complex_stoich_matrix"
   ]
  },
  {
   "cell_type": "markdown",
   "metadata": {},
   "source": [
    "### Add the edges\n",
    "\n",
    "Stoichiometry given by the number of edges.\n",
    "\n",
    "---"
   ]
  },
  {
   "cell_type": "code",
   "execution_count": 109,
   "metadata": {},
   "outputs": [
    {
     "data": {
      "text/plain": [
       "OutEdgeView([(1, 2), (2, 3)])"
      ]
     },
     "execution_count": 109,
     "metadata": {},
     "output_type": "execute_result"
    }
   ],
   "source": [
    "# Add the edges between each member on the left hand side of a reaction\n",
    "# to the right hand side. Create the same number of edges as the\n",
    "# reaction coefficient. We will label them by the reaction constant tag.\n",
    "c1 = lotka_graph.add_edge(1, 2, rxn='c1', rate=5.0)\n",
    "c2 = lotka_graph.add_edge(2, 3, rxn='c2', rate=0.005)\n",
    "lotka_graph.edges()"
   ]
  },
  {
   "cell_type": "code",
   "execution_count": 110,
   "metadata": {},
   "outputs": [
    {
     "data": {
      "text/plain": [
       "matrix([[-1.,  0.],\n",
       "        [ 1., -1.],\n",
       "        [ 0.,  1.]])"
      ]
     },
     "execution_count": 110,
     "metadata": {},
     "output_type": "execute_result"
    }
   ],
   "source": [
    "incidence_matrix = B = scipy.sparse.csr_matrix.todense(\n",
    "    nx.incidence_matrix(  # Assigns each row to a node and each column to an edge.\n",
    "        lotka_graph, \n",
    "        oriented=True,  # Enable +1 or -1 based on edge direction.\n",
    "        nodelist=sorted(complexes.keys())\n",
    "    ))\n",
    "incidence_matrix"
   ]
  },
  {
   "cell_type": "code",
   "execution_count": 111,
   "metadata": {},
   "outputs": [
    {
     "data": {
      "text/plain": [
       "matrix([[ 0.,  0.],\n",
       "        [ 1., -2.],\n",
       "        [ 0.,  1.]])"
      ]
     },
     "execution_count": 111,
     "metadata": {},
     "output_type": "execute_result"
    }
   ],
   "source": [
    "stoich_matrix = S = complex_stoich_matrix * incidence_matrix\n",
    "stoich_matrix"
   ]
  },
  {
   "cell_type": "code",
   "execution_count": 112,
   "metadata": {},
   "outputs": [
    {
     "data": {
      "text/plain": [
       "matrix([[ 0.,  0.],\n",
       "        [ 1., -2.],\n",
       "        [ 0.,  1.]])"
      ]
     },
     "execution_count": 112,
     "metadata": {},
     "output_type": "execute_result"
    }
   ],
   "source": [
    "np.dot(complex_stoich_matrix, incidence_matrix)"
   ]
  },
  {
   "cell_type": "markdown",
   "metadata": {},
   "source": [
    "### Define Rate Constants\n",
    "\n",
    "These are arbitrary constants, use whatever coefficient of time desired."
   ]
  },
  {
   "cell_type": "code",
   "execution_count": 113,
   "metadata": {},
   "outputs": [
    {
     "data": {
      "text/plain": [
       "matrix([[5000],\n",
       "        [3000],\n",
       "        [   1]])"
      ]
     },
     "execution_count": 113,
     "metadata": {},
     "output_type": "execute_result"
    }
   ],
   "source": [
    "species = x = np.matrix([5000, 3000, 1]).T\n",
    "x"
   ]
  },
  {
   "cell_type": "markdown",
   "metadata": {},
   "source": [
    "### Mass Action Kinetics\n",
    "\n",
    "*Modeling the relation between the reaction rates and species concentrations.*\n",
    "\n",
    "---"
   ]
  },
  {
   "cell_type": "markdown",
   "metadata": {},
   "source": [
    "$$\n",
    "v_j(x) = k_j e^{Z^{T}_{S_j} ln(x)}\n",
    "$$\n",
    "\n",
    "Where:\n",
    "\n",
    "+ $v$ : a vector of reaction rates.\n",
    "+ $x$ : denotes the species concentration vector.\n",
    "+ $j$ : denotes the j-th reaction.\n",
    "+ $Z$ : the complex-stoichiometric matrix.\n",
    "+ $S$ : Stoichiometric matrix.\n",
    "+ $Z_{S_j}$ : A column of the complex-stoichiometric matrix corresponding to the substrate complex j.\n",
    "+ $T$ : Denotes the transpose of this matrix."
   ]
  },
  {
   "cell_type": "code",
   "execution_count": 114,
   "metadata": {},
   "outputs": [
    {
     "data": {
      "text/plain": [
       "5.0"
      ]
     },
     "execution_count": 114,
     "metadata": {},
     "output_type": "execute_result"
    }
   ],
   "source": [
    "rates = nx.get_edge_attributes(lotka_graph, 'rate')\n",
    "rates[(1,2)]"
   ]
  },
  {
   "cell_type": "code",
   "execution_count": 115,
   "metadata": {},
   "outputs": [
    {
     "data": {
      "text/plain": [
       "matrix([[0, 0, 0],\n",
       "        [1, 2, 0],\n",
       "        [0, 0, 1]])"
      ]
     },
     "execution_count": 115,
     "metadata": {},
     "output_type": "execute_result"
    }
   ],
   "source": [
    "Z"
   ]
  },
  {
   "cell_type": "code",
   "execution_count": 101,
   "metadata": {},
   "outputs": [
    {
     "name": "stdout",
     "output_type": "stream",
     "text": [
      "[[15000.]]\n",
      "[[45000.]]\n"
     ]
    }
   ],
   "source": [
    "for idx, rate in enumerate(rates.values()):\n",
    "\n",
    "    \n",
    "    print(rate * np.exp(Z[:, idx].T * np.log(x)))"
   ]
  },
  {
   "cell_type": "code",
   "execution_count": null,
   "metadata": {},
   "outputs": [],
   "source": [
    "def gillespie_simulaste():\n",
    "    \n",
    "    # Calculate the mass-action.\n",
    "    \n",
    "    # Calculate the sum of the mass-action.\n",
    "    \n",
    "    # Create two random numbers.\n",
    "    \n",
    "    # Calculate tau.\n",
    "    \n",
    "    # Calculate mu.\n",
    "    \n",
    "    "
   ]
  },
  {
   "cell_type": "markdown",
   "metadata": {},
   "source": [
    "#### References\n",
    "\n",
    "1. https://arxiv.org/pdf/1211.6643.pdf\n",
    "2. http://www-users.math.umn.edu/~othmer/graphrt.pdf"
   ]
  },
  {
   "cell_type": "code",
   "execution_count": null,
   "metadata": {},
   "outputs": [],
   "source": []
  },
  {
   "cell_type": "code",
   "execution_count": null,
   "metadata": {},
   "outputs": [],
   "source": []
  }
 ],
 "metadata": {
  "kernelspec": {
   "display_name": "py36",
   "language": "python",
   "name": "py36"
  },
  "language_info": {
   "codemirror_mode": {
    "name": "ipython",
    "version": 3
   },
   "file_extension": ".py",
   "mimetype": "text/x-python",
   "name": "python",
   "nbconvert_exporter": "python",
   "pygments_lexer": "ipython3",
   "version": "3.6.4"
  }
 },
 "nbformat": 4,
 "nbformat_minor": 2
}
