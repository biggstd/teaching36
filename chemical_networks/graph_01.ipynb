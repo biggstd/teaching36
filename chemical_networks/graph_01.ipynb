{
 "cells": [
  {
   "cell_type": "markdown",
   "metadata": {
    "slideshow": {
     "slide_type": "slide"
    }
   },
   "source": [
    "# Introduction to Graph Theory and Applications\n",
    "\n",
    "An introduction to graph theory and its applications in chemistry.\n",
    "\n",
    "1. Overview of Graph Theory. Clark\n",
    "1. Overview of the `NetworkX` Python package. Andrew\n",
    "    + Reaction network.\n",
    "2. Example data set. Clark\n",
    "    + What are the nodes.\n",
    "    + What are the edges.\n",
    "    + Average v fluctuation in time.\n",
    "3. Walkthrough of applying `NetworkX` to the problem space. Tyler\n",
    "    + 3D with no edges.\n",
    "    + How to define an edge.\n",
    "    + 3D with with edges.\n",
    "    + Display / convert 2D represntation. (remove cartesian attributes)\n",
    "    + (local analysis) Edge distribution. \n",
    "    + Average v fluctuation per snapshot.\n",
    "    + Conversion to weighted graph.\n",
    "    + Radial distribution function.\n",
    "    + Extended network topology.\n",
    "    + Floyd Warshall.\n",
    "    "
   ]
  },
  {
   "cell_type": "markdown",
   "metadata": {
    "slideshow": {
     "slide_type": "slide"
    }
   },
   "source": [
    "## Overview of Graph Theory\n",
    "\n",
    "**TODO**"
   ]
  },
  {
   "cell_type": "markdown",
   "metadata": {
    "slideshow": {
     "slide_type": "slide"
    }
   },
   "source": [
    "## The NetworkX Package\n",
    "\n",
    "**From the `NetworkX` [documentation](https://networkx.github.io/documentation/stable/index.html)**:\n",
    "\n",
    "> NetworkX is a Python package for the creation, manipulation, and study of the structure, dynamics, and functions of complex networks.\n",
    ">\n",
    "> NetworkX provides\n",
    ">\n",
    ">+ tools for the study of the structure and dynamics of social, biological, and infrastructure networks;\n",
    ">+ a standard programming interface and graph implementation that is suitable for many applications;\n",
    ">+ a rapid development environment for collaborative, multidisciplinary projects;\n",
    "an interface to existing numerical algorithms and code written in C, C++, and FORTRAN; and\n",
    ">+ the ability to painlessly work with large nonstandard data sets.\n"
   ]
  },
  {
   "cell_type": "markdown",
   "metadata": {
    "slideshow": {
     "slide_type": "slide"
    }
   },
   "source": [
    "## Introduction to Using NetworkX\n",
    "\n",
    "Some resources to draw from when using and learning `NetworkX`.\n",
    "\n",
    "Also see:\n",
    "\n",
    "+ [The official tutorial](https://networkx.github.io/documentation/stable/tutorial.html).\n",
    "+ [Examples](https://networkx.github.io/documentation/stable/auto_examples/index.html)\n",
    "+ [The official reference document](https://networkx.github.io/documentation/stable/reference/index.html).\n",
    "+ [The source code](https://github.com/networkx/networkx).\n",
    "\n",
    "> ...The source code for each module is meant to be easy to read and reading this Python code is actually a good way to learn more about network algorithms, but we have put a lot of effort into making the documentation sufficient and friendly...."
   ]
  },
  {
   "cell_type": "code",
   "execution_count": 5,
   "metadata": {
    "slideshow": {
     "slide_type": "slide"
    }
   },
   "outputs": [],
   "source": [
    "# Import the package.\n",
    "# The `nx` abbreviation is used in the documentation.\n",
    "import networkx as nx"
   ]
  },
  {
   "cell_type": "code",
   "execution_count": 6,
   "metadata": {
    "slideshow": {
     "slide_type": "skip"
    }
   },
   "outputs": [],
   "source": [
    "# Hidden stuff for presenting.\n",
    "%matplotlib inline"
   ]
  },
  {
   "cell_type": "code",
   "execution_count": 7,
   "metadata": {
    "slideshow": {
     "slide_type": "slide"
    }
   },
   "outputs": [],
   "source": [
    "# Create a graph object.\n",
    "my_graph = nx.Graph()"
   ]
  },
  {
   "cell_type": "code",
   "execution_count": null,
   "metadata": {},
   "outputs": [],
   "source": []
  }
 ],
 "metadata": {
  "kernelspec": {
   "display_name": "py36",
   "language": "python",
   "name": "py36"
  },
  "language_info": {
   "codemirror_mode": {
    "name": "ipython",
    "version": 3
   },
   "file_extension": ".py",
   "mimetype": "text/x-python",
   "name": "python",
   "nbconvert_exporter": "python",
   "pygments_lexer": "ipython3",
   "version": "3.6.4"
  }
 },
 "nbformat": 4,
 "nbformat_minor": 2
}
